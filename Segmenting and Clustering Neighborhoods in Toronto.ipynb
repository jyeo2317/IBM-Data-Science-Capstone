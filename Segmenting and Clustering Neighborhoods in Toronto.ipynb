{
 "cells": [
  {
   "cell_type": "markdown",
   "metadata": {},
   "source": [
    "#### Data Scrapping from Wikipedia page"
   ]
  },
  {
   "cell_type": "code",
   "execution_count": 1,
   "metadata": {},
   "outputs": [],
   "source": [
    "import requests\n",
    "import pandas as pd\n",
    "import numpy as np\n",
    "from geopy.geocoders import Nominatim\n",
    "import folium\n",
    "import matplotlib.cm as cm\n",
    "import matplotlib.colors as colors"
   ]
  },
  {
   "cell_type": "code",
   "execution_count": 2,
   "metadata": {},
   "outputs": [
    {
     "data": {
      "text/html": [
       "<div>\n",
       "<style scoped>\n",
       "    .dataframe tbody tr th:only-of-type {\n",
       "        vertical-align: middle;\n",
       "    }\n",
       "\n",
       "    .dataframe tbody tr th {\n",
       "        vertical-align: top;\n",
       "    }\n",
       "\n",
       "    .dataframe thead th {\n",
       "        text-align: right;\n",
       "    }\n",
       "</style>\n",
       "<table border=\"1\" class=\"dataframe\">\n",
       "  <thead>\n",
       "    <tr style=\"text-align: right;\">\n",
       "      <th></th>\n",
       "      <th>Postal Code</th>\n",
       "      <th>Borough</th>\n",
       "      <th>Neighbourhood</th>\n",
       "    </tr>\n",
       "  </thead>\n",
       "  <tbody>\n",
       "    <tr>\n",
       "      <th>0</th>\n",
       "      <td>M1A</td>\n",
       "      <td>Not assigned</td>\n",
       "      <td>Not assigned</td>\n",
       "    </tr>\n",
       "    <tr>\n",
       "      <th>1</th>\n",
       "      <td>M2A</td>\n",
       "      <td>Not assigned</td>\n",
       "      <td>Not assigned</td>\n",
       "    </tr>\n",
       "    <tr>\n",
       "      <th>2</th>\n",
       "      <td>M3A</td>\n",
       "      <td>North York</td>\n",
       "      <td>Parkwoods</td>\n",
       "    </tr>\n",
       "    <tr>\n",
       "      <th>3</th>\n",
       "      <td>M4A</td>\n",
       "      <td>North York</td>\n",
       "      <td>Victoria Village</td>\n",
       "    </tr>\n",
       "    <tr>\n",
       "      <th>4</th>\n",
       "      <td>M5A</td>\n",
       "      <td>Downtown Toronto</td>\n",
       "      <td>Regent Park, Harbourfront</td>\n",
       "    </tr>\n",
       "  </tbody>\n",
       "</table>\n",
       "</div>"
      ],
      "text/plain": [
       "  Postal Code           Borough              Neighbourhood\n",
       "0         M1A      Not assigned               Not assigned\n",
       "1         M2A      Not assigned               Not assigned\n",
       "2         M3A        North York                  Parkwoods\n",
       "3         M4A        North York           Victoria Village\n",
       "4         M5A  Downtown Toronto  Regent Park, Harbourfront"
      ]
     },
     "execution_count": 2,
     "metadata": {},
     "output_type": "execute_result"
    }
   ],
   "source": [
    "wiki = 'https://en.wikipedia.org/wiki/List_of_postal_codes_of_Canada:_M'\n",
    "wikipedia_page = requests.get(wiki)\n",
    "\n",
    "df_raw = pd.read_html(wikipedia_page.content)[0]\n",
    "df_raw.head()"
   ]
  },
  {
   "cell_type": "markdown",
   "metadata": {},
   "source": [
    "#### Data Cleaning"
   ]
  },
  {
   "cell_type": "code",
   "execution_count": 3,
   "metadata": {},
   "outputs": [
    {
     "data": {
      "text/html": [
       "<div>\n",
       "<style scoped>\n",
       "    .dataframe tbody tr th:only-of-type {\n",
       "        vertical-align: middle;\n",
       "    }\n",
       "\n",
       "    .dataframe tbody tr th {\n",
       "        vertical-align: top;\n",
       "    }\n",
       "\n",
       "    .dataframe thead th {\n",
       "        text-align: right;\n",
       "    }\n",
       "</style>\n",
       "<table border=\"1\" class=\"dataframe\">\n",
       "  <thead>\n",
       "    <tr style=\"text-align: right;\">\n",
       "      <th></th>\n",
       "      <th>Postal Code</th>\n",
       "      <th>Borough</th>\n",
       "      <th>Neighbourhood</th>\n",
       "    </tr>\n",
       "  </thead>\n",
       "  <tbody>\n",
       "    <tr>\n",
       "      <th>2</th>\n",
       "      <td>M3A</td>\n",
       "      <td>North York</td>\n",
       "      <td>Parkwoods</td>\n",
       "    </tr>\n",
       "    <tr>\n",
       "      <th>3</th>\n",
       "      <td>M4A</td>\n",
       "      <td>North York</td>\n",
       "      <td>Victoria Village</td>\n",
       "    </tr>\n",
       "    <tr>\n",
       "      <th>4</th>\n",
       "      <td>M5A</td>\n",
       "      <td>Downtown Toronto</td>\n",
       "      <td>Regent Park, Harbourfront</td>\n",
       "    </tr>\n",
       "    <tr>\n",
       "      <th>5</th>\n",
       "      <td>M6A</td>\n",
       "      <td>North York</td>\n",
       "      <td>Lawrence Manor, Lawrence Heights</td>\n",
       "    </tr>\n",
       "    <tr>\n",
       "      <th>6</th>\n",
       "      <td>M7A</td>\n",
       "      <td>Downtown Toronto</td>\n",
       "      <td>Queen's Park, Ontario Provincial Government</td>\n",
       "    </tr>\n",
       "  </tbody>\n",
       "</table>\n",
       "</div>"
      ],
      "text/plain": [
       "  Postal Code           Borough                                Neighbourhood\n",
       "2         M3A        North York                                    Parkwoods\n",
       "3         M4A        North York                             Victoria Village\n",
       "4         M5A  Downtown Toronto                    Regent Park, Harbourfront\n",
       "5         M6A        North York             Lawrence Manor, Lawrence Heights\n",
       "6         M7A  Downtown Toronto  Queen's Park, Ontario Provincial Government"
      ]
     },
     "execution_count": 3,
     "metadata": {},
     "output_type": "execute_result"
    }
   ],
   "source": [
    "df = df_raw[df_raw.Borough != 'Not assigned']\n",
    "df.head()"
   ]
  },
  {
   "cell_type": "code",
   "execution_count": 4,
   "metadata": {},
   "outputs": [
    {
     "data": {
      "text/html": [
       "<div>\n",
       "<style scoped>\n",
       "    .dataframe tbody tr th:only-of-type {\n",
       "        vertical-align: middle;\n",
       "    }\n",
       "\n",
       "    .dataframe tbody tr th {\n",
       "        vertical-align: top;\n",
       "    }\n",
       "\n",
       "    .dataframe thead th {\n",
       "        text-align: right;\n",
       "    }\n",
       "</style>\n",
       "<table border=\"1\" class=\"dataframe\">\n",
       "  <thead>\n",
       "    <tr style=\"text-align: right;\">\n",
       "      <th></th>\n",
       "      <th>Postal Code</th>\n",
       "      <th>Borough</th>\n",
       "      <th>Neighbourhood</th>\n",
       "    </tr>\n",
       "  </thead>\n",
       "  <tbody>\n",
       "  </tbody>\n",
       "</table>\n",
       "</div>"
      ],
      "text/plain": [
       "Empty DataFrame\n",
       "Columns: [Postal Code, Borough, Neighbourhood]\n",
       "Index: []"
      ]
     },
     "execution_count": 4,
     "metadata": {},
     "output_type": "execute_result"
    }
   ],
   "source": [
    "df.loc[df.Neighbourhood == 'Not assigned']"
   ]
  },
  {
   "cell_type": "code",
   "execution_count": 5,
   "metadata": {},
   "outputs": [
    {
     "name": "stderr",
     "output_type": "stream",
     "text": [
      "C:\\Users\\dell\\anaconda3\\lib\\site-packages\\pandas\\core\\generic.py:6746: SettingWithCopyWarning: \n",
      "A value is trying to be set on a copy of a slice from a DataFrame\n",
      "\n",
      "See the caveats in the documentation: https://pandas.pydata.org/pandas-docs/stable/user_guide/indexing.html#returning-a-view-versus-a-copy\n",
      "  self._update_inplace(new_data)\n"
     ]
    },
    {
     "data": {
      "text/html": [
       "<div>\n",
       "<style scoped>\n",
       "    .dataframe tbody tr th:only-of-type {\n",
       "        vertical-align: middle;\n",
       "    }\n",
       "\n",
       "    .dataframe tbody tr th {\n",
       "        vertical-align: top;\n",
       "    }\n",
       "\n",
       "    .dataframe thead th {\n",
       "        text-align: right;\n",
       "    }\n",
       "</style>\n",
       "<table border=\"1\" class=\"dataframe\">\n",
       "  <thead>\n",
       "    <tr style=\"text-align: right;\">\n",
       "      <th></th>\n",
       "      <th>Postal Code</th>\n",
       "      <th>Borough</th>\n",
       "      <th>Neighbourhood</th>\n",
       "    </tr>\n",
       "  </thead>\n",
       "  <tbody>\n",
       "    <tr>\n",
       "      <th>2</th>\n",
       "      <td>M3A</td>\n",
       "      <td>North York</td>\n",
       "      <td>Parkwoods</td>\n",
       "    </tr>\n",
       "    <tr>\n",
       "      <th>3</th>\n",
       "      <td>M4A</td>\n",
       "      <td>North York</td>\n",
       "      <td>Victoria Village</td>\n",
       "    </tr>\n",
       "    <tr>\n",
       "      <th>4</th>\n",
       "      <td>M5A</td>\n",
       "      <td>Downtown Toronto</td>\n",
       "      <td>Regent Park, Harbourfront</td>\n",
       "    </tr>\n",
       "    <tr>\n",
       "      <th>5</th>\n",
       "      <td>M6A</td>\n",
       "      <td>North York</td>\n",
       "      <td>Lawrence Manor, Lawrence Heights</td>\n",
       "    </tr>\n",
       "    <tr>\n",
       "      <th>6</th>\n",
       "      <td>M7A</td>\n",
       "      <td>Downtown Toronto</td>\n",
       "      <td>Queen's Park, Ontario Provincial Government</td>\n",
       "    </tr>\n",
       "  </tbody>\n",
       "</table>\n",
       "</div>"
      ],
      "text/plain": [
       "  Postal Code           Borough                                Neighbourhood\n",
       "2         M3A        North York                                    Parkwoods\n",
       "3         M4A        North York                             Victoria Village\n",
       "4         M5A  Downtown Toronto                    Regent Park, Harbourfront\n",
       "5         M6A        North York             Lawrence Manor, Lawrence Heights\n",
       "6         M7A  Downtown Toronto  Queen's Park, Ontario Provincial Government"
      ]
     },
     "execution_count": 5,
     "metadata": {},
     "output_type": "execute_result"
    }
   ],
   "source": [
    "df.Neighbourhood.replace('Not assigned',df.Borough,inplace=True)\n",
    "df.head()"
   ]
  },
  {
   "cell_type": "code",
   "execution_count": 6,
   "metadata": {},
   "outputs": [
    {
     "data": {
      "text/html": [
       "<div>\n",
       "<style scoped>\n",
       "    .dataframe tbody tr th:only-of-type {\n",
       "        vertical-align: middle;\n",
       "    }\n",
       "\n",
       "    .dataframe tbody tr th {\n",
       "        vertical-align: top;\n",
       "    }\n",
       "\n",
       "    .dataframe thead th {\n",
       "        text-align: right;\n",
       "    }\n",
       "</style>\n",
       "<table border=\"1\" class=\"dataframe\">\n",
       "  <thead>\n",
       "    <tr style=\"text-align: right;\">\n",
       "      <th></th>\n",
       "      <th>Postal Code</th>\n",
       "      <th>Borough</th>\n",
       "      <th>Neighbourhood</th>\n",
       "    </tr>\n",
       "  </thead>\n",
       "  <tbody>\n",
       "    <tr>\n",
       "      <th>0</th>\n",
       "      <td>M1B</td>\n",
       "      <td>Scarborough</td>\n",
       "      <td>Malvern, Rouge</td>\n",
       "    </tr>\n",
       "    <tr>\n",
       "      <th>1</th>\n",
       "      <td>M1C</td>\n",
       "      <td>Scarborough</td>\n",
       "      <td>Rouge Hill, Port Union, Highland Creek</td>\n",
       "    </tr>\n",
       "    <tr>\n",
       "      <th>2</th>\n",
       "      <td>M1E</td>\n",
       "      <td>Scarborough</td>\n",
       "      <td>Guildwood, Morningside, West Hill</td>\n",
       "    </tr>\n",
       "    <tr>\n",
       "      <th>3</th>\n",
       "      <td>M1G</td>\n",
       "      <td>Scarborough</td>\n",
       "      <td>Woburn</td>\n",
       "    </tr>\n",
       "    <tr>\n",
       "      <th>4</th>\n",
       "      <td>M1H</td>\n",
       "      <td>Scarborough</td>\n",
       "      <td>Cedarbrae</td>\n",
       "    </tr>\n",
       "  </tbody>\n",
       "</table>\n",
       "</div>"
      ],
      "text/plain": [
       "  Postal Code      Borough                           Neighbourhood\n",
       "0         M1B  Scarborough                          Malvern, Rouge\n",
       "1         M1C  Scarborough  Rouge Hill, Port Union, Highland Creek\n",
       "2         M1E  Scarborough       Guildwood, Morningside, West Hill\n",
       "3         M1G  Scarborough                                  Woburn\n",
       "4         M1H  Scarborough                               Cedarbrae"
      ]
     },
     "execution_count": 6,
     "metadata": {},
     "output_type": "execute_result"
    }
   ],
   "source": [
    "df_toronto = df.groupby(['Postal Code', 'Borough'])['Neighbourhood'].apply(lambda x: ', '.join(x))\n",
    "df_toronto = df_toronto.reset_index()\n",
    "df_toronto.head()"
   ]
  },
  {
   "cell_type": "code",
   "execution_count": 7,
   "metadata": {},
   "outputs": [
    {
     "data": {
      "text/plain": [
       "(103, 3)"
      ]
     },
     "execution_count": 7,
     "metadata": {},
     "output_type": "execute_result"
    }
   ],
   "source": [
    "df_toronto.shape"
   ]
  },
  {
   "cell_type": "markdown",
   "metadata": {},
   "source": [
    "#### Question 2 - Use the Geocoder package or the csv file to create dataframe with longitude and latitude values"
   ]
  },
  {
   "cell_type": "code",
   "execution_count": 8,
   "metadata": {},
   "outputs": [
    {
     "data": {
      "text/html": [
       "<div>\n",
       "<style scoped>\n",
       "    .dataframe tbody tr th:only-of-type {\n",
       "        vertical-align: middle;\n",
       "    }\n",
       "\n",
       "    .dataframe tbody tr th {\n",
       "        vertical-align: top;\n",
       "    }\n",
       "\n",
       "    .dataframe thead th {\n",
       "        text-align: right;\n",
       "    }\n",
       "</style>\n",
       "<table border=\"1\" class=\"dataframe\">\n",
       "  <thead>\n",
       "    <tr style=\"text-align: right;\">\n",
       "      <th></th>\n",
       "      <th>Postal Code</th>\n",
       "      <th>Latitude</th>\n",
       "      <th>Longitude</th>\n",
       "    </tr>\n",
       "  </thead>\n",
       "  <tbody>\n",
       "    <tr>\n",
       "      <th>0</th>\n",
       "      <td>M1B</td>\n",
       "      <td>43.806686</td>\n",
       "      <td>-79.194353</td>\n",
       "    </tr>\n",
       "    <tr>\n",
       "      <th>1</th>\n",
       "      <td>M1C</td>\n",
       "      <td>43.784535</td>\n",
       "      <td>-79.160497</td>\n",
       "    </tr>\n",
       "    <tr>\n",
       "      <th>2</th>\n",
       "      <td>M1E</td>\n",
       "      <td>43.763573</td>\n",
       "      <td>-79.188711</td>\n",
       "    </tr>\n",
       "    <tr>\n",
       "      <th>3</th>\n",
       "      <td>M1G</td>\n",
       "      <td>43.770992</td>\n",
       "      <td>-79.216917</td>\n",
       "    </tr>\n",
       "    <tr>\n",
       "      <th>4</th>\n",
       "      <td>M1H</td>\n",
       "      <td>43.773136</td>\n",
       "      <td>-79.239476</td>\n",
       "    </tr>\n",
       "  </tbody>\n",
       "</table>\n",
       "</div>"
      ],
      "text/plain": [
       "  Postal Code   Latitude  Longitude\n",
       "0         M1B  43.806686 -79.194353\n",
       "1         M1C  43.784535 -79.160497\n",
       "2         M1E  43.763573 -79.188711\n",
       "3         M1G  43.770992 -79.216917\n",
       "4         M1H  43.773136 -79.239476"
      ]
     },
     "execution_count": 8,
     "metadata": {},
     "output_type": "execute_result"
    }
   ],
   "source": [
    "url = 'http://cocl.us/Geospatial_data'\n",
    "df_geo=pd.read_csv(url)\n",
    "df_geo.head()"
   ]
  },
  {
   "cell_type": "code",
   "execution_count": 9,
   "metadata": {},
   "outputs": [
    {
     "data": {
      "text/html": [
       "<div>\n",
       "<style scoped>\n",
       "    .dataframe tbody tr th:only-of-type {\n",
       "        vertical-align: middle;\n",
       "    }\n",
       "\n",
       "    .dataframe tbody tr th {\n",
       "        vertical-align: top;\n",
       "    }\n",
       "\n",
       "    .dataframe thead th {\n",
       "        text-align: right;\n",
       "    }\n",
       "</style>\n",
       "<table border=\"1\" class=\"dataframe\">\n",
       "  <thead>\n",
       "    <tr style=\"text-align: right;\">\n",
       "      <th></th>\n",
       "      <th>Postal Code</th>\n",
       "      <th>Borough</th>\n",
       "      <th>Neighbourhood</th>\n",
       "      <th>Latitude</th>\n",
       "      <th>Longitude</th>\n",
       "    </tr>\n",
       "  </thead>\n",
       "  <tbody>\n",
       "    <tr>\n",
       "      <th>0</th>\n",
       "      <td>M1B</td>\n",
       "      <td>Scarborough</td>\n",
       "      <td>Malvern, Rouge</td>\n",
       "      <td>43.806686</td>\n",
       "      <td>-79.194353</td>\n",
       "    </tr>\n",
       "    <tr>\n",
       "      <th>1</th>\n",
       "      <td>M1C</td>\n",
       "      <td>Scarborough</td>\n",
       "      <td>Rouge Hill, Port Union, Highland Creek</td>\n",
       "      <td>43.784535</td>\n",
       "      <td>-79.160497</td>\n",
       "    </tr>\n",
       "    <tr>\n",
       "      <th>2</th>\n",
       "      <td>M1E</td>\n",
       "      <td>Scarborough</td>\n",
       "      <td>Guildwood, Morningside, West Hill</td>\n",
       "      <td>43.763573</td>\n",
       "      <td>-79.188711</td>\n",
       "    </tr>\n",
       "    <tr>\n",
       "      <th>3</th>\n",
       "      <td>M1G</td>\n",
       "      <td>Scarborough</td>\n",
       "      <td>Woburn</td>\n",
       "      <td>43.770992</td>\n",
       "      <td>-79.216917</td>\n",
       "    </tr>\n",
       "    <tr>\n",
       "      <th>4</th>\n",
       "      <td>M1H</td>\n",
       "      <td>Scarborough</td>\n",
       "      <td>Cedarbrae</td>\n",
       "      <td>43.773136</td>\n",
       "      <td>-79.239476</td>\n",
       "    </tr>\n",
       "  </tbody>\n",
       "</table>\n",
       "</div>"
      ],
      "text/plain": [
       "  Postal Code      Borough                           Neighbourhood   Latitude  \\\n",
       "0         M1B  Scarborough                          Malvern, Rouge  43.806686   \n",
       "1         M1C  Scarborough  Rouge Hill, Port Union, Highland Creek  43.784535   \n",
       "2         M1E  Scarborough       Guildwood, Morningside, West Hill  43.763573   \n",
       "3         M1G  Scarborough                                  Woburn  43.770992   \n",
       "4         M1H  Scarborough                               Cedarbrae  43.773136   \n",
       "\n",
       "   Longitude  \n",
       "0 -79.194353  \n",
       "1 -79.160497  \n",
       "2 -79.188711  \n",
       "3 -79.216917  \n",
       "4 -79.239476  "
      ]
     },
     "execution_count": 9,
     "metadata": {},
     "output_type": "execute_result"
    }
   ],
   "source": [
    "df_toronto = df_toronto.merge(df_geo, on= ['Postal Code','Postal Code'], how = 'left')\n",
    "df_toronto.head()"
   ]
  },
  {
   "cell_type": "markdown",
   "metadata": {},
   "source": [
    "#### Part 3"
   ]
  },
  {
   "cell_type": "code",
   "execution_count": 10,
   "metadata": {},
   "outputs": [
    {
     "data": {
      "text/html": [
       "<div>\n",
       "<style scoped>\n",
       "    .dataframe tbody tr th:only-of-type {\n",
       "        vertical-align: middle;\n",
       "    }\n",
       "\n",
       "    .dataframe tbody tr th {\n",
       "        vertical-align: top;\n",
       "    }\n",
       "\n",
       "    .dataframe thead th {\n",
       "        text-align: right;\n",
       "    }\n",
       "</style>\n",
       "<table border=\"1\" class=\"dataframe\">\n",
       "  <thead>\n",
       "    <tr style=\"text-align: right;\">\n",
       "      <th></th>\n",
       "      <th>Postal Code</th>\n",
       "      <th>Borough</th>\n",
       "      <th>Neighbourhood</th>\n",
       "      <th>Latitude</th>\n",
       "      <th>Longitude</th>\n",
       "    </tr>\n",
       "  </thead>\n",
       "  <tbody>\n",
       "    <tr>\n",
       "      <th>0</th>\n",
       "      <td>M4E</td>\n",
       "      <td>East Toronto</td>\n",
       "      <td>The Beaches</td>\n",
       "      <td>43.676357</td>\n",
       "      <td>-79.293031</td>\n",
       "    </tr>\n",
       "    <tr>\n",
       "      <th>1</th>\n",
       "      <td>M4K</td>\n",
       "      <td>East Toronto</td>\n",
       "      <td>The Danforth West, Riverdale</td>\n",
       "      <td>43.679557</td>\n",
       "      <td>-79.352188</td>\n",
       "    </tr>\n",
       "    <tr>\n",
       "      <th>2</th>\n",
       "      <td>M4L</td>\n",
       "      <td>East Toronto</td>\n",
       "      <td>India Bazaar, The Beaches West</td>\n",
       "      <td>43.668999</td>\n",
       "      <td>-79.315572</td>\n",
       "    </tr>\n",
       "    <tr>\n",
       "      <th>3</th>\n",
       "      <td>M4M</td>\n",
       "      <td>East Toronto</td>\n",
       "      <td>Studio District</td>\n",
       "      <td>43.659526</td>\n",
       "      <td>-79.340923</td>\n",
       "    </tr>\n",
       "    <tr>\n",
       "      <th>4</th>\n",
       "      <td>M4N</td>\n",
       "      <td>Central Toronto</td>\n",
       "      <td>Lawrence Park</td>\n",
       "      <td>43.728020</td>\n",
       "      <td>-79.388790</td>\n",
       "    </tr>\n",
       "  </tbody>\n",
       "</table>\n",
       "</div>"
      ],
      "text/plain": [
       "  Postal Code          Borough                   Neighbourhood   Latitude  \\\n",
       "0         M4E     East Toronto                     The Beaches  43.676357   \n",
       "1         M4K     East Toronto    The Danforth West, Riverdale  43.679557   \n",
       "2         M4L     East Toronto  India Bazaar, The Beaches West  43.668999   \n",
       "3         M4M     East Toronto                 Studio District  43.659526   \n",
       "4         M4N  Central Toronto                   Lawrence Park  43.728020   \n",
       "\n",
       "   Longitude  \n",
       "0 -79.293031  \n",
       "1 -79.352188  \n",
       "2 -79.315572  \n",
       "3 -79.340923  \n",
       "4 -79.388790  "
      ]
     },
     "execution_count": 10,
     "metadata": {},
     "output_type": "execute_result"
    }
   ],
   "source": [
    "df_toronto=df_toronto[df_toronto['Borough'].str.contains('Toronto')]\n",
    "df_toronto=df_toronto.reset_index(drop=True)\n",
    "df_toronto.head()"
   ]
  },
  {
   "cell_type": "code",
   "execution_count": 11,
   "metadata": {},
   "outputs": [
    {
     "data": {
      "text/plain": [
       "Downtown Toronto    19\n",
       "Central Toronto      9\n",
       "West Toronto         6\n",
       "East Toronto         5\n",
       "Name: Borough, dtype: int64"
      ]
     },
     "execution_count": 11,
     "metadata": {},
     "output_type": "execute_result"
    }
   ],
   "source": [
    "df_toronto['Borough'].value_counts()"
   ]
  },
  {
   "cell_type": "code",
   "execution_count": 12,
   "metadata": {},
   "outputs": [
    {
     "data": {
      "text/html": [
       "<div>\n",
       "<style scoped>\n",
       "    .dataframe tbody tr th:only-of-type {\n",
       "        vertical-align: middle;\n",
       "    }\n",
       "\n",
       "    .dataframe tbody tr th {\n",
       "        vertical-align: top;\n",
       "    }\n",
       "\n",
       "    .dataframe thead th {\n",
       "        text-align: right;\n",
       "    }\n",
       "</style>\n",
       "<table border=\"1\" class=\"dataframe\">\n",
       "  <thead>\n",
       "    <tr style=\"text-align: right;\">\n",
       "      <th></th>\n",
       "      <th>Postal Code</th>\n",
       "      <th>Borough</th>\n",
       "      <th>Neighbourhood</th>\n",
       "      <th>Latitude</th>\n",
       "      <th>Longitude</th>\n",
       "      <th>Label</th>\n",
       "    </tr>\n",
       "  </thead>\n",
       "  <tbody>\n",
       "    <tr>\n",
       "      <th>0</th>\n",
       "      <td>M4E</td>\n",
       "      <td>East Toronto</td>\n",
       "      <td>The Beaches</td>\n",
       "      <td>43.676357</td>\n",
       "      <td>-79.293031</td>\n",
       "      <td>4</td>\n",
       "    </tr>\n",
       "    <tr>\n",
       "      <th>1</th>\n",
       "      <td>M4K</td>\n",
       "      <td>East Toronto</td>\n",
       "      <td>The Danforth West, Riverdale</td>\n",
       "      <td>43.679557</td>\n",
       "      <td>-79.352188</td>\n",
       "      <td>4</td>\n",
       "    </tr>\n",
       "    <tr>\n",
       "      <th>2</th>\n",
       "      <td>M4L</td>\n",
       "      <td>East Toronto</td>\n",
       "      <td>India Bazaar, The Beaches West</td>\n",
       "      <td>43.668999</td>\n",
       "      <td>-79.315572</td>\n",
       "      <td>4</td>\n",
       "    </tr>\n",
       "    <tr>\n",
       "      <th>3</th>\n",
       "      <td>M4M</td>\n",
       "      <td>East Toronto</td>\n",
       "      <td>Studio District</td>\n",
       "      <td>43.659526</td>\n",
       "      <td>-79.340923</td>\n",
       "      <td>4</td>\n",
       "    </tr>\n",
       "    <tr>\n",
       "      <th>4</th>\n",
       "      <td>M4N</td>\n",
       "      <td>Central Toronto</td>\n",
       "      <td>Lawrence Park</td>\n",
       "      <td>43.728020</td>\n",
       "      <td>-79.388790</td>\n",
       "      <td>2</td>\n",
       "    </tr>\n",
       "  </tbody>\n",
       "</table>\n",
       "</div>"
      ],
      "text/plain": [
       "  Postal Code          Borough                   Neighbourhood   Latitude  \\\n",
       "0         M4E     East Toronto                     The Beaches  43.676357   \n",
       "1         M4K     East Toronto    The Danforth West, Riverdale  43.679557   \n",
       "2         M4L     East Toronto  India Bazaar, The Beaches West  43.668999   \n",
       "3         M4M     East Toronto                 Studio District  43.659526   \n",
       "4         M4N  Central Toronto                   Lawrence Park  43.728020   \n",
       "\n",
       "   Longitude  Label  \n",
       "0 -79.293031      4  \n",
       "1 -79.352188      4  \n",
       "2 -79.315572      4  \n",
       "3 -79.340923      4  \n",
       "4 -79.388790      2  "
      ]
     },
     "execution_count": 12,
     "metadata": {},
     "output_type": "execute_result"
    }
   ],
   "source": [
    "df_toronto['Label']=df_toronto['Borough'].replace(to_replace=['Downtown Toronto','Central Toronto','West Toronto','East Toronto'],value=[1,2,3,4],inplace=False)\n",
    "df_toronto.head()"
   ]
  },
  {
   "cell_type": "code",
   "execution_count": 13,
   "metadata": {},
   "outputs": [
    {
     "name": "stdout",
     "output_type": "stream",
     "text": [
      "The geograpical coordinate of Toronto are 43.6534817, -79.3839347.\n"
     ]
    }
   ],
   "source": [
    "address = 'Toronto'\n",
    "geolocator = Nominatim(user_agent=\"toronto_explorer\")\n",
    "location = geolocator.geocode(address)\n",
    "latitude = location.latitude\n",
    "longitude = location.longitude\n",
    "print(f'The geograpical coordinate of Toronto are {latitude}, {longitude}.')"
   ]
  },
  {
   "cell_type": "code",
   "execution_count": 14,
   "metadata": {},
   "outputs": [],
   "source": [
    "#for set the cluster number as label number\n",
    "kclusters=len(df_toronto.Label.unique())\n",
    "\n",
    "# create map\n",
    "map_toronto = folium.Map(location=[latitude, longitude], zoom_start=11)\n",
    "\n",
    "# set color scheme for the clusters\n",
    "x = np.arange(kclusters)\n",
    "ys = [i + x + (i*x)**2 for i in range(kclusters)]\n",
    "colors_array = cm.rainbow(np.linspace(0, 1, len(ys)))\n",
    "rainbow = [colors.rgb2hex(i) for i in colors_array]\n",
    "\n",
    "# add markers to the map\n",
    "markers_colors = []\n",
    "for lat, lon, cluster in zip(df_toronto['Latitude'], df_toronto['Longitude'], df_toronto['Label']):\n",
    "    label = folium.Popup(str(df_toronto['Borough']) + ' Cluster ' + str(cluster), parse_html=True)\n",
    "    folium.CircleMarker(\n",
    "        [lat, lon],\n",
    "        radius=5,\n",
    "        popup=label,\n",
    "        color=rainbow[cluster-1],\n",
    "        fill=True,\n",
    "        fill_color=rainbow[cluster-1],\n",
    "        fill_opacity=0.7).add_to(map_toronto)"
   ]
  },
  {
   "cell_type": "markdown",
   "metadata": {},
   "source": [
    "Data visualisation of Toronto with clustering"
   ]
  },
  {
   "cell_type": "code",
   "execution_count": 16,
   "metadata": {},
   "outputs": [
    {
     "data": {
      "text/html": [
       "<div style=\"width:100%;\"><div style=\"position:relative;width:100%;height:0;padding-bottom:60%;\"><span style=\"color:#565656\">Make this Notebook Trusted to load map: File -> Trust Notebook</span><iframe src=\"about:blank\" style=\"position:absolute;width:100%;height:100%;left:0;top:0;border:none !important;\" data-html=%3C%21DOCTYPE%20html%3E%0A%3Chead%3E%20%20%20%20%0A%20%20%20%20%3Cmeta%20http-equiv%3D%22content-type%22%20content%3D%22text/html%3B%20charset%3DUTF-8%22%20/%3E%0A%20%20%20%20%0A%20%20%20%20%20%20%20%20%3Cscript%3E%0A%20%20%20%20%20%20%20%20%20%20%20%20L_NO_TOUCH%20%3D%20false%3B%0A%20%20%20%20%20%20%20%20%20%20%20%20L_DISABLE_3D%20%3D%20false%3B%0A%20%20%20%20%20%20%20%20%3C/script%3E%0A%20%20%20%20%0A%20%20%20%20%3Cstyle%3Ehtml%2C%20body%20%7Bwidth%3A%20100%25%3Bheight%3A%20100%25%3Bmargin%3A%200%3Bpadding%3A%200%3B%7D%3C/style%3E%0A%20%20%20%20%3Cstyle%3E%23map%20%7Bposition%3Aabsolute%3Btop%3A0%3Bbottom%3A0%3Bright%3A0%3Bleft%3A0%3B%7D%3C/style%3E%0A%20%20%20%20%3Cscript%20src%3D%22https%3A//cdn.jsdelivr.net/npm/leaflet%401.6.0/dist/leaflet.js%22%3E%3C/script%3E%0A%20%20%20%20%3Cscript%20src%3D%22https%3A//code.jquery.com/jquery-1.12.4.min.js%22%3E%3C/script%3E%0A%20%20%20%20%3Cscript%20src%3D%22https%3A//maxcdn.bootstrapcdn.com/bootstrap/3.2.0/js/bootstrap.min.js%22%3E%3C/script%3E%0A%20%20%20%20%3Cscript%20src%3D%22https%3A//cdnjs.cloudflare.com/ajax/libs/Leaflet.awesome-markers/2.0.2/leaflet.awesome-markers.js%22%3E%3C/script%3E%0A%20%20%20%20%3Clink%20rel%3D%22stylesheet%22%20href%3D%22https%3A//cdn.jsdelivr.net/npm/leaflet%401.6.0/dist/leaflet.css%22/%3E%0A%20%20%20%20%3Clink%20rel%3D%22stylesheet%22%20href%3D%22https%3A//maxcdn.bootstrapcdn.com/bootstrap/3.2.0/css/bootstrap.min.css%22/%3E%0A%20%20%20%20%3Clink%20rel%3D%22stylesheet%22%20href%3D%22https%3A//maxcdn.bootstrapcdn.com/bootstrap/3.2.0/css/bootstrap-theme.min.css%22/%3E%0A%20%20%20%20%3Clink%20rel%3D%22stylesheet%22%20href%3D%22https%3A//maxcdn.bootstrapcdn.com/font-awesome/4.6.3/css/font-awesome.min.css%22/%3E%0A%20%20%20%20%3Clink%20rel%3D%22stylesheet%22%20href%3D%22https%3A//cdnjs.cloudflare.com/ajax/libs/Leaflet.awesome-markers/2.0.2/leaflet.awesome-markers.css%22/%3E%0A%20%20%20%20%3Clink%20rel%3D%22stylesheet%22%20href%3D%22https%3A//cdn.jsdelivr.net/gh/python-visualization/folium/folium/templates/leaflet.awesome.rotate.min.css%22/%3E%0A%20%20%20%20%0A%20%20%20%20%20%20%20%20%20%20%20%20%3Cmeta%20name%3D%22viewport%22%20content%3D%22width%3Ddevice-width%2C%0A%20%20%20%20%20%20%20%20%20%20%20%20%20%20%20%20initial-scale%3D1.0%2C%20maximum-scale%3D1.0%2C%20user-scalable%3Dno%22%20/%3E%0A%20%20%20%20%20%20%20%20%20%20%20%20%3Cstyle%3E%0A%20%20%20%20%20%20%20%20%20%20%20%20%20%20%20%20%23map_a5a5d264a4c548d695ba7c6917d01407%20%7B%0A%20%20%20%20%20%20%20%20%20%20%20%20%20%20%20%20%20%20%20%20position%3A%20relative%3B%0A%20%20%20%20%20%20%20%20%20%20%20%20%20%20%20%20%20%20%20%20width%3A%20100.0%25%3B%0A%20%20%20%20%20%20%20%20%20%20%20%20%20%20%20%20%20%20%20%20height%3A%20100.0%25%3B%0A%20%20%20%20%20%20%20%20%20%20%20%20%20%20%20%20%20%20%20%20left%3A%200.0%25%3B%0A%20%20%20%20%20%20%20%20%20%20%20%20%20%20%20%20%20%20%20%20top%3A%200.0%25%3B%0A%20%20%20%20%20%20%20%20%20%20%20%20%20%20%20%20%7D%0A%20%20%20%20%20%20%20%20%20%20%20%20%3C/style%3E%0A%20%20%20%20%20%20%20%20%0A%3C/head%3E%0A%3Cbody%3E%20%20%20%20%0A%20%20%20%20%0A%20%20%20%20%20%20%20%20%20%20%20%20%3Cdiv%20class%3D%22folium-map%22%20id%3D%22map_a5a5d264a4c548d695ba7c6917d01407%22%20%3E%3C/div%3E%0A%20%20%20%20%20%20%20%20%0A%3C/body%3E%0A%3Cscript%3E%20%20%20%20%0A%20%20%20%20%0A%20%20%20%20%20%20%20%20%20%20%20%20var%20map_a5a5d264a4c548d695ba7c6917d01407%20%3D%20L.map%28%0A%20%20%20%20%20%20%20%20%20%20%20%20%20%20%20%20%22map_a5a5d264a4c548d695ba7c6917d01407%22%2C%0A%20%20%20%20%20%20%20%20%20%20%20%20%20%20%20%20%7B%0A%20%20%20%20%20%20%20%20%20%20%20%20%20%20%20%20%20%20%20%20center%3A%20%5B43.6534817%2C%20-79.3839347%5D%2C%0A%20%20%20%20%20%20%20%20%20%20%20%20%20%20%20%20%20%20%20%20crs%3A%20L.CRS.EPSG3857%2C%0A%20%20%20%20%20%20%20%20%20%20%20%20%20%20%20%20%20%20%20%20zoom%3A%2011%2C%0A%20%20%20%20%20%20%20%20%20%20%20%20%20%20%20%20%20%20%20%20zoomControl%3A%20true%2C%0A%20%20%20%20%20%20%20%20%20%20%20%20%20%20%20%20%20%20%20%20preferCanvas%3A%20false%2C%0A%20%20%20%20%20%20%20%20%20%20%20%20%20%20%20%20%7D%0A%20%20%20%20%20%20%20%20%20%20%20%20%29%3B%0A%0A%20%20%20%20%20%20%20%20%20%20%20%20%0A%0A%20%20%20%20%20%20%20%20%0A%20%20%20%20%0A%20%20%20%20%20%20%20%20%20%20%20%20var%20tile_layer_476d991b4a744355b56cc14221bf94e1%20%3D%20L.tileLayer%28%0A%20%20%20%20%20%20%20%20%20%20%20%20%20%20%20%20%22https%3A//%7Bs%7D.tile.openstreetmap.org/%7Bz%7D/%7Bx%7D/%7By%7D.png%22%2C%0A%20%20%20%20%20%20%20%20%20%20%20%20%20%20%20%20%7B%22attribution%22%3A%20%22Data%20by%20%5Cu0026copy%3B%20%5Cu003ca%20href%3D%5C%22http%3A//openstreetmap.org%5C%22%5Cu003eOpenStreetMap%5Cu003c/a%5Cu003e%2C%20under%20%5Cu003ca%20href%3D%5C%22http%3A//www.openstreetmap.org/copyright%5C%22%5Cu003eODbL%5Cu003c/a%5Cu003e.%22%2C%20%22detectRetina%22%3A%20false%2C%20%22maxNativeZoom%22%3A%2018%2C%20%22maxZoom%22%3A%2018%2C%20%22minZoom%22%3A%200%2C%20%22noWrap%22%3A%20false%2C%20%22opacity%22%3A%201%2C%20%22subdomains%22%3A%20%22abc%22%2C%20%22tms%22%3A%20false%7D%0A%20%20%20%20%20%20%20%20%20%20%20%20%29.addTo%28map_a5a5d264a4c548d695ba7c6917d01407%29%3B%0A%20%20%20%20%20%20%20%20%0A%20%20%20%20%0A%20%20%20%20%20%20%20%20%20%20%20%20var%20circle_marker_56cc8008163d4a489b351890b4cc6f56%20%3D%20L.circleMarker%28%0A%20%20%20%20%20%20%20%20%20%20%20%20%20%20%20%20%5B43.67635739999999%2C%20-79.2930312%5D%2C%0A%20%20%20%20%20%20%20%20%20%20%20%20%20%20%20%20%7B%22bubblingMouseEvents%22%3A%20true%2C%20%22color%22%3A%20%22%23ff0000%22%2C%20%22dashArray%22%3A%20null%2C%20%22dashOffset%22%3A%20null%2C%20%22fill%22%3A%20true%2C%20%22fillColor%22%3A%20%22%23ff0000%22%2C%20%22fillOpacity%22%3A%200.7%2C%20%22fillRule%22%3A%20%22evenodd%22%2C%20%22lineCap%22%3A%20%22round%22%2C%20%22lineJoin%22%3A%20%22round%22%2C%20%22opacity%22%3A%201.0%2C%20%22radius%22%3A%205%2C%20%22stroke%22%3A%20true%2C%20%22weight%22%3A%203%7D%0A%20%20%20%20%20%20%20%20%20%20%20%20%29.addTo%28map_a5a5d264a4c548d695ba7c6917d01407%29%3B%0A%20%20%20%20%20%20%20%20%0A%20%20%20%20%0A%20%20%20%20%20%20%20%20var%20popup_b508f75611334ac28970d010bf25a9d7%20%3D%20L.popup%28%7B%22maxWidth%22%3A%20%22100%25%22%7D%29%3B%0A%0A%20%20%20%20%20%20%20%20%0A%20%20%20%20%20%20%20%20%20%20%20%20var%20html_77ec8c8f31924e43ab97c25c05910440%20%3D%20%24%28%60%3Cdiv%20id%3D%22html_77ec8c8f31924e43ab97c25c05910440%22%20style%3D%22width%3A%20100.0%25%3B%20height%3A%20100.0%25%3B%22%3E0%20%20%20%20%20%20%20%20%20East%20Toronto%201%20%20%20%20%20%20%20%20%20East%20Toronto%202%20%20%20%20%20%20%20%20%20East%20Toronto%203%20%20%20%20%20%20%20%20%20East%20Toronto%204%20%20%20%20%20%20Central%20Toronto%205%20%20%20%20%20%20Central%20Toronto%206%20%20%20%20%20%20Central%20Toronto%207%20%20%20%20%20%20Central%20Toronto%208%20%20%20%20%20%20Central%20Toronto%209%20%20%20%20%20%20Central%20Toronto%2010%20%20%20%20Downtown%20Toronto%2011%20%20%20%20Downtown%20Toronto%2012%20%20%20%20Downtown%20Toronto%2013%20%20%20%20Downtown%20Toronto%2014%20%20%20%20Downtown%20Toronto%2015%20%20%20%20Downtown%20Toronto%2016%20%20%20%20Downtown%20Toronto%2017%20%20%20%20Downtown%20Toronto%2018%20%20%20%20Downtown%20Toronto%2019%20%20%20%20Downtown%20Toronto%2020%20%20%20%20Downtown%20Toronto%2021%20%20%20%20Downtown%20Toronto%2022%20%20%20%20%20Central%20Toronto%2023%20%20%20%20%20Central%20Toronto%2024%20%20%20%20%20Central%20Toronto%2025%20%20%20%20Downtown%20Toronto%2026%20%20%20%20Downtown%20Toronto%2027%20%20%20%20Downtown%20Toronto%2028%20%20%20%20Downtown%20Toronto%2029%20%20%20%20Downtown%20Toronto%2030%20%20%20%20Downtown%20Toronto%2031%20%20%20%20%20%20%20%20West%20Toronto%2032%20%20%20%20%20%20%20%20West%20Toronto%2033%20%20%20%20%20%20%20%20West%20Toronto%2034%20%20%20%20%20%20%20%20West%20Toronto%2035%20%20%20%20%20%20%20%20West%20Toronto%2036%20%20%20%20%20%20%20%20West%20Toronto%2037%20%20%20%20Downtown%20Toronto%2038%20%20%20%20%20%20%20%20East%20Toronto%20Name%3A%20Borough%2C%20dtype%3A%20object%20Cluster%204%3C/div%3E%60%29%5B0%5D%3B%0A%20%20%20%20%20%20%20%20%20%20%20%20popup_b508f75611334ac28970d010bf25a9d7.setContent%28html_77ec8c8f31924e43ab97c25c05910440%29%3B%0A%20%20%20%20%20%20%20%20%0A%0A%20%20%20%20%20%20%20%20circle_marker_56cc8008163d4a489b351890b4cc6f56.bindPopup%28popup_b508f75611334ac28970d010bf25a9d7%29%0A%20%20%20%20%20%20%20%20%3B%0A%0A%20%20%20%20%20%20%20%20%0A%20%20%20%20%0A%20%20%20%20%0A%20%20%20%20%20%20%20%20%20%20%20%20var%20circle_marker_cd6d2c133f8a4c688bc615d72b916379%20%3D%20L.circleMarker%28%0A%20%20%20%20%20%20%20%20%20%20%20%20%20%20%20%20%5B43.6795571%2C%20-79.352188%5D%2C%0A%20%20%20%20%20%20%20%20%20%20%20%20%20%20%20%20%7B%22bubblingMouseEvents%22%3A%20true%2C%20%22color%22%3A%20%22%23ff0000%22%2C%20%22dashArray%22%3A%20null%2C%20%22dashOffset%22%3A%20null%2C%20%22fill%22%3A%20true%2C%20%22fillColor%22%3A%20%22%23ff0000%22%2C%20%22fillOpacity%22%3A%200.7%2C%20%22fillRule%22%3A%20%22evenodd%22%2C%20%22lineCap%22%3A%20%22round%22%2C%20%22lineJoin%22%3A%20%22round%22%2C%20%22opacity%22%3A%201.0%2C%20%22radius%22%3A%205%2C%20%22stroke%22%3A%20true%2C%20%22weight%22%3A%203%7D%0A%20%20%20%20%20%20%20%20%20%20%20%20%29.addTo%28map_a5a5d264a4c548d695ba7c6917d01407%29%3B%0A%20%20%20%20%20%20%20%20%0A%20%20%20%20%0A%20%20%20%20%20%20%20%20var%20popup_b7c03036cd8148039a57012ef2a5fc51%20%3D%20L.popup%28%7B%22maxWidth%22%3A%20%22100%25%22%7D%29%3B%0A%0A%20%20%20%20%20%20%20%20%0A%20%20%20%20%20%20%20%20%20%20%20%20var%20html_0e60d62cccf24ac7a71f5165537bf076%20%3D%20%24%28%60%3Cdiv%20id%3D%22html_0e60d62cccf24ac7a71f5165537bf076%22%20style%3D%22width%3A%20100.0%25%3B%20height%3A%20100.0%25%3B%22%3E0%20%20%20%20%20%20%20%20%20East%20Toronto%201%20%20%20%20%20%20%20%20%20East%20Toronto%202%20%20%20%20%20%20%20%20%20East%20Toronto%203%20%20%20%20%20%20%20%20%20East%20Toronto%204%20%20%20%20%20%20Central%20Toronto%205%20%20%20%20%20%20Central%20Toronto%206%20%20%20%20%20%20Central%20Toronto%207%20%20%20%20%20%20Central%20Toronto%208%20%20%20%20%20%20Central%20Toronto%209%20%20%20%20%20%20Central%20Toronto%2010%20%20%20%20Downtown%20Toronto%2011%20%20%20%20Downtown%20Toronto%2012%20%20%20%20Downtown%20Toronto%2013%20%20%20%20Downtown%20Toronto%2014%20%20%20%20Downtown%20Toronto%2015%20%20%20%20Downtown%20Toronto%2016%20%20%20%20Downtown%20Toronto%2017%20%20%20%20Downtown%20Toronto%2018%20%20%20%20Downtown%20Toronto%2019%20%20%20%20Downtown%20Toronto%2020%20%20%20%20Downtown%20Toronto%2021%20%20%20%20Downtown%20Toronto%2022%20%20%20%20%20Central%20Toronto%2023%20%20%20%20%20Central%20Toronto%2024%20%20%20%20%20Central%20Toronto%2025%20%20%20%20Downtown%20Toronto%2026%20%20%20%20Downtown%20Toronto%2027%20%20%20%20Downtown%20Toronto%2028%20%20%20%20Downtown%20Toronto%2029%20%20%20%20Downtown%20Toronto%2030%20%20%20%20Downtown%20Toronto%2031%20%20%20%20%20%20%20%20West%20Toronto%2032%20%20%20%20%20%20%20%20West%20Toronto%2033%20%20%20%20%20%20%20%20West%20Toronto%2034%20%20%20%20%20%20%20%20West%20Toronto%2035%20%20%20%20%20%20%20%20West%20Toronto%2036%20%20%20%20%20%20%20%20West%20Toronto%2037%20%20%20%20Downtown%20Toronto%2038%20%20%20%20%20%20%20%20East%20Toronto%20Name%3A%20Borough%2C%20dtype%3A%20object%20Cluster%204%3C/div%3E%60%29%5B0%5D%3B%0A%20%20%20%20%20%20%20%20%20%20%20%20popup_b7c03036cd8148039a57012ef2a5fc51.setContent%28html_0e60d62cccf24ac7a71f5165537bf076%29%3B%0A%20%20%20%20%20%20%20%20%0A%0A%20%20%20%20%20%20%20%20circle_marker_cd6d2c133f8a4c688bc615d72b916379.bindPopup%28popup_b7c03036cd8148039a57012ef2a5fc51%29%0A%20%20%20%20%20%20%20%20%3B%0A%0A%20%20%20%20%20%20%20%20%0A%20%20%20%20%0A%20%20%20%20%0A%20%20%20%20%20%20%20%20%20%20%20%20var%20circle_marker_7e7f59705923496cb7e7422436c50367%20%3D%20L.circleMarker%28%0A%20%20%20%20%20%20%20%20%20%20%20%20%20%20%20%20%5B43.6689985%2C%20-79.31557159999998%5D%2C%0A%20%20%20%20%20%20%20%20%20%20%20%20%20%20%20%20%7B%22bubblingMouseEvents%22%3A%20true%2C%20%22color%22%3A%20%22%23ff0000%22%2C%20%22dashArray%22%3A%20null%2C%20%22dashOffset%22%3A%20null%2C%20%22fill%22%3A%20true%2C%20%22fillColor%22%3A%20%22%23ff0000%22%2C%20%22fillOpacity%22%3A%200.7%2C%20%22fillRule%22%3A%20%22evenodd%22%2C%20%22lineCap%22%3A%20%22round%22%2C%20%22lineJoin%22%3A%20%22round%22%2C%20%22opacity%22%3A%201.0%2C%20%22radius%22%3A%205%2C%20%22stroke%22%3A%20true%2C%20%22weight%22%3A%203%7D%0A%20%20%20%20%20%20%20%20%20%20%20%20%29.addTo%28map_a5a5d264a4c548d695ba7c6917d01407%29%3B%0A%20%20%20%20%20%20%20%20%0A%20%20%20%20%0A%20%20%20%20%20%20%20%20var%20popup_a09282d3e61747afbc4b2f302bb188f4%20%3D%20L.popup%28%7B%22maxWidth%22%3A%20%22100%25%22%7D%29%3B%0A%0A%20%20%20%20%20%20%20%20%0A%20%20%20%20%20%20%20%20%20%20%20%20var%20html_cf745857c7d74c74a1014f9878c89c83%20%3D%20%24%28%60%3Cdiv%20id%3D%22html_cf745857c7d74c74a1014f9878c89c83%22%20style%3D%22width%3A%20100.0%25%3B%20height%3A%20100.0%25%3B%22%3E0%20%20%20%20%20%20%20%20%20East%20Toronto%201%20%20%20%20%20%20%20%20%20East%20Toronto%202%20%20%20%20%20%20%20%20%20East%20Toronto%203%20%20%20%20%20%20%20%20%20East%20Toronto%204%20%20%20%20%20%20Central%20Toronto%205%20%20%20%20%20%20Central%20Toronto%206%20%20%20%20%20%20Central%20Toronto%207%20%20%20%20%20%20Central%20Toronto%208%20%20%20%20%20%20Central%20Toronto%209%20%20%20%20%20%20Central%20Toronto%2010%20%20%20%20Downtown%20Toronto%2011%20%20%20%20Downtown%20Toronto%2012%20%20%20%20Downtown%20Toronto%2013%20%20%20%20Downtown%20Toronto%2014%20%20%20%20Downtown%20Toronto%2015%20%20%20%20Downtown%20Toronto%2016%20%20%20%20Downtown%20Toronto%2017%20%20%20%20Downtown%20Toronto%2018%20%20%20%20Downtown%20Toronto%2019%20%20%20%20Downtown%20Toronto%2020%20%20%20%20Downtown%20Toronto%2021%20%20%20%20Downtown%20Toronto%2022%20%20%20%20%20Central%20Toronto%2023%20%20%20%20%20Central%20Toronto%2024%20%20%20%20%20Central%20Toronto%2025%20%20%20%20Downtown%20Toronto%2026%20%20%20%20Downtown%20Toronto%2027%20%20%20%20Downtown%20Toronto%2028%20%20%20%20Downtown%20Toronto%2029%20%20%20%20Downtown%20Toronto%2030%20%20%20%20Downtown%20Toronto%2031%20%20%20%20%20%20%20%20West%20Toronto%2032%20%20%20%20%20%20%20%20West%20Toronto%2033%20%20%20%20%20%20%20%20West%20Toronto%2034%20%20%20%20%20%20%20%20West%20Toronto%2035%20%20%20%20%20%20%20%20West%20Toronto%2036%20%20%20%20%20%20%20%20West%20Toronto%2037%20%20%20%20Downtown%20Toronto%2038%20%20%20%20%20%20%20%20East%20Toronto%20Name%3A%20Borough%2C%20dtype%3A%20object%20Cluster%204%3C/div%3E%60%29%5B0%5D%3B%0A%20%20%20%20%20%20%20%20%20%20%20%20popup_a09282d3e61747afbc4b2f302bb188f4.setContent%28html_cf745857c7d74c74a1014f9878c89c83%29%3B%0A%20%20%20%20%20%20%20%20%0A%0A%20%20%20%20%20%20%20%20circle_marker_7e7f59705923496cb7e7422436c50367.bindPopup%28popup_a09282d3e61747afbc4b2f302bb188f4%29%0A%20%20%20%20%20%20%20%20%3B%0A%0A%20%20%20%20%20%20%20%20%0A%20%20%20%20%0A%20%20%20%20%0A%20%20%20%20%20%20%20%20%20%20%20%20var%20circle_marker_22c0a53a1382465dac5ca2a686e08c57%20%3D%20L.circleMarker%28%0A%20%20%20%20%20%20%20%20%20%20%20%20%20%20%20%20%5B43.6595255%2C%20-79.340923%5D%2C%0A%20%20%20%20%20%20%20%20%20%20%20%20%20%20%20%20%7B%22bubblingMouseEvents%22%3A%20true%2C%20%22color%22%3A%20%22%23ff0000%22%2C%20%22dashArray%22%3A%20null%2C%20%22dashOffset%22%3A%20null%2C%20%22fill%22%3A%20true%2C%20%22fillColor%22%3A%20%22%23ff0000%22%2C%20%22fillOpacity%22%3A%200.7%2C%20%22fillRule%22%3A%20%22evenodd%22%2C%20%22lineCap%22%3A%20%22round%22%2C%20%22lineJoin%22%3A%20%22round%22%2C%20%22opacity%22%3A%201.0%2C%20%22radius%22%3A%205%2C%20%22stroke%22%3A%20true%2C%20%22weight%22%3A%203%7D%0A%20%20%20%20%20%20%20%20%20%20%20%20%29.addTo%28map_a5a5d264a4c548d695ba7c6917d01407%29%3B%0A%20%20%20%20%20%20%20%20%0A%20%20%20%20%0A%20%20%20%20%20%20%20%20var%20popup_f5581925aebe464ca47f09c46498b10a%20%3D%20L.popup%28%7B%22maxWidth%22%3A%20%22100%25%22%7D%29%3B%0A%0A%20%20%20%20%20%20%20%20%0A%20%20%20%20%20%20%20%20%20%20%20%20var%20html_7c025cde3fb34d4c9cbe7f7072bf3b0e%20%3D%20%24%28%60%3Cdiv%20id%3D%22html_7c025cde3fb34d4c9cbe7f7072bf3b0e%22%20style%3D%22width%3A%20100.0%25%3B%20height%3A%20100.0%25%3B%22%3E0%20%20%20%20%20%20%20%20%20East%20Toronto%201%20%20%20%20%20%20%20%20%20East%20Toronto%202%20%20%20%20%20%20%20%20%20East%20Toronto%203%20%20%20%20%20%20%20%20%20East%20Toronto%204%20%20%20%20%20%20Central%20Toronto%205%20%20%20%20%20%20Central%20Toronto%206%20%20%20%20%20%20Central%20Toronto%207%20%20%20%20%20%20Central%20Toronto%208%20%20%20%20%20%20Central%20Toronto%209%20%20%20%20%20%20Central%20Toronto%2010%20%20%20%20Downtown%20Toronto%2011%20%20%20%20Downtown%20Toronto%2012%20%20%20%20Downtown%20Toronto%2013%20%20%20%20Downtown%20Toronto%2014%20%20%20%20Downtown%20Toronto%2015%20%20%20%20Downtown%20Toronto%2016%20%20%20%20Downtown%20Toronto%2017%20%20%20%20Downtown%20Toronto%2018%20%20%20%20Downtown%20Toronto%2019%20%20%20%20Downtown%20Toronto%2020%20%20%20%20Downtown%20Toronto%2021%20%20%20%20Downtown%20Toronto%2022%20%20%20%20%20Central%20Toronto%2023%20%20%20%20%20Central%20Toronto%2024%20%20%20%20%20Central%20Toronto%2025%20%20%20%20Downtown%20Toronto%2026%20%20%20%20Downtown%20Toronto%2027%20%20%20%20Downtown%20Toronto%2028%20%20%20%20Downtown%20Toronto%2029%20%20%20%20Downtown%20Toronto%2030%20%20%20%20Downtown%20Toronto%2031%20%20%20%20%20%20%20%20West%20Toronto%2032%20%20%20%20%20%20%20%20West%20Toronto%2033%20%20%20%20%20%20%20%20West%20Toronto%2034%20%20%20%20%20%20%20%20West%20Toronto%2035%20%20%20%20%20%20%20%20West%20Toronto%2036%20%20%20%20%20%20%20%20West%20Toronto%2037%20%20%20%20Downtown%20Toronto%2038%20%20%20%20%20%20%20%20East%20Toronto%20Name%3A%20Borough%2C%20dtype%3A%20object%20Cluster%204%3C/div%3E%60%29%5B0%5D%3B%0A%20%20%20%20%20%20%20%20%20%20%20%20popup_f5581925aebe464ca47f09c46498b10a.setContent%28html_7c025cde3fb34d4c9cbe7f7072bf3b0e%29%3B%0A%20%20%20%20%20%20%20%20%0A%0A%20%20%20%20%20%20%20%20circle_marker_22c0a53a1382465dac5ca2a686e08c57.bindPopup%28popup_f5581925aebe464ca47f09c46498b10a%29%0A%20%20%20%20%20%20%20%20%3B%0A%0A%20%20%20%20%20%20%20%20%0A%20%20%20%20%0A%20%20%20%20%0A%20%20%20%20%20%20%20%20%20%20%20%20var%20circle_marker_bb78237da0c94446a625d99f9d701f6f%20%3D%20L.circleMarker%28%0A%20%20%20%20%20%20%20%20%20%20%20%20%20%20%20%20%5B43.7280205%2C%20-79.3887901%5D%2C%0A%20%20%20%20%20%20%20%20%20%20%20%20%20%20%20%20%7B%22bubblingMouseEvents%22%3A%20true%2C%20%22color%22%3A%20%22%232adddd%22%2C%20%22dashArray%22%3A%20null%2C%20%22dashOffset%22%3A%20null%2C%20%22fill%22%3A%20true%2C%20%22fillColor%22%3A%20%22%232adddd%22%2C%20%22fillOpacity%22%3A%200.7%2C%20%22fillRule%22%3A%20%22evenodd%22%2C%20%22lineCap%22%3A%20%22round%22%2C%20%22lineJoin%22%3A%20%22round%22%2C%20%22opacity%22%3A%201.0%2C%20%22radius%22%3A%205%2C%20%22stroke%22%3A%20true%2C%20%22weight%22%3A%203%7D%0A%20%20%20%20%20%20%20%20%20%20%20%20%29.addTo%28map_a5a5d264a4c548d695ba7c6917d01407%29%3B%0A%20%20%20%20%20%20%20%20%0A%20%20%20%20%0A%20%20%20%20%20%20%20%20var%20popup_cd91f1e368e743d1b840fef79df0a718%20%3D%20L.popup%28%7B%22maxWidth%22%3A%20%22100%25%22%7D%29%3B%0A%0A%20%20%20%20%20%20%20%20%0A%20%20%20%20%20%20%20%20%20%20%20%20var%20html_fe6859f669e94225b7440619c6c71436%20%3D%20%24%28%60%3Cdiv%20id%3D%22html_fe6859f669e94225b7440619c6c71436%22%20style%3D%22width%3A%20100.0%25%3B%20height%3A%20100.0%25%3B%22%3E0%20%20%20%20%20%20%20%20%20East%20Toronto%201%20%20%20%20%20%20%20%20%20East%20Toronto%202%20%20%20%20%20%20%20%20%20East%20Toronto%203%20%20%20%20%20%20%20%20%20East%20Toronto%204%20%20%20%20%20%20Central%20Toronto%205%20%20%20%20%20%20Central%20Toronto%206%20%20%20%20%20%20Central%20Toronto%207%20%20%20%20%20%20Central%20Toronto%208%20%20%20%20%20%20Central%20Toronto%209%20%20%20%20%20%20Central%20Toronto%2010%20%20%20%20Downtown%20Toronto%2011%20%20%20%20Downtown%20Toronto%2012%20%20%20%20Downtown%20Toronto%2013%20%20%20%20Downtown%20Toronto%2014%20%20%20%20Downtown%20Toronto%2015%20%20%20%20Downtown%20Toronto%2016%20%20%20%20Downtown%20Toronto%2017%20%20%20%20Downtown%20Toronto%2018%20%20%20%20Downtown%20Toronto%2019%20%20%20%20Downtown%20Toronto%2020%20%20%20%20Downtown%20Toronto%2021%20%20%20%20Downtown%20Toronto%2022%20%20%20%20%20Central%20Toronto%2023%20%20%20%20%20Central%20Toronto%2024%20%20%20%20%20Central%20Toronto%2025%20%20%20%20Downtown%20Toronto%2026%20%20%20%20Downtown%20Toronto%2027%20%20%20%20Downtown%20Toronto%2028%20%20%20%20Downtown%20Toronto%2029%20%20%20%20Downtown%20Toronto%2030%20%20%20%20Downtown%20Toronto%2031%20%20%20%20%20%20%20%20West%20Toronto%2032%20%20%20%20%20%20%20%20West%20Toronto%2033%20%20%20%20%20%20%20%20West%20Toronto%2034%20%20%20%20%20%20%20%20West%20Toronto%2035%20%20%20%20%20%20%20%20West%20Toronto%2036%20%20%20%20%20%20%20%20West%20Toronto%2037%20%20%20%20Downtown%20Toronto%2038%20%20%20%20%20%20%20%20East%20Toronto%20Name%3A%20Borough%2C%20dtype%3A%20object%20Cluster%202%3C/div%3E%60%29%5B0%5D%3B%0A%20%20%20%20%20%20%20%20%20%20%20%20popup_cd91f1e368e743d1b840fef79df0a718.setContent%28html_fe6859f669e94225b7440619c6c71436%29%3B%0A%20%20%20%20%20%20%20%20%0A%0A%20%20%20%20%20%20%20%20circle_marker_bb78237da0c94446a625d99f9d701f6f.bindPopup%28popup_cd91f1e368e743d1b840fef79df0a718%29%0A%20%20%20%20%20%20%20%20%3B%0A%0A%20%20%20%20%20%20%20%20%0A%20%20%20%20%0A%20%20%20%20%0A%20%20%20%20%20%20%20%20%20%20%20%20var%20circle_marker_779cd4eefb68461fb7f65dc0da58c193%20%3D%20L.circleMarker%28%0A%20%20%20%20%20%20%20%20%20%20%20%20%20%20%20%20%5B43.7127511%2C%20-79.3901975%5D%2C%0A%20%20%20%20%20%20%20%20%20%20%20%20%20%20%20%20%7B%22bubblingMouseEvents%22%3A%20true%2C%20%22color%22%3A%20%22%232adddd%22%2C%20%22dashArray%22%3A%20null%2C%20%22dashOffset%22%3A%20null%2C%20%22fill%22%3A%20true%2C%20%22fillColor%22%3A%20%22%232adddd%22%2C%20%22fillOpacity%22%3A%200.7%2C%20%22fillRule%22%3A%20%22evenodd%22%2C%20%22lineCap%22%3A%20%22round%22%2C%20%22lineJoin%22%3A%20%22round%22%2C%20%22opacity%22%3A%201.0%2C%20%22radius%22%3A%205%2C%20%22stroke%22%3A%20true%2C%20%22weight%22%3A%203%7D%0A%20%20%20%20%20%20%20%20%20%20%20%20%29.addTo%28map_a5a5d264a4c548d695ba7c6917d01407%29%3B%0A%20%20%20%20%20%20%20%20%0A%20%20%20%20%0A%20%20%20%20%20%20%20%20var%20popup_5e5eb51e447b4e7ba7d000c92c42ff7a%20%3D%20L.popup%28%7B%22maxWidth%22%3A%20%22100%25%22%7D%29%3B%0A%0A%20%20%20%20%20%20%20%20%0A%20%20%20%20%20%20%20%20%20%20%20%20var%20html_ec34ee13bcc741ab9bb98f67a1975e5c%20%3D%20%24%28%60%3Cdiv%20id%3D%22html_ec34ee13bcc741ab9bb98f67a1975e5c%22%20style%3D%22width%3A%20100.0%25%3B%20height%3A%20100.0%25%3B%22%3E0%20%20%20%20%20%20%20%20%20East%20Toronto%201%20%20%20%20%20%20%20%20%20East%20Toronto%202%20%20%20%20%20%20%20%20%20East%20Toronto%203%20%20%20%20%20%20%20%20%20East%20Toronto%204%20%20%20%20%20%20Central%20Toronto%205%20%20%20%20%20%20Central%20Toronto%206%20%20%20%20%20%20Central%20Toronto%207%20%20%20%20%20%20Central%20Toronto%208%20%20%20%20%20%20Central%20Toronto%209%20%20%20%20%20%20Central%20Toronto%2010%20%20%20%20Downtown%20Toronto%2011%20%20%20%20Downtown%20Toronto%2012%20%20%20%20Downtown%20Toronto%2013%20%20%20%20Downtown%20Toronto%2014%20%20%20%20Downtown%20Toronto%2015%20%20%20%20Downtown%20Toronto%2016%20%20%20%20Downtown%20Toronto%2017%20%20%20%20Downtown%20Toronto%2018%20%20%20%20Downtown%20Toronto%2019%20%20%20%20Downtown%20Toronto%2020%20%20%20%20Downtown%20Toronto%2021%20%20%20%20Downtown%20Toronto%2022%20%20%20%20%20Central%20Toronto%2023%20%20%20%20%20Central%20Toronto%2024%20%20%20%20%20Central%20Toronto%2025%20%20%20%20Downtown%20Toronto%2026%20%20%20%20Downtown%20Toronto%2027%20%20%20%20Downtown%20Toronto%2028%20%20%20%20Downtown%20Toronto%2029%20%20%20%20Downtown%20Toronto%2030%20%20%20%20Downtown%20Toronto%2031%20%20%20%20%20%20%20%20West%20Toronto%2032%20%20%20%20%20%20%20%20West%20Toronto%2033%20%20%20%20%20%20%20%20West%20Toronto%2034%20%20%20%20%20%20%20%20West%20Toronto%2035%20%20%20%20%20%20%20%20West%20Toronto%2036%20%20%20%20%20%20%20%20West%20Toronto%2037%20%20%20%20Downtown%20Toronto%2038%20%20%20%20%20%20%20%20East%20Toronto%20Name%3A%20Borough%2C%20dtype%3A%20object%20Cluster%202%3C/div%3E%60%29%5B0%5D%3B%0A%20%20%20%20%20%20%20%20%20%20%20%20popup_5e5eb51e447b4e7ba7d000c92c42ff7a.setContent%28html_ec34ee13bcc741ab9bb98f67a1975e5c%29%3B%0A%20%20%20%20%20%20%20%20%0A%0A%20%20%20%20%20%20%20%20circle_marker_779cd4eefb68461fb7f65dc0da58c193.bindPopup%28popup_5e5eb51e447b4e7ba7d000c92c42ff7a%29%0A%20%20%20%20%20%20%20%20%3B%0A%0A%20%20%20%20%20%20%20%20%0A%20%20%20%20%0A%20%20%20%20%0A%20%20%20%20%20%20%20%20%20%20%20%20var%20circle_marker_cfc9d194b0a2495f89187be1e94982a2%20%3D%20L.circleMarker%28%0A%20%20%20%20%20%20%20%20%20%20%20%20%20%20%20%20%5B43.7153834%2C%20-79.40567840000001%5D%2C%0A%20%20%20%20%20%20%20%20%20%20%20%20%20%20%20%20%7B%22bubblingMouseEvents%22%3A%20true%2C%20%22color%22%3A%20%22%232adddd%22%2C%20%22dashArray%22%3A%20null%2C%20%22dashOffset%22%3A%20null%2C%20%22fill%22%3A%20true%2C%20%22fillColor%22%3A%20%22%232adddd%22%2C%20%22fillOpacity%22%3A%200.7%2C%20%22fillRule%22%3A%20%22evenodd%22%2C%20%22lineCap%22%3A%20%22round%22%2C%20%22lineJoin%22%3A%20%22round%22%2C%20%22opacity%22%3A%201.0%2C%20%22radius%22%3A%205%2C%20%22stroke%22%3A%20true%2C%20%22weight%22%3A%203%7D%0A%20%20%20%20%20%20%20%20%20%20%20%20%29.addTo%28map_a5a5d264a4c548d695ba7c6917d01407%29%3B%0A%20%20%20%20%20%20%20%20%0A%20%20%20%20%0A%20%20%20%20%20%20%20%20var%20popup_7afd58ffe0d0489e8505beee68f48230%20%3D%20L.popup%28%7B%22maxWidth%22%3A%20%22100%25%22%7D%29%3B%0A%0A%20%20%20%20%20%20%20%20%0A%20%20%20%20%20%20%20%20%20%20%20%20var%20html_a16a79d4e26f4bdcaa2a0d62ee491715%20%3D%20%24%28%60%3Cdiv%20id%3D%22html_a16a79d4e26f4bdcaa2a0d62ee491715%22%20style%3D%22width%3A%20100.0%25%3B%20height%3A%20100.0%25%3B%22%3E0%20%20%20%20%20%20%20%20%20East%20Toronto%201%20%20%20%20%20%20%20%20%20East%20Toronto%202%20%20%20%20%20%20%20%20%20East%20Toronto%203%20%20%20%20%20%20%20%20%20East%20Toronto%204%20%20%20%20%20%20Central%20Toronto%205%20%20%20%20%20%20Central%20Toronto%206%20%20%20%20%20%20Central%20Toronto%207%20%20%20%20%20%20Central%20Toronto%208%20%20%20%20%20%20Central%20Toronto%209%20%20%20%20%20%20Central%20Toronto%2010%20%20%20%20Downtown%20Toronto%2011%20%20%20%20Downtown%20Toronto%2012%20%20%20%20Downtown%20Toronto%2013%20%20%20%20Downtown%20Toronto%2014%20%20%20%20Downtown%20Toronto%2015%20%20%20%20Downtown%20Toronto%2016%20%20%20%20Downtown%20Toronto%2017%20%20%20%20Downtown%20Toronto%2018%20%20%20%20Downtown%20Toronto%2019%20%20%20%20Downtown%20Toronto%2020%20%20%20%20Downtown%20Toronto%2021%20%20%20%20Downtown%20Toronto%2022%20%20%20%20%20Central%20Toronto%2023%20%20%20%20%20Central%20Toronto%2024%20%20%20%20%20Central%20Toronto%2025%20%20%20%20Downtown%20Toronto%2026%20%20%20%20Downtown%20Toronto%2027%20%20%20%20Downtown%20Toronto%2028%20%20%20%20Downtown%20Toronto%2029%20%20%20%20Downtown%20Toronto%2030%20%20%20%20Downtown%20Toronto%2031%20%20%20%20%20%20%20%20West%20Toronto%2032%20%20%20%20%20%20%20%20West%20Toronto%2033%20%20%20%20%20%20%20%20West%20Toronto%2034%20%20%20%20%20%20%20%20West%20Toronto%2035%20%20%20%20%20%20%20%20West%20Toronto%2036%20%20%20%20%20%20%20%20West%20Toronto%2037%20%20%20%20Downtown%20Toronto%2038%20%20%20%20%20%20%20%20East%20Toronto%20Name%3A%20Borough%2C%20dtype%3A%20object%20Cluster%202%3C/div%3E%60%29%5B0%5D%3B%0A%20%20%20%20%20%20%20%20%20%20%20%20popup_7afd58ffe0d0489e8505beee68f48230.setContent%28html_a16a79d4e26f4bdcaa2a0d62ee491715%29%3B%0A%20%20%20%20%20%20%20%20%0A%0A%20%20%20%20%20%20%20%20circle_marker_cfc9d194b0a2495f89187be1e94982a2.bindPopup%28popup_7afd58ffe0d0489e8505beee68f48230%29%0A%20%20%20%20%20%20%20%20%3B%0A%0A%20%20%20%20%20%20%20%20%0A%20%20%20%20%0A%20%20%20%20%0A%20%20%20%20%20%20%20%20%20%20%20%20var%20circle_marker_bd93bebe903147c89b5a11f5858f5498%20%3D%20L.circleMarker%28%0A%20%20%20%20%20%20%20%20%20%20%20%20%20%20%20%20%5B43.7043244%2C%20-79.3887901%5D%2C%0A%20%20%20%20%20%20%20%20%20%20%20%20%20%20%20%20%7B%22bubblingMouseEvents%22%3A%20true%2C%20%22color%22%3A%20%22%232adddd%22%2C%20%22dashArray%22%3A%20null%2C%20%22dashOffset%22%3A%20null%2C%20%22fill%22%3A%20true%2C%20%22fillColor%22%3A%20%22%232adddd%22%2C%20%22fillOpacity%22%3A%200.7%2C%20%22fillRule%22%3A%20%22evenodd%22%2C%20%22lineCap%22%3A%20%22round%22%2C%20%22lineJoin%22%3A%20%22round%22%2C%20%22opacity%22%3A%201.0%2C%20%22radius%22%3A%205%2C%20%22stroke%22%3A%20true%2C%20%22weight%22%3A%203%7D%0A%20%20%20%20%20%20%20%20%20%20%20%20%29.addTo%28map_a5a5d264a4c548d695ba7c6917d01407%29%3B%0A%20%20%20%20%20%20%20%20%0A%20%20%20%20%0A%20%20%20%20%20%20%20%20var%20popup_8ab1f7e68cdd47809f46b930d13a56a3%20%3D%20L.popup%28%7B%22maxWidth%22%3A%20%22100%25%22%7D%29%3B%0A%0A%20%20%20%20%20%20%20%20%0A%20%20%20%20%20%20%20%20%20%20%20%20var%20html_e263fbccae4f43f8bd29cb298e1b3b23%20%3D%20%24%28%60%3Cdiv%20id%3D%22html_e263fbccae4f43f8bd29cb298e1b3b23%22%20style%3D%22width%3A%20100.0%25%3B%20height%3A%20100.0%25%3B%22%3E0%20%20%20%20%20%20%20%20%20East%20Toronto%201%20%20%20%20%20%20%20%20%20East%20Toronto%202%20%20%20%20%20%20%20%20%20East%20Toronto%203%20%20%20%20%20%20%20%20%20East%20Toronto%204%20%20%20%20%20%20Central%20Toronto%205%20%20%20%20%20%20Central%20Toronto%206%20%20%20%20%20%20Central%20Toronto%207%20%20%20%20%20%20Central%20Toronto%208%20%20%20%20%20%20Central%20Toronto%209%20%20%20%20%20%20Central%20Toronto%2010%20%20%20%20Downtown%20Toronto%2011%20%20%20%20Downtown%20Toronto%2012%20%20%20%20Downtown%20Toronto%2013%20%20%20%20Downtown%20Toronto%2014%20%20%20%20Downtown%20Toronto%2015%20%20%20%20Downtown%20Toronto%2016%20%20%20%20Downtown%20Toronto%2017%20%20%20%20Downtown%20Toronto%2018%20%20%20%20Downtown%20Toronto%2019%20%20%20%20Downtown%20Toronto%2020%20%20%20%20Downtown%20Toronto%2021%20%20%20%20Downtown%20Toronto%2022%20%20%20%20%20Central%20Toronto%2023%20%20%20%20%20Central%20Toronto%2024%20%20%20%20%20Central%20Toronto%2025%20%20%20%20Downtown%20Toronto%2026%20%20%20%20Downtown%20Toronto%2027%20%20%20%20Downtown%20Toronto%2028%20%20%20%20Downtown%20Toronto%2029%20%20%20%20Downtown%20Toronto%2030%20%20%20%20Downtown%20Toronto%2031%20%20%20%20%20%20%20%20West%20Toronto%2032%20%20%20%20%20%20%20%20West%20Toronto%2033%20%20%20%20%20%20%20%20West%20Toronto%2034%20%20%20%20%20%20%20%20West%20Toronto%2035%20%20%20%20%20%20%20%20West%20Toronto%2036%20%20%20%20%20%20%20%20West%20Toronto%2037%20%20%20%20Downtown%20Toronto%2038%20%20%20%20%20%20%20%20East%20Toronto%20Name%3A%20Borough%2C%20dtype%3A%20object%20Cluster%202%3C/div%3E%60%29%5B0%5D%3B%0A%20%20%20%20%20%20%20%20%20%20%20%20popup_8ab1f7e68cdd47809f46b930d13a56a3.setContent%28html_e263fbccae4f43f8bd29cb298e1b3b23%29%3B%0A%20%20%20%20%20%20%20%20%0A%0A%20%20%20%20%20%20%20%20circle_marker_bd93bebe903147c89b5a11f5858f5498.bindPopup%28popup_8ab1f7e68cdd47809f46b930d13a56a3%29%0A%20%20%20%20%20%20%20%20%3B%0A%0A%20%20%20%20%20%20%20%20%0A%20%20%20%20%0A%20%20%20%20%0A%20%20%20%20%20%20%20%20%20%20%20%20var%20circle_marker_73c5b545188244f0a258cae1b7a49da6%20%3D%20L.circleMarker%28%0A%20%20%20%20%20%20%20%20%20%20%20%20%20%20%20%20%5B43.6895743%2C%20-79.38315990000001%5D%2C%0A%20%20%20%20%20%20%20%20%20%20%20%20%20%20%20%20%7B%22bubblingMouseEvents%22%3A%20true%2C%20%22color%22%3A%20%22%232adddd%22%2C%20%22dashArray%22%3A%20null%2C%20%22dashOffset%22%3A%20null%2C%20%22fill%22%3A%20true%2C%20%22fillColor%22%3A%20%22%232adddd%22%2C%20%22fillOpacity%22%3A%200.7%2C%20%22fillRule%22%3A%20%22evenodd%22%2C%20%22lineCap%22%3A%20%22round%22%2C%20%22lineJoin%22%3A%20%22round%22%2C%20%22opacity%22%3A%201.0%2C%20%22radius%22%3A%205%2C%20%22stroke%22%3A%20true%2C%20%22weight%22%3A%203%7D%0A%20%20%20%20%20%20%20%20%20%20%20%20%29.addTo%28map_a5a5d264a4c548d695ba7c6917d01407%29%3B%0A%20%20%20%20%20%20%20%20%0A%20%20%20%20%0A%20%20%20%20%20%20%20%20var%20popup_263d93d47a3e49df9a30c7a7c36dffbd%20%3D%20L.popup%28%7B%22maxWidth%22%3A%20%22100%25%22%7D%29%3B%0A%0A%20%20%20%20%20%20%20%20%0A%20%20%20%20%20%20%20%20%20%20%20%20var%20html_456a57cc7cb74c0fa7d57ba9f7bc69c9%20%3D%20%24%28%60%3Cdiv%20id%3D%22html_456a57cc7cb74c0fa7d57ba9f7bc69c9%22%20style%3D%22width%3A%20100.0%25%3B%20height%3A%20100.0%25%3B%22%3E0%20%20%20%20%20%20%20%20%20East%20Toronto%201%20%20%20%20%20%20%20%20%20East%20Toronto%202%20%20%20%20%20%20%20%20%20East%20Toronto%203%20%20%20%20%20%20%20%20%20East%20Toronto%204%20%20%20%20%20%20Central%20Toronto%205%20%20%20%20%20%20Central%20Toronto%206%20%20%20%20%20%20Central%20Toronto%207%20%20%20%20%20%20Central%20Toronto%208%20%20%20%20%20%20Central%20Toronto%209%20%20%20%20%20%20Central%20Toronto%2010%20%20%20%20Downtown%20Toronto%2011%20%20%20%20Downtown%20Toronto%2012%20%20%20%20Downtown%20Toronto%2013%20%20%20%20Downtown%20Toronto%2014%20%20%20%20Downtown%20Toronto%2015%20%20%20%20Downtown%20Toronto%2016%20%20%20%20Downtown%20Toronto%2017%20%20%20%20Downtown%20Toronto%2018%20%20%20%20Downtown%20Toronto%2019%20%20%20%20Downtown%20Toronto%2020%20%20%20%20Downtown%20Toronto%2021%20%20%20%20Downtown%20Toronto%2022%20%20%20%20%20Central%20Toronto%2023%20%20%20%20%20Central%20Toronto%2024%20%20%20%20%20Central%20Toronto%2025%20%20%20%20Downtown%20Toronto%2026%20%20%20%20Downtown%20Toronto%2027%20%20%20%20Downtown%20Toronto%2028%20%20%20%20Downtown%20Toronto%2029%20%20%20%20Downtown%20Toronto%2030%20%20%20%20Downtown%20Toronto%2031%20%20%20%20%20%20%20%20West%20Toronto%2032%20%20%20%20%20%20%20%20West%20Toronto%2033%20%20%20%20%20%20%20%20West%20Toronto%2034%20%20%20%20%20%20%20%20West%20Toronto%2035%20%20%20%20%20%20%20%20West%20Toronto%2036%20%20%20%20%20%20%20%20West%20Toronto%2037%20%20%20%20Downtown%20Toronto%2038%20%20%20%20%20%20%20%20East%20Toronto%20Name%3A%20Borough%2C%20dtype%3A%20object%20Cluster%202%3C/div%3E%60%29%5B0%5D%3B%0A%20%20%20%20%20%20%20%20%20%20%20%20popup_263d93d47a3e49df9a30c7a7c36dffbd.setContent%28html_456a57cc7cb74c0fa7d57ba9f7bc69c9%29%3B%0A%20%20%20%20%20%20%20%20%0A%0A%20%20%20%20%20%20%20%20circle_marker_73c5b545188244f0a258cae1b7a49da6.bindPopup%28popup_263d93d47a3e49df9a30c7a7c36dffbd%29%0A%20%20%20%20%20%20%20%20%3B%0A%0A%20%20%20%20%20%20%20%20%0A%20%20%20%20%0A%20%20%20%20%0A%20%20%20%20%20%20%20%20%20%20%20%20var%20circle_marker_1d7e0d4940bf4d91ba6ae50492cb71db%20%3D%20L.circleMarker%28%0A%20%20%20%20%20%20%20%20%20%20%20%20%20%20%20%20%5B43.68641229999999%2C%20-79.4000493%5D%2C%0A%20%20%20%20%20%20%20%20%20%20%20%20%20%20%20%20%7B%22bubblingMouseEvents%22%3A%20true%2C%20%22color%22%3A%20%22%232adddd%22%2C%20%22dashArray%22%3A%20null%2C%20%22dashOffset%22%3A%20null%2C%20%22fill%22%3A%20true%2C%20%22fillColor%22%3A%20%22%232adddd%22%2C%20%22fillOpacity%22%3A%200.7%2C%20%22fillRule%22%3A%20%22evenodd%22%2C%20%22lineCap%22%3A%20%22round%22%2C%20%22lineJoin%22%3A%20%22round%22%2C%20%22opacity%22%3A%201.0%2C%20%22radius%22%3A%205%2C%20%22stroke%22%3A%20true%2C%20%22weight%22%3A%203%7D%0A%20%20%20%20%20%20%20%20%20%20%20%20%29.addTo%28map_a5a5d264a4c548d695ba7c6917d01407%29%3B%0A%20%20%20%20%20%20%20%20%0A%20%20%20%20%0A%20%20%20%20%20%20%20%20var%20popup_07a4ff8fee874f758513938e21c62ea4%20%3D%20L.popup%28%7B%22maxWidth%22%3A%20%22100%25%22%7D%29%3B%0A%0A%20%20%20%20%20%20%20%20%0A%20%20%20%20%20%20%20%20%20%20%20%20var%20html_a9ae01036d0b47d7a1f7bbd92e8c0964%20%3D%20%24%28%60%3Cdiv%20id%3D%22html_a9ae01036d0b47d7a1f7bbd92e8c0964%22%20style%3D%22width%3A%20100.0%25%3B%20height%3A%20100.0%25%3B%22%3E0%20%20%20%20%20%20%20%20%20East%20Toronto%201%20%20%20%20%20%20%20%20%20East%20Toronto%202%20%20%20%20%20%20%20%20%20East%20Toronto%203%20%20%20%20%20%20%20%20%20East%20Toronto%204%20%20%20%20%20%20Central%20Toronto%205%20%20%20%20%20%20Central%20Toronto%206%20%20%20%20%20%20Central%20Toronto%207%20%20%20%20%20%20Central%20Toronto%208%20%20%20%20%20%20Central%20Toronto%209%20%20%20%20%20%20Central%20Toronto%2010%20%20%20%20Downtown%20Toronto%2011%20%20%20%20Downtown%20Toronto%2012%20%20%20%20Downtown%20Toronto%2013%20%20%20%20Downtown%20Toronto%2014%20%20%20%20Downtown%20Toronto%2015%20%20%20%20Downtown%20Toronto%2016%20%20%20%20Downtown%20Toronto%2017%20%20%20%20Downtown%20Toronto%2018%20%20%20%20Downtown%20Toronto%2019%20%20%20%20Downtown%20Toronto%2020%20%20%20%20Downtown%20Toronto%2021%20%20%20%20Downtown%20Toronto%2022%20%20%20%20%20Central%20Toronto%2023%20%20%20%20%20Central%20Toronto%2024%20%20%20%20%20Central%20Toronto%2025%20%20%20%20Downtown%20Toronto%2026%20%20%20%20Downtown%20Toronto%2027%20%20%20%20Downtown%20Toronto%2028%20%20%20%20Downtown%20Toronto%2029%20%20%20%20Downtown%20Toronto%2030%20%20%20%20Downtown%20Toronto%2031%20%20%20%20%20%20%20%20West%20Toronto%2032%20%20%20%20%20%20%20%20West%20Toronto%2033%20%20%20%20%20%20%20%20West%20Toronto%2034%20%20%20%20%20%20%20%20West%20Toronto%2035%20%20%20%20%20%20%20%20West%20Toronto%2036%20%20%20%20%20%20%20%20West%20Toronto%2037%20%20%20%20Downtown%20Toronto%2038%20%20%20%20%20%20%20%20East%20Toronto%20Name%3A%20Borough%2C%20dtype%3A%20object%20Cluster%202%3C/div%3E%60%29%5B0%5D%3B%0A%20%20%20%20%20%20%20%20%20%20%20%20popup_07a4ff8fee874f758513938e21c62ea4.setContent%28html_a9ae01036d0b47d7a1f7bbd92e8c0964%29%3B%0A%20%20%20%20%20%20%20%20%0A%0A%20%20%20%20%20%20%20%20circle_marker_1d7e0d4940bf4d91ba6ae50492cb71db.bindPopup%28popup_07a4ff8fee874f758513938e21c62ea4%29%0A%20%20%20%20%20%20%20%20%3B%0A%0A%20%20%20%20%20%20%20%20%0A%20%20%20%20%0A%20%20%20%20%0A%20%20%20%20%20%20%20%20%20%20%20%20var%20circle_marker_59d6300a550e4f5b982986024a5874be%20%3D%20L.circleMarker%28%0A%20%20%20%20%20%20%20%20%20%20%20%20%20%20%20%20%5B43.6795626%2C%20-79.37752940000001%5D%2C%0A%20%20%20%20%20%20%20%20%20%20%20%20%20%20%20%20%7B%22bubblingMouseEvents%22%3A%20true%2C%20%22color%22%3A%20%22%238000ff%22%2C%20%22dashArray%22%3A%20null%2C%20%22dashOffset%22%3A%20null%2C%20%22fill%22%3A%20true%2C%20%22fillColor%22%3A%20%22%238000ff%22%2C%20%22fillOpacity%22%3A%200.7%2C%20%22fillRule%22%3A%20%22evenodd%22%2C%20%22lineCap%22%3A%20%22round%22%2C%20%22lineJoin%22%3A%20%22round%22%2C%20%22opacity%22%3A%201.0%2C%20%22radius%22%3A%205%2C%20%22stroke%22%3A%20true%2C%20%22weight%22%3A%203%7D%0A%20%20%20%20%20%20%20%20%20%20%20%20%29.addTo%28map_a5a5d264a4c548d695ba7c6917d01407%29%3B%0A%20%20%20%20%20%20%20%20%0A%20%20%20%20%0A%20%20%20%20%20%20%20%20var%20popup_0f70ecd11e32446f9fb7af561e6cae42%20%3D%20L.popup%28%7B%22maxWidth%22%3A%20%22100%25%22%7D%29%3B%0A%0A%20%20%20%20%20%20%20%20%0A%20%20%20%20%20%20%20%20%20%20%20%20var%20html_20fd7178c1d0474c81b82482cea485d4%20%3D%20%24%28%60%3Cdiv%20id%3D%22html_20fd7178c1d0474c81b82482cea485d4%22%20style%3D%22width%3A%20100.0%25%3B%20height%3A%20100.0%25%3B%22%3E0%20%20%20%20%20%20%20%20%20East%20Toronto%201%20%20%20%20%20%20%20%20%20East%20Toronto%202%20%20%20%20%20%20%20%20%20East%20Toronto%203%20%20%20%20%20%20%20%20%20East%20Toronto%204%20%20%20%20%20%20Central%20Toronto%205%20%20%20%20%20%20Central%20Toronto%206%20%20%20%20%20%20Central%20Toronto%207%20%20%20%20%20%20Central%20Toronto%208%20%20%20%20%20%20Central%20Toronto%209%20%20%20%20%20%20Central%20Toronto%2010%20%20%20%20Downtown%20Toronto%2011%20%20%20%20Downtown%20Toronto%2012%20%20%20%20Downtown%20Toronto%2013%20%20%20%20Downtown%20Toronto%2014%20%20%20%20Downtown%20Toronto%2015%20%20%20%20Downtown%20Toronto%2016%20%20%20%20Downtown%20Toronto%2017%20%20%20%20Downtown%20Toronto%2018%20%20%20%20Downtown%20Toronto%2019%20%20%20%20Downtown%20Toronto%2020%20%20%20%20Downtown%20Toronto%2021%20%20%20%20Downtown%20Toronto%2022%20%20%20%20%20Central%20Toronto%2023%20%20%20%20%20Central%20Toronto%2024%20%20%20%20%20Central%20Toronto%2025%20%20%20%20Downtown%20Toronto%2026%20%20%20%20Downtown%20Toronto%2027%20%20%20%20Downtown%20Toronto%2028%20%20%20%20Downtown%20Toronto%2029%20%20%20%20Downtown%20Toronto%2030%20%20%20%20Downtown%20Toronto%2031%20%20%20%20%20%20%20%20West%20Toronto%2032%20%20%20%20%20%20%20%20West%20Toronto%2033%20%20%20%20%20%20%20%20West%20Toronto%2034%20%20%20%20%20%20%20%20West%20Toronto%2035%20%20%20%20%20%20%20%20West%20Toronto%2036%20%20%20%20%20%20%20%20West%20Toronto%2037%20%20%20%20Downtown%20Toronto%2038%20%20%20%20%20%20%20%20East%20Toronto%20Name%3A%20Borough%2C%20dtype%3A%20object%20Cluster%201%3C/div%3E%60%29%5B0%5D%3B%0A%20%20%20%20%20%20%20%20%20%20%20%20popup_0f70ecd11e32446f9fb7af561e6cae42.setContent%28html_20fd7178c1d0474c81b82482cea485d4%29%3B%0A%20%20%20%20%20%20%20%20%0A%0A%20%20%20%20%20%20%20%20circle_marker_59d6300a550e4f5b982986024a5874be.bindPopup%28popup_0f70ecd11e32446f9fb7af561e6cae42%29%0A%20%20%20%20%20%20%20%20%3B%0A%0A%20%20%20%20%20%20%20%20%0A%20%20%20%20%0A%20%20%20%20%0A%20%20%20%20%20%20%20%20%20%20%20%20var%20circle_marker_bb945de7ba554e4d83d333cb5b651268%20%3D%20L.circleMarker%28%0A%20%20%20%20%20%20%20%20%20%20%20%20%20%20%20%20%5B43.667967%2C%20-79.3676753%5D%2C%0A%20%20%20%20%20%20%20%20%20%20%20%20%20%20%20%20%7B%22bubblingMouseEvents%22%3A%20true%2C%20%22color%22%3A%20%22%238000ff%22%2C%20%22dashArray%22%3A%20null%2C%20%22dashOffset%22%3A%20null%2C%20%22fill%22%3A%20true%2C%20%22fillColor%22%3A%20%22%238000ff%22%2C%20%22fillOpacity%22%3A%200.7%2C%20%22fillRule%22%3A%20%22evenodd%22%2C%20%22lineCap%22%3A%20%22round%22%2C%20%22lineJoin%22%3A%20%22round%22%2C%20%22opacity%22%3A%201.0%2C%20%22radius%22%3A%205%2C%20%22stroke%22%3A%20true%2C%20%22weight%22%3A%203%7D%0A%20%20%20%20%20%20%20%20%20%20%20%20%29.addTo%28map_a5a5d264a4c548d695ba7c6917d01407%29%3B%0A%20%20%20%20%20%20%20%20%0A%20%20%20%20%0A%20%20%20%20%20%20%20%20var%20popup_2975e13add9449c6a88169e3b2f24163%20%3D%20L.popup%28%7B%22maxWidth%22%3A%20%22100%25%22%7D%29%3B%0A%0A%20%20%20%20%20%20%20%20%0A%20%20%20%20%20%20%20%20%20%20%20%20var%20html_be56e9a449ce4968afd9ed743badbc75%20%3D%20%24%28%60%3Cdiv%20id%3D%22html_be56e9a449ce4968afd9ed743badbc75%22%20style%3D%22width%3A%20100.0%25%3B%20height%3A%20100.0%25%3B%22%3E0%20%20%20%20%20%20%20%20%20East%20Toronto%201%20%20%20%20%20%20%20%20%20East%20Toronto%202%20%20%20%20%20%20%20%20%20East%20Toronto%203%20%20%20%20%20%20%20%20%20East%20Toronto%204%20%20%20%20%20%20Central%20Toronto%205%20%20%20%20%20%20Central%20Toronto%206%20%20%20%20%20%20Central%20Toronto%207%20%20%20%20%20%20Central%20Toronto%208%20%20%20%20%20%20Central%20Toronto%209%20%20%20%20%20%20Central%20Toronto%2010%20%20%20%20Downtown%20Toronto%2011%20%20%20%20Downtown%20Toronto%2012%20%20%20%20Downtown%20Toronto%2013%20%20%20%20Downtown%20Toronto%2014%20%20%20%20Downtown%20Toronto%2015%20%20%20%20Downtown%20Toronto%2016%20%20%20%20Downtown%20Toronto%2017%20%20%20%20Downtown%20Toronto%2018%20%20%20%20Downtown%20Toronto%2019%20%20%20%20Downtown%20Toronto%2020%20%20%20%20Downtown%20Toronto%2021%20%20%20%20Downtown%20Toronto%2022%20%20%20%20%20Central%20Toronto%2023%20%20%20%20%20Central%20Toronto%2024%20%20%20%20%20Central%20Toronto%2025%20%20%20%20Downtown%20Toronto%2026%20%20%20%20Downtown%20Toronto%2027%20%20%20%20Downtown%20Toronto%2028%20%20%20%20Downtown%20Toronto%2029%20%20%20%20Downtown%20Toronto%2030%20%20%20%20Downtown%20Toronto%2031%20%20%20%20%20%20%20%20West%20Toronto%2032%20%20%20%20%20%20%20%20West%20Toronto%2033%20%20%20%20%20%20%20%20West%20Toronto%2034%20%20%20%20%20%20%20%20West%20Toronto%2035%20%20%20%20%20%20%20%20West%20Toronto%2036%20%20%20%20%20%20%20%20West%20Toronto%2037%20%20%20%20Downtown%20Toronto%2038%20%20%20%20%20%20%20%20East%20Toronto%20Name%3A%20Borough%2C%20dtype%3A%20object%20Cluster%201%3C/div%3E%60%29%5B0%5D%3B%0A%20%20%20%20%20%20%20%20%20%20%20%20popup_2975e13add9449c6a88169e3b2f24163.setContent%28html_be56e9a449ce4968afd9ed743badbc75%29%3B%0A%20%20%20%20%20%20%20%20%0A%0A%20%20%20%20%20%20%20%20circle_marker_bb945de7ba554e4d83d333cb5b651268.bindPopup%28popup_2975e13add9449c6a88169e3b2f24163%29%0A%20%20%20%20%20%20%20%20%3B%0A%0A%20%20%20%20%20%20%20%20%0A%20%20%20%20%0A%20%20%20%20%0A%20%20%20%20%20%20%20%20%20%20%20%20var%20circle_marker_cb377a8f335a4a298ed1c41fce77b729%20%3D%20L.circleMarker%28%0A%20%20%20%20%20%20%20%20%20%20%20%20%20%20%20%20%5B43.6658599%2C%20-79.38315990000001%5D%2C%0A%20%20%20%20%20%20%20%20%20%20%20%20%20%20%20%20%7B%22bubblingMouseEvents%22%3A%20true%2C%20%22color%22%3A%20%22%238000ff%22%2C%20%22dashArray%22%3A%20null%2C%20%22dashOffset%22%3A%20null%2C%20%22fill%22%3A%20true%2C%20%22fillColor%22%3A%20%22%238000ff%22%2C%20%22fillOpacity%22%3A%200.7%2C%20%22fillRule%22%3A%20%22evenodd%22%2C%20%22lineCap%22%3A%20%22round%22%2C%20%22lineJoin%22%3A%20%22round%22%2C%20%22opacity%22%3A%201.0%2C%20%22radius%22%3A%205%2C%20%22stroke%22%3A%20true%2C%20%22weight%22%3A%203%7D%0A%20%20%20%20%20%20%20%20%20%20%20%20%29.addTo%28map_a5a5d264a4c548d695ba7c6917d01407%29%3B%0A%20%20%20%20%20%20%20%20%0A%20%20%20%20%0A%20%20%20%20%20%20%20%20var%20popup_67fd920f725f4fa7a5648ef2396fb96a%20%3D%20L.popup%28%7B%22maxWidth%22%3A%20%22100%25%22%7D%29%3B%0A%0A%20%20%20%20%20%20%20%20%0A%20%20%20%20%20%20%20%20%20%20%20%20var%20html_55346774256b432bb2704fa21402e5ee%20%3D%20%24%28%60%3Cdiv%20id%3D%22html_55346774256b432bb2704fa21402e5ee%22%20style%3D%22width%3A%20100.0%25%3B%20height%3A%20100.0%25%3B%22%3E0%20%20%20%20%20%20%20%20%20East%20Toronto%201%20%20%20%20%20%20%20%20%20East%20Toronto%202%20%20%20%20%20%20%20%20%20East%20Toronto%203%20%20%20%20%20%20%20%20%20East%20Toronto%204%20%20%20%20%20%20Central%20Toronto%205%20%20%20%20%20%20Central%20Toronto%206%20%20%20%20%20%20Central%20Toronto%207%20%20%20%20%20%20Central%20Toronto%208%20%20%20%20%20%20Central%20Toronto%209%20%20%20%20%20%20Central%20Toronto%2010%20%20%20%20Downtown%20Toronto%2011%20%20%20%20Downtown%20Toronto%2012%20%20%20%20Downtown%20Toronto%2013%20%20%20%20Downtown%20Toronto%2014%20%20%20%20Downtown%20Toronto%2015%20%20%20%20Downtown%20Toronto%2016%20%20%20%20Downtown%20Toronto%2017%20%20%20%20Downtown%20Toronto%2018%20%20%20%20Downtown%20Toronto%2019%20%20%20%20Downtown%20Toronto%2020%20%20%20%20Downtown%20Toronto%2021%20%20%20%20Downtown%20Toronto%2022%20%20%20%20%20Central%20Toronto%2023%20%20%20%20%20Central%20Toronto%2024%20%20%20%20%20Central%20Toronto%2025%20%20%20%20Downtown%20Toronto%2026%20%20%20%20Downtown%20Toronto%2027%20%20%20%20Downtown%20Toronto%2028%20%20%20%20Downtown%20Toronto%2029%20%20%20%20Downtown%20Toronto%2030%20%20%20%20Downtown%20Toronto%2031%20%20%20%20%20%20%20%20West%20Toronto%2032%20%20%20%20%20%20%20%20West%20Toronto%2033%20%20%20%20%20%20%20%20West%20Toronto%2034%20%20%20%20%20%20%20%20West%20Toronto%2035%20%20%20%20%20%20%20%20West%20Toronto%2036%20%20%20%20%20%20%20%20West%20Toronto%2037%20%20%20%20Downtown%20Toronto%2038%20%20%20%20%20%20%20%20East%20Toronto%20Name%3A%20Borough%2C%20dtype%3A%20object%20Cluster%201%3C/div%3E%60%29%5B0%5D%3B%0A%20%20%20%20%20%20%20%20%20%20%20%20popup_67fd920f725f4fa7a5648ef2396fb96a.setContent%28html_55346774256b432bb2704fa21402e5ee%29%3B%0A%20%20%20%20%20%20%20%20%0A%0A%20%20%20%20%20%20%20%20circle_marker_cb377a8f335a4a298ed1c41fce77b729.bindPopup%28popup_67fd920f725f4fa7a5648ef2396fb96a%29%0A%20%20%20%20%20%20%20%20%3B%0A%0A%20%20%20%20%20%20%20%20%0A%20%20%20%20%0A%20%20%20%20%0A%20%20%20%20%20%20%20%20%20%20%20%20var%20circle_marker_7949ab66cd2746769c81e972680a2d31%20%3D%20L.circleMarker%28%0A%20%20%20%20%20%20%20%20%20%20%20%20%20%20%20%20%5B43.6542599%2C%20-79.3606359%5D%2C%0A%20%20%20%20%20%20%20%20%20%20%20%20%20%20%20%20%7B%22bubblingMouseEvents%22%3A%20true%2C%20%22color%22%3A%20%22%238000ff%22%2C%20%22dashArray%22%3A%20null%2C%20%22dashOffset%22%3A%20null%2C%20%22fill%22%3A%20true%2C%20%22fillColor%22%3A%20%22%238000ff%22%2C%20%22fillOpacity%22%3A%200.7%2C%20%22fillRule%22%3A%20%22evenodd%22%2C%20%22lineCap%22%3A%20%22round%22%2C%20%22lineJoin%22%3A%20%22round%22%2C%20%22opacity%22%3A%201.0%2C%20%22radius%22%3A%205%2C%20%22stroke%22%3A%20true%2C%20%22weight%22%3A%203%7D%0A%20%20%20%20%20%20%20%20%20%20%20%20%29.addTo%28map_a5a5d264a4c548d695ba7c6917d01407%29%3B%0A%20%20%20%20%20%20%20%20%0A%20%20%20%20%0A%20%20%20%20%20%20%20%20var%20popup_0db0fa784796455794bef9250256e6d0%20%3D%20L.popup%28%7B%22maxWidth%22%3A%20%22100%25%22%7D%29%3B%0A%0A%20%20%20%20%20%20%20%20%0A%20%20%20%20%20%20%20%20%20%20%20%20var%20html_56313570788742308b280a908c523771%20%3D%20%24%28%60%3Cdiv%20id%3D%22html_56313570788742308b280a908c523771%22%20style%3D%22width%3A%20100.0%25%3B%20height%3A%20100.0%25%3B%22%3E0%20%20%20%20%20%20%20%20%20East%20Toronto%201%20%20%20%20%20%20%20%20%20East%20Toronto%202%20%20%20%20%20%20%20%20%20East%20Toronto%203%20%20%20%20%20%20%20%20%20East%20Toronto%204%20%20%20%20%20%20Central%20Toronto%205%20%20%20%20%20%20Central%20Toronto%206%20%20%20%20%20%20Central%20Toronto%207%20%20%20%20%20%20Central%20Toronto%208%20%20%20%20%20%20Central%20Toronto%209%20%20%20%20%20%20Central%20Toronto%2010%20%20%20%20Downtown%20Toronto%2011%20%20%20%20Downtown%20Toronto%2012%20%20%20%20Downtown%20Toronto%2013%20%20%20%20Downtown%20Toronto%2014%20%20%20%20Downtown%20Toronto%2015%20%20%20%20Downtown%20Toronto%2016%20%20%20%20Downtown%20Toronto%2017%20%20%20%20Downtown%20Toronto%2018%20%20%20%20Downtown%20Toronto%2019%20%20%20%20Downtown%20Toronto%2020%20%20%20%20Downtown%20Toronto%2021%20%20%20%20Downtown%20Toronto%2022%20%20%20%20%20Central%20Toronto%2023%20%20%20%20%20Central%20Toronto%2024%20%20%20%20%20Central%20Toronto%2025%20%20%20%20Downtown%20Toronto%2026%20%20%20%20Downtown%20Toronto%2027%20%20%20%20Downtown%20Toronto%2028%20%20%20%20Downtown%20Toronto%2029%20%20%20%20Downtown%20Toronto%2030%20%20%20%20Downtown%20Toronto%2031%20%20%20%20%20%20%20%20West%20Toronto%2032%20%20%20%20%20%20%20%20West%20Toronto%2033%20%20%20%20%20%20%20%20West%20Toronto%2034%20%20%20%20%20%20%20%20West%20Toronto%2035%20%20%20%20%20%20%20%20West%20Toronto%2036%20%20%20%20%20%20%20%20West%20Toronto%2037%20%20%20%20Downtown%20Toronto%2038%20%20%20%20%20%20%20%20East%20Toronto%20Name%3A%20Borough%2C%20dtype%3A%20object%20Cluster%201%3C/div%3E%60%29%5B0%5D%3B%0A%20%20%20%20%20%20%20%20%20%20%20%20popup_0db0fa784796455794bef9250256e6d0.setContent%28html_56313570788742308b280a908c523771%29%3B%0A%20%20%20%20%20%20%20%20%0A%0A%20%20%20%20%20%20%20%20circle_marker_7949ab66cd2746769c81e972680a2d31.bindPopup%28popup_0db0fa784796455794bef9250256e6d0%29%0A%20%20%20%20%20%20%20%20%3B%0A%0A%20%20%20%20%20%20%20%20%0A%20%20%20%20%0A%20%20%20%20%0A%20%20%20%20%20%20%20%20%20%20%20%20var%20circle_marker_df54b3688a2440fd944e9a5d28870172%20%3D%20L.circleMarker%28%0A%20%20%20%20%20%20%20%20%20%20%20%20%20%20%20%20%5B43.6571618%2C%20-79.37893709999999%5D%2C%0A%20%20%20%20%20%20%20%20%20%20%20%20%20%20%20%20%7B%22bubblingMouseEvents%22%3A%20true%2C%20%22color%22%3A%20%22%238000ff%22%2C%20%22dashArray%22%3A%20null%2C%20%22dashOffset%22%3A%20null%2C%20%22fill%22%3A%20true%2C%20%22fillColor%22%3A%20%22%238000ff%22%2C%20%22fillOpacity%22%3A%200.7%2C%20%22fillRule%22%3A%20%22evenodd%22%2C%20%22lineCap%22%3A%20%22round%22%2C%20%22lineJoin%22%3A%20%22round%22%2C%20%22opacity%22%3A%201.0%2C%20%22radius%22%3A%205%2C%20%22stroke%22%3A%20true%2C%20%22weight%22%3A%203%7D%0A%20%20%20%20%20%20%20%20%20%20%20%20%29.addTo%28map_a5a5d264a4c548d695ba7c6917d01407%29%3B%0A%20%20%20%20%20%20%20%20%0A%20%20%20%20%0A%20%20%20%20%20%20%20%20var%20popup_9413e6b48c4a4397b49da98246e8c65c%20%3D%20L.popup%28%7B%22maxWidth%22%3A%20%22100%25%22%7D%29%3B%0A%0A%20%20%20%20%20%20%20%20%0A%20%20%20%20%20%20%20%20%20%20%20%20var%20html_08ebd80773174edbaf7a75e6c7b905a4%20%3D%20%24%28%60%3Cdiv%20id%3D%22html_08ebd80773174edbaf7a75e6c7b905a4%22%20style%3D%22width%3A%20100.0%25%3B%20height%3A%20100.0%25%3B%22%3E0%20%20%20%20%20%20%20%20%20East%20Toronto%201%20%20%20%20%20%20%20%20%20East%20Toronto%202%20%20%20%20%20%20%20%20%20East%20Toronto%203%20%20%20%20%20%20%20%20%20East%20Toronto%204%20%20%20%20%20%20Central%20Toronto%205%20%20%20%20%20%20Central%20Toronto%206%20%20%20%20%20%20Central%20Toronto%207%20%20%20%20%20%20Central%20Toronto%208%20%20%20%20%20%20Central%20Toronto%209%20%20%20%20%20%20Central%20Toronto%2010%20%20%20%20Downtown%20Toronto%2011%20%20%20%20Downtown%20Toronto%2012%20%20%20%20Downtown%20Toronto%2013%20%20%20%20Downtown%20Toronto%2014%20%20%20%20Downtown%20Toronto%2015%20%20%20%20Downtown%20Toronto%2016%20%20%20%20Downtown%20Toronto%2017%20%20%20%20Downtown%20Toronto%2018%20%20%20%20Downtown%20Toronto%2019%20%20%20%20Downtown%20Toronto%2020%20%20%20%20Downtown%20Toronto%2021%20%20%20%20Downtown%20Toronto%2022%20%20%20%20%20Central%20Toronto%2023%20%20%20%20%20Central%20Toronto%2024%20%20%20%20%20Central%20Toronto%2025%20%20%20%20Downtown%20Toronto%2026%20%20%20%20Downtown%20Toronto%2027%20%20%20%20Downtown%20Toronto%2028%20%20%20%20Downtown%20Toronto%2029%20%20%20%20Downtown%20Toronto%2030%20%20%20%20Downtown%20Toronto%2031%20%20%20%20%20%20%20%20West%20Toronto%2032%20%20%20%20%20%20%20%20West%20Toronto%2033%20%20%20%20%20%20%20%20West%20Toronto%2034%20%20%20%20%20%20%20%20West%20Toronto%2035%20%20%20%20%20%20%20%20West%20Toronto%2036%20%20%20%20%20%20%20%20West%20Toronto%2037%20%20%20%20Downtown%20Toronto%2038%20%20%20%20%20%20%20%20East%20Toronto%20Name%3A%20Borough%2C%20dtype%3A%20object%20Cluster%201%3C/div%3E%60%29%5B0%5D%3B%0A%20%20%20%20%20%20%20%20%20%20%20%20popup_9413e6b48c4a4397b49da98246e8c65c.setContent%28html_08ebd80773174edbaf7a75e6c7b905a4%29%3B%0A%20%20%20%20%20%20%20%20%0A%0A%20%20%20%20%20%20%20%20circle_marker_df54b3688a2440fd944e9a5d28870172.bindPopup%28popup_9413e6b48c4a4397b49da98246e8c65c%29%0A%20%20%20%20%20%20%20%20%3B%0A%0A%20%20%20%20%20%20%20%20%0A%20%20%20%20%0A%20%20%20%20%0A%20%20%20%20%20%20%20%20%20%20%20%20var%20circle_marker_ec982bdeb53e44f18b26c1f0a072fd6f%20%3D%20L.circleMarker%28%0A%20%20%20%20%20%20%20%20%20%20%20%20%20%20%20%20%5B43.6514939%2C%20-79.3754179%5D%2C%0A%20%20%20%20%20%20%20%20%20%20%20%20%20%20%20%20%7B%22bubblingMouseEvents%22%3A%20true%2C%20%22color%22%3A%20%22%238000ff%22%2C%20%22dashArray%22%3A%20null%2C%20%22dashOffset%22%3A%20null%2C%20%22fill%22%3A%20true%2C%20%22fillColor%22%3A%20%22%238000ff%22%2C%20%22fillOpacity%22%3A%200.7%2C%20%22fillRule%22%3A%20%22evenodd%22%2C%20%22lineCap%22%3A%20%22round%22%2C%20%22lineJoin%22%3A%20%22round%22%2C%20%22opacity%22%3A%201.0%2C%20%22radius%22%3A%205%2C%20%22stroke%22%3A%20true%2C%20%22weight%22%3A%203%7D%0A%20%20%20%20%20%20%20%20%20%20%20%20%29.addTo%28map_a5a5d264a4c548d695ba7c6917d01407%29%3B%0A%20%20%20%20%20%20%20%20%0A%20%20%20%20%0A%20%20%20%20%20%20%20%20var%20popup_2ba087e4aa57436b8a950df676be52c9%20%3D%20L.popup%28%7B%22maxWidth%22%3A%20%22100%25%22%7D%29%3B%0A%0A%20%20%20%20%20%20%20%20%0A%20%20%20%20%20%20%20%20%20%20%20%20var%20html_aa0a3b98b93943d6b9c59630a7412a41%20%3D%20%24%28%60%3Cdiv%20id%3D%22html_aa0a3b98b93943d6b9c59630a7412a41%22%20style%3D%22width%3A%20100.0%25%3B%20height%3A%20100.0%25%3B%22%3E0%20%20%20%20%20%20%20%20%20East%20Toronto%201%20%20%20%20%20%20%20%20%20East%20Toronto%202%20%20%20%20%20%20%20%20%20East%20Toronto%203%20%20%20%20%20%20%20%20%20East%20Toronto%204%20%20%20%20%20%20Central%20Toronto%205%20%20%20%20%20%20Central%20Toronto%206%20%20%20%20%20%20Central%20Toronto%207%20%20%20%20%20%20Central%20Toronto%208%20%20%20%20%20%20Central%20Toronto%209%20%20%20%20%20%20Central%20Toronto%2010%20%20%20%20Downtown%20Toronto%2011%20%20%20%20Downtown%20Toronto%2012%20%20%20%20Downtown%20Toronto%2013%20%20%20%20Downtown%20Toronto%2014%20%20%20%20Downtown%20Toronto%2015%20%20%20%20Downtown%20Toronto%2016%20%20%20%20Downtown%20Toronto%2017%20%20%20%20Downtown%20Toronto%2018%20%20%20%20Downtown%20Toronto%2019%20%20%20%20Downtown%20Toronto%2020%20%20%20%20Downtown%20Toronto%2021%20%20%20%20Downtown%20Toronto%2022%20%20%20%20%20Central%20Toronto%2023%20%20%20%20%20Central%20Toronto%2024%20%20%20%20%20Central%20Toronto%2025%20%20%20%20Downtown%20Toronto%2026%20%20%20%20Downtown%20Toronto%2027%20%20%20%20Downtown%20Toronto%2028%20%20%20%20Downtown%20Toronto%2029%20%20%20%20Downtown%20Toronto%2030%20%20%20%20Downtown%20Toronto%2031%20%20%20%20%20%20%20%20West%20Toronto%2032%20%20%20%20%20%20%20%20West%20Toronto%2033%20%20%20%20%20%20%20%20West%20Toronto%2034%20%20%20%20%20%20%20%20West%20Toronto%2035%20%20%20%20%20%20%20%20West%20Toronto%2036%20%20%20%20%20%20%20%20West%20Toronto%2037%20%20%20%20Downtown%20Toronto%2038%20%20%20%20%20%20%20%20East%20Toronto%20Name%3A%20Borough%2C%20dtype%3A%20object%20Cluster%201%3C/div%3E%60%29%5B0%5D%3B%0A%20%20%20%20%20%20%20%20%20%20%20%20popup_2ba087e4aa57436b8a950df676be52c9.setContent%28html_aa0a3b98b93943d6b9c59630a7412a41%29%3B%0A%20%20%20%20%20%20%20%20%0A%0A%20%20%20%20%20%20%20%20circle_marker_ec982bdeb53e44f18b26c1f0a072fd6f.bindPopup%28popup_2ba087e4aa57436b8a950df676be52c9%29%0A%20%20%20%20%20%20%20%20%3B%0A%0A%20%20%20%20%20%20%20%20%0A%20%20%20%20%0A%20%20%20%20%0A%20%20%20%20%20%20%20%20%20%20%20%20var%20circle_marker_e67dd54b36304448a0e74c2d5c9cdf8d%20%3D%20L.circleMarker%28%0A%20%20%20%20%20%20%20%20%20%20%20%20%20%20%20%20%5B43.644770799999996%2C%20-79.3733064%5D%2C%0A%20%20%20%20%20%20%20%20%20%20%20%20%20%20%20%20%7B%22bubblingMouseEvents%22%3A%20true%2C%20%22color%22%3A%20%22%238000ff%22%2C%20%22dashArray%22%3A%20null%2C%20%22dashOffset%22%3A%20null%2C%20%22fill%22%3A%20true%2C%20%22fillColor%22%3A%20%22%238000ff%22%2C%20%22fillOpacity%22%3A%200.7%2C%20%22fillRule%22%3A%20%22evenodd%22%2C%20%22lineCap%22%3A%20%22round%22%2C%20%22lineJoin%22%3A%20%22round%22%2C%20%22opacity%22%3A%201.0%2C%20%22radius%22%3A%205%2C%20%22stroke%22%3A%20true%2C%20%22weight%22%3A%203%7D%0A%20%20%20%20%20%20%20%20%20%20%20%20%29.addTo%28map_a5a5d264a4c548d695ba7c6917d01407%29%3B%0A%20%20%20%20%20%20%20%20%0A%20%20%20%20%0A%20%20%20%20%20%20%20%20var%20popup_101bcebf1ad849b9aaff7277c039671a%20%3D%20L.popup%28%7B%22maxWidth%22%3A%20%22100%25%22%7D%29%3B%0A%0A%20%20%20%20%20%20%20%20%0A%20%20%20%20%20%20%20%20%20%20%20%20var%20html_ca91c24c8911423fa8f26976ba9c65ee%20%3D%20%24%28%60%3Cdiv%20id%3D%22html_ca91c24c8911423fa8f26976ba9c65ee%22%20style%3D%22width%3A%20100.0%25%3B%20height%3A%20100.0%25%3B%22%3E0%20%20%20%20%20%20%20%20%20East%20Toronto%201%20%20%20%20%20%20%20%20%20East%20Toronto%202%20%20%20%20%20%20%20%20%20East%20Toronto%203%20%20%20%20%20%20%20%20%20East%20Toronto%204%20%20%20%20%20%20Central%20Toronto%205%20%20%20%20%20%20Central%20Toronto%206%20%20%20%20%20%20Central%20Toronto%207%20%20%20%20%20%20Central%20Toronto%208%20%20%20%20%20%20Central%20Toronto%209%20%20%20%20%20%20Central%20Toronto%2010%20%20%20%20Downtown%20Toronto%2011%20%20%20%20Downtown%20Toronto%2012%20%20%20%20Downtown%20Toronto%2013%20%20%20%20Downtown%20Toronto%2014%20%20%20%20Downtown%20Toronto%2015%20%20%20%20Downtown%20Toronto%2016%20%20%20%20Downtown%20Toronto%2017%20%20%20%20Downtown%20Toronto%2018%20%20%20%20Downtown%20Toronto%2019%20%20%20%20Downtown%20Toronto%2020%20%20%20%20Downtown%20Toronto%2021%20%20%20%20Downtown%20Toronto%2022%20%20%20%20%20Central%20Toronto%2023%20%20%20%20%20Central%20Toronto%2024%20%20%20%20%20Central%20Toronto%2025%20%20%20%20Downtown%20Toronto%2026%20%20%20%20Downtown%20Toronto%2027%20%20%20%20Downtown%20Toronto%2028%20%20%20%20Downtown%20Toronto%2029%20%20%20%20Downtown%20Toronto%2030%20%20%20%20Downtown%20Toronto%2031%20%20%20%20%20%20%20%20West%20Toronto%2032%20%20%20%20%20%20%20%20West%20Toronto%2033%20%20%20%20%20%20%20%20West%20Toronto%2034%20%20%20%20%20%20%20%20West%20Toronto%2035%20%20%20%20%20%20%20%20West%20Toronto%2036%20%20%20%20%20%20%20%20West%20Toronto%2037%20%20%20%20Downtown%20Toronto%2038%20%20%20%20%20%20%20%20East%20Toronto%20Name%3A%20Borough%2C%20dtype%3A%20object%20Cluster%201%3C/div%3E%60%29%5B0%5D%3B%0A%20%20%20%20%20%20%20%20%20%20%20%20popup_101bcebf1ad849b9aaff7277c039671a.setContent%28html_ca91c24c8911423fa8f26976ba9c65ee%29%3B%0A%20%20%20%20%20%20%20%20%0A%0A%20%20%20%20%20%20%20%20circle_marker_e67dd54b36304448a0e74c2d5c9cdf8d.bindPopup%28popup_101bcebf1ad849b9aaff7277c039671a%29%0A%20%20%20%20%20%20%20%20%3B%0A%0A%20%20%20%20%20%20%20%20%0A%20%20%20%20%0A%20%20%20%20%0A%20%20%20%20%20%20%20%20%20%20%20%20var%20circle_marker_b7ec779da42343c180bfecd5bd85a4eb%20%3D%20L.circleMarker%28%0A%20%20%20%20%20%20%20%20%20%20%20%20%20%20%20%20%5B43.6579524%2C%20-79.3873826%5D%2C%0A%20%20%20%20%20%20%20%20%20%20%20%20%20%20%20%20%7B%22bubblingMouseEvents%22%3A%20true%2C%20%22color%22%3A%20%22%238000ff%22%2C%20%22dashArray%22%3A%20null%2C%20%22dashOffset%22%3A%20null%2C%20%22fill%22%3A%20true%2C%20%22fillColor%22%3A%20%22%238000ff%22%2C%20%22fillOpacity%22%3A%200.7%2C%20%22fillRule%22%3A%20%22evenodd%22%2C%20%22lineCap%22%3A%20%22round%22%2C%20%22lineJoin%22%3A%20%22round%22%2C%20%22opacity%22%3A%201.0%2C%20%22radius%22%3A%205%2C%20%22stroke%22%3A%20true%2C%20%22weight%22%3A%203%7D%0A%20%20%20%20%20%20%20%20%20%20%20%20%29.addTo%28map_a5a5d264a4c548d695ba7c6917d01407%29%3B%0A%20%20%20%20%20%20%20%20%0A%20%20%20%20%0A%20%20%20%20%20%20%20%20var%20popup_9a46aaf45d824f63b55f928a6dffd1e6%20%3D%20L.popup%28%7B%22maxWidth%22%3A%20%22100%25%22%7D%29%3B%0A%0A%20%20%20%20%20%20%20%20%0A%20%20%20%20%20%20%20%20%20%20%20%20var%20html_055bd7b257ac4184979fbed6f02ae649%20%3D%20%24%28%60%3Cdiv%20id%3D%22html_055bd7b257ac4184979fbed6f02ae649%22%20style%3D%22width%3A%20100.0%25%3B%20height%3A%20100.0%25%3B%22%3E0%20%20%20%20%20%20%20%20%20East%20Toronto%201%20%20%20%20%20%20%20%20%20East%20Toronto%202%20%20%20%20%20%20%20%20%20East%20Toronto%203%20%20%20%20%20%20%20%20%20East%20Toronto%204%20%20%20%20%20%20Central%20Toronto%205%20%20%20%20%20%20Central%20Toronto%206%20%20%20%20%20%20Central%20Toronto%207%20%20%20%20%20%20Central%20Toronto%208%20%20%20%20%20%20Central%20Toronto%209%20%20%20%20%20%20Central%20Toronto%2010%20%20%20%20Downtown%20Toronto%2011%20%20%20%20Downtown%20Toronto%2012%20%20%20%20Downtown%20Toronto%2013%20%20%20%20Downtown%20Toronto%2014%20%20%20%20Downtown%20Toronto%2015%20%20%20%20Downtown%20Toronto%2016%20%20%20%20Downtown%20Toronto%2017%20%20%20%20Downtown%20Toronto%2018%20%20%20%20Downtown%20Toronto%2019%20%20%20%20Downtown%20Toronto%2020%20%20%20%20Downtown%20Toronto%2021%20%20%20%20Downtown%20Toronto%2022%20%20%20%20%20Central%20Toronto%2023%20%20%20%20%20Central%20Toronto%2024%20%20%20%20%20Central%20Toronto%2025%20%20%20%20Downtown%20Toronto%2026%20%20%20%20Downtown%20Toronto%2027%20%20%20%20Downtown%20Toronto%2028%20%20%20%20Downtown%20Toronto%2029%20%20%20%20Downtown%20Toronto%2030%20%20%20%20Downtown%20Toronto%2031%20%20%20%20%20%20%20%20West%20Toronto%2032%20%20%20%20%20%20%20%20West%20Toronto%2033%20%20%20%20%20%20%20%20West%20Toronto%2034%20%20%20%20%20%20%20%20West%20Toronto%2035%20%20%20%20%20%20%20%20West%20Toronto%2036%20%20%20%20%20%20%20%20West%20Toronto%2037%20%20%20%20Downtown%20Toronto%2038%20%20%20%20%20%20%20%20East%20Toronto%20Name%3A%20Borough%2C%20dtype%3A%20object%20Cluster%201%3C/div%3E%60%29%5B0%5D%3B%0A%20%20%20%20%20%20%20%20%20%20%20%20popup_9a46aaf45d824f63b55f928a6dffd1e6.setContent%28html_055bd7b257ac4184979fbed6f02ae649%29%3B%0A%20%20%20%20%20%20%20%20%0A%0A%20%20%20%20%20%20%20%20circle_marker_b7ec779da42343c180bfecd5bd85a4eb.bindPopup%28popup_9a46aaf45d824f63b55f928a6dffd1e6%29%0A%20%20%20%20%20%20%20%20%3B%0A%0A%20%20%20%20%20%20%20%20%0A%20%20%20%20%0A%20%20%20%20%0A%20%20%20%20%20%20%20%20%20%20%20%20var%20circle_marker_22cd535cb82e4704b0cb61908a7edfab%20%3D%20L.circleMarker%28%0A%20%20%20%20%20%20%20%20%20%20%20%20%20%20%20%20%5B43.65057120000001%2C%20-79.3845675%5D%2C%0A%20%20%20%20%20%20%20%20%20%20%20%20%20%20%20%20%7B%22bubblingMouseEvents%22%3A%20true%2C%20%22color%22%3A%20%22%238000ff%22%2C%20%22dashArray%22%3A%20null%2C%20%22dashOffset%22%3A%20null%2C%20%22fill%22%3A%20true%2C%20%22fillColor%22%3A%20%22%238000ff%22%2C%20%22fillOpacity%22%3A%200.7%2C%20%22fillRule%22%3A%20%22evenodd%22%2C%20%22lineCap%22%3A%20%22round%22%2C%20%22lineJoin%22%3A%20%22round%22%2C%20%22opacity%22%3A%201.0%2C%20%22radius%22%3A%205%2C%20%22stroke%22%3A%20true%2C%20%22weight%22%3A%203%7D%0A%20%20%20%20%20%20%20%20%20%20%20%20%29.addTo%28map_a5a5d264a4c548d695ba7c6917d01407%29%3B%0A%20%20%20%20%20%20%20%20%0A%20%20%20%20%0A%20%20%20%20%20%20%20%20var%20popup_c7bb2eb47dd44adfbef1ff9c37fd2886%20%3D%20L.popup%28%7B%22maxWidth%22%3A%20%22100%25%22%7D%29%3B%0A%0A%20%20%20%20%20%20%20%20%0A%20%20%20%20%20%20%20%20%20%20%20%20var%20html_51175ced98c34cbab8dd4ded5bbcd6f0%20%3D%20%24%28%60%3Cdiv%20id%3D%22html_51175ced98c34cbab8dd4ded5bbcd6f0%22%20style%3D%22width%3A%20100.0%25%3B%20height%3A%20100.0%25%3B%22%3E0%20%20%20%20%20%20%20%20%20East%20Toronto%201%20%20%20%20%20%20%20%20%20East%20Toronto%202%20%20%20%20%20%20%20%20%20East%20Toronto%203%20%20%20%20%20%20%20%20%20East%20Toronto%204%20%20%20%20%20%20Central%20Toronto%205%20%20%20%20%20%20Central%20Toronto%206%20%20%20%20%20%20Central%20Toronto%207%20%20%20%20%20%20Central%20Toronto%208%20%20%20%20%20%20Central%20Toronto%209%20%20%20%20%20%20Central%20Toronto%2010%20%20%20%20Downtown%20Toronto%2011%20%20%20%20Downtown%20Toronto%2012%20%20%20%20Downtown%20Toronto%2013%20%20%20%20Downtown%20Toronto%2014%20%20%20%20Downtown%20Toronto%2015%20%20%20%20Downtown%20Toronto%2016%20%20%20%20Downtown%20Toronto%2017%20%20%20%20Downtown%20Toronto%2018%20%20%20%20Downtown%20Toronto%2019%20%20%20%20Downtown%20Toronto%2020%20%20%20%20Downtown%20Toronto%2021%20%20%20%20Downtown%20Toronto%2022%20%20%20%20%20Central%20Toronto%2023%20%20%20%20%20Central%20Toronto%2024%20%20%20%20%20Central%20Toronto%2025%20%20%20%20Downtown%20Toronto%2026%20%20%20%20Downtown%20Toronto%2027%20%20%20%20Downtown%20Toronto%2028%20%20%20%20Downtown%20Toronto%2029%20%20%20%20Downtown%20Toronto%2030%20%20%20%20Downtown%20Toronto%2031%20%20%20%20%20%20%20%20West%20Toronto%2032%20%20%20%20%20%20%20%20West%20Toronto%2033%20%20%20%20%20%20%20%20West%20Toronto%2034%20%20%20%20%20%20%20%20West%20Toronto%2035%20%20%20%20%20%20%20%20West%20Toronto%2036%20%20%20%20%20%20%20%20West%20Toronto%2037%20%20%20%20Downtown%20Toronto%2038%20%20%20%20%20%20%20%20East%20Toronto%20Name%3A%20Borough%2C%20dtype%3A%20object%20Cluster%201%3C/div%3E%60%29%5B0%5D%3B%0A%20%20%20%20%20%20%20%20%20%20%20%20popup_c7bb2eb47dd44adfbef1ff9c37fd2886.setContent%28html_51175ced98c34cbab8dd4ded5bbcd6f0%29%3B%0A%20%20%20%20%20%20%20%20%0A%0A%20%20%20%20%20%20%20%20circle_marker_22cd535cb82e4704b0cb61908a7edfab.bindPopup%28popup_c7bb2eb47dd44adfbef1ff9c37fd2886%29%0A%20%20%20%20%20%20%20%20%3B%0A%0A%20%20%20%20%20%20%20%20%0A%20%20%20%20%0A%20%20%20%20%0A%20%20%20%20%20%20%20%20%20%20%20%20var%20circle_marker_5b03b133b4e94e37889447e214ffd39f%20%3D%20L.circleMarker%28%0A%20%20%20%20%20%20%20%20%20%20%20%20%20%20%20%20%5B43.6408157%2C%20-79.38175229999999%5D%2C%0A%20%20%20%20%20%20%20%20%20%20%20%20%20%20%20%20%7B%22bubblingMouseEvents%22%3A%20true%2C%20%22color%22%3A%20%22%238000ff%22%2C%20%22dashArray%22%3A%20null%2C%20%22dashOffset%22%3A%20null%2C%20%22fill%22%3A%20true%2C%20%22fillColor%22%3A%20%22%238000ff%22%2C%20%22fillOpacity%22%3A%200.7%2C%20%22fillRule%22%3A%20%22evenodd%22%2C%20%22lineCap%22%3A%20%22round%22%2C%20%22lineJoin%22%3A%20%22round%22%2C%20%22opacity%22%3A%201.0%2C%20%22radius%22%3A%205%2C%20%22stroke%22%3A%20true%2C%20%22weight%22%3A%203%7D%0A%20%20%20%20%20%20%20%20%20%20%20%20%29.addTo%28map_a5a5d264a4c548d695ba7c6917d01407%29%3B%0A%20%20%20%20%20%20%20%20%0A%20%20%20%20%0A%20%20%20%20%20%20%20%20var%20popup_111c3819ecf142a0953647a2f15703ad%20%3D%20L.popup%28%7B%22maxWidth%22%3A%20%22100%25%22%7D%29%3B%0A%0A%20%20%20%20%20%20%20%20%0A%20%20%20%20%20%20%20%20%20%20%20%20var%20html_ad69aee9964c48ee934112fc4f19035b%20%3D%20%24%28%60%3Cdiv%20id%3D%22html_ad69aee9964c48ee934112fc4f19035b%22%20style%3D%22width%3A%20100.0%25%3B%20height%3A%20100.0%25%3B%22%3E0%20%20%20%20%20%20%20%20%20East%20Toronto%201%20%20%20%20%20%20%20%20%20East%20Toronto%202%20%20%20%20%20%20%20%20%20East%20Toronto%203%20%20%20%20%20%20%20%20%20East%20Toronto%204%20%20%20%20%20%20Central%20Toronto%205%20%20%20%20%20%20Central%20Toronto%206%20%20%20%20%20%20Central%20Toronto%207%20%20%20%20%20%20Central%20Toronto%208%20%20%20%20%20%20Central%20Toronto%209%20%20%20%20%20%20Central%20Toronto%2010%20%20%20%20Downtown%20Toronto%2011%20%20%20%20Downtown%20Toronto%2012%20%20%20%20Downtown%20Toronto%2013%20%20%20%20Downtown%20Toronto%2014%20%20%20%20Downtown%20Toronto%2015%20%20%20%20Downtown%20Toronto%2016%20%20%20%20Downtown%20Toronto%2017%20%20%20%20Downtown%20Toronto%2018%20%20%20%20Downtown%20Toronto%2019%20%20%20%20Downtown%20Toronto%2020%20%20%20%20Downtown%20Toronto%2021%20%20%20%20Downtown%20Toronto%2022%20%20%20%20%20Central%20Toronto%2023%20%20%20%20%20Central%20Toronto%2024%20%20%20%20%20Central%20Toronto%2025%20%20%20%20Downtown%20Toronto%2026%20%20%20%20Downtown%20Toronto%2027%20%20%20%20Downtown%20Toronto%2028%20%20%20%20Downtown%20Toronto%2029%20%20%20%20Downtown%20Toronto%2030%20%20%20%20Downtown%20Toronto%2031%20%20%20%20%20%20%20%20West%20Toronto%2032%20%20%20%20%20%20%20%20West%20Toronto%2033%20%20%20%20%20%20%20%20West%20Toronto%2034%20%20%20%20%20%20%20%20West%20Toronto%2035%20%20%20%20%20%20%20%20West%20Toronto%2036%20%20%20%20%20%20%20%20West%20Toronto%2037%20%20%20%20Downtown%20Toronto%2038%20%20%20%20%20%20%20%20East%20Toronto%20Name%3A%20Borough%2C%20dtype%3A%20object%20Cluster%201%3C/div%3E%60%29%5B0%5D%3B%0A%20%20%20%20%20%20%20%20%20%20%20%20popup_111c3819ecf142a0953647a2f15703ad.setContent%28html_ad69aee9964c48ee934112fc4f19035b%29%3B%0A%20%20%20%20%20%20%20%20%0A%0A%20%20%20%20%20%20%20%20circle_marker_5b03b133b4e94e37889447e214ffd39f.bindPopup%28popup_111c3819ecf142a0953647a2f15703ad%29%0A%20%20%20%20%20%20%20%20%3B%0A%0A%20%20%20%20%20%20%20%20%0A%20%20%20%20%0A%20%20%20%20%0A%20%20%20%20%20%20%20%20%20%20%20%20var%20circle_marker_ef45ef4572cd4db39679cb6a62ec674f%20%3D%20L.circleMarker%28%0A%20%20%20%20%20%20%20%20%20%20%20%20%20%20%20%20%5B43.6471768%2C%20-79.38157640000001%5D%2C%0A%20%20%20%20%20%20%20%20%20%20%20%20%20%20%20%20%7B%22bubblingMouseEvents%22%3A%20true%2C%20%22color%22%3A%20%22%238000ff%22%2C%20%22dashArray%22%3A%20null%2C%20%22dashOffset%22%3A%20null%2C%20%22fill%22%3A%20true%2C%20%22fillColor%22%3A%20%22%238000ff%22%2C%20%22fillOpacity%22%3A%200.7%2C%20%22fillRule%22%3A%20%22evenodd%22%2C%20%22lineCap%22%3A%20%22round%22%2C%20%22lineJoin%22%3A%20%22round%22%2C%20%22opacity%22%3A%201.0%2C%20%22radius%22%3A%205%2C%20%22stroke%22%3A%20true%2C%20%22weight%22%3A%203%7D%0A%20%20%20%20%20%20%20%20%20%20%20%20%29.addTo%28map_a5a5d264a4c548d695ba7c6917d01407%29%3B%0A%20%20%20%20%20%20%20%20%0A%20%20%20%20%0A%20%20%20%20%20%20%20%20var%20popup_d489ddd7e7804a81886ed0e989be1f51%20%3D%20L.popup%28%7B%22maxWidth%22%3A%20%22100%25%22%7D%29%3B%0A%0A%20%20%20%20%20%20%20%20%0A%20%20%20%20%20%20%20%20%20%20%20%20var%20html_8f05f61f7edf48a5a8d0fdbc8e0ecba1%20%3D%20%24%28%60%3Cdiv%20id%3D%22html_8f05f61f7edf48a5a8d0fdbc8e0ecba1%22%20style%3D%22width%3A%20100.0%25%3B%20height%3A%20100.0%25%3B%22%3E0%20%20%20%20%20%20%20%20%20East%20Toronto%201%20%20%20%20%20%20%20%20%20East%20Toronto%202%20%20%20%20%20%20%20%20%20East%20Toronto%203%20%20%20%20%20%20%20%20%20East%20Toronto%204%20%20%20%20%20%20Central%20Toronto%205%20%20%20%20%20%20Central%20Toronto%206%20%20%20%20%20%20Central%20Toronto%207%20%20%20%20%20%20Central%20Toronto%208%20%20%20%20%20%20Central%20Toronto%209%20%20%20%20%20%20Central%20Toronto%2010%20%20%20%20Downtown%20Toronto%2011%20%20%20%20Downtown%20Toronto%2012%20%20%20%20Downtown%20Toronto%2013%20%20%20%20Downtown%20Toronto%2014%20%20%20%20Downtown%20Toronto%2015%20%20%20%20Downtown%20Toronto%2016%20%20%20%20Downtown%20Toronto%2017%20%20%20%20Downtown%20Toronto%2018%20%20%20%20Downtown%20Toronto%2019%20%20%20%20Downtown%20Toronto%2020%20%20%20%20Downtown%20Toronto%2021%20%20%20%20Downtown%20Toronto%2022%20%20%20%20%20Central%20Toronto%2023%20%20%20%20%20Central%20Toronto%2024%20%20%20%20%20Central%20Toronto%2025%20%20%20%20Downtown%20Toronto%2026%20%20%20%20Downtown%20Toronto%2027%20%20%20%20Downtown%20Toronto%2028%20%20%20%20Downtown%20Toronto%2029%20%20%20%20Downtown%20Toronto%2030%20%20%20%20Downtown%20Toronto%2031%20%20%20%20%20%20%20%20West%20Toronto%2032%20%20%20%20%20%20%20%20West%20Toronto%2033%20%20%20%20%20%20%20%20West%20Toronto%2034%20%20%20%20%20%20%20%20West%20Toronto%2035%20%20%20%20%20%20%20%20West%20Toronto%2036%20%20%20%20%20%20%20%20West%20Toronto%2037%20%20%20%20Downtown%20Toronto%2038%20%20%20%20%20%20%20%20East%20Toronto%20Name%3A%20Borough%2C%20dtype%3A%20object%20Cluster%201%3C/div%3E%60%29%5B0%5D%3B%0A%20%20%20%20%20%20%20%20%20%20%20%20popup_d489ddd7e7804a81886ed0e989be1f51.setContent%28html_8f05f61f7edf48a5a8d0fdbc8e0ecba1%29%3B%0A%20%20%20%20%20%20%20%20%0A%0A%20%20%20%20%20%20%20%20circle_marker_ef45ef4572cd4db39679cb6a62ec674f.bindPopup%28popup_d489ddd7e7804a81886ed0e989be1f51%29%0A%20%20%20%20%20%20%20%20%3B%0A%0A%20%20%20%20%20%20%20%20%0A%20%20%20%20%0A%20%20%20%20%0A%20%20%20%20%20%20%20%20%20%20%20%20var%20circle_marker_121ae38747874a8c8f788a3895c71ae1%20%3D%20L.circleMarker%28%0A%20%20%20%20%20%20%20%20%20%20%20%20%20%20%20%20%5B43.6481985%2C%20-79.37981690000001%5D%2C%0A%20%20%20%20%20%20%20%20%20%20%20%20%20%20%20%20%7B%22bubblingMouseEvents%22%3A%20true%2C%20%22color%22%3A%20%22%238000ff%22%2C%20%22dashArray%22%3A%20null%2C%20%22dashOffset%22%3A%20null%2C%20%22fill%22%3A%20true%2C%20%22fillColor%22%3A%20%22%238000ff%22%2C%20%22fillOpacity%22%3A%200.7%2C%20%22fillRule%22%3A%20%22evenodd%22%2C%20%22lineCap%22%3A%20%22round%22%2C%20%22lineJoin%22%3A%20%22round%22%2C%20%22opacity%22%3A%201.0%2C%20%22radius%22%3A%205%2C%20%22stroke%22%3A%20true%2C%20%22weight%22%3A%203%7D%0A%20%20%20%20%20%20%20%20%20%20%20%20%29.addTo%28map_a5a5d264a4c548d695ba7c6917d01407%29%3B%0A%20%20%20%20%20%20%20%20%0A%20%20%20%20%0A%20%20%20%20%20%20%20%20var%20popup_0f7fec49d9a347fe8dbfd63d7bfaf656%20%3D%20L.popup%28%7B%22maxWidth%22%3A%20%22100%25%22%7D%29%3B%0A%0A%20%20%20%20%20%20%20%20%0A%20%20%20%20%20%20%20%20%20%20%20%20var%20html_8f2b0b0c585c4a1f81743830119ea674%20%3D%20%24%28%60%3Cdiv%20id%3D%22html_8f2b0b0c585c4a1f81743830119ea674%22%20style%3D%22width%3A%20100.0%25%3B%20height%3A%20100.0%25%3B%22%3E0%20%20%20%20%20%20%20%20%20East%20Toronto%201%20%20%20%20%20%20%20%20%20East%20Toronto%202%20%20%20%20%20%20%20%20%20East%20Toronto%203%20%20%20%20%20%20%20%20%20East%20Toronto%204%20%20%20%20%20%20Central%20Toronto%205%20%20%20%20%20%20Central%20Toronto%206%20%20%20%20%20%20Central%20Toronto%207%20%20%20%20%20%20Central%20Toronto%208%20%20%20%20%20%20Central%20Toronto%209%20%20%20%20%20%20Central%20Toronto%2010%20%20%20%20Downtown%20Toronto%2011%20%20%20%20Downtown%20Toronto%2012%20%20%20%20Downtown%20Toronto%2013%20%20%20%20Downtown%20Toronto%2014%20%20%20%20Downtown%20Toronto%2015%20%20%20%20Downtown%20Toronto%2016%20%20%20%20Downtown%20Toronto%2017%20%20%20%20Downtown%20Toronto%2018%20%20%20%20Downtown%20Toronto%2019%20%20%20%20Downtown%20Toronto%2020%20%20%20%20Downtown%20Toronto%2021%20%20%20%20Downtown%20Toronto%2022%20%20%20%20%20Central%20Toronto%2023%20%20%20%20%20Central%20Toronto%2024%20%20%20%20%20Central%20Toronto%2025%20%20%20%20Downtown%20Toronto%2026%20%20%20%20Downtown%20Toronto%2027%20%20%20%20Downtown%20Toronto%2028%20%20%20%20Downtown%20Toronto%2029%20%20%20%20Downtown%20Toronto%2030%20%20%20%20Downtown%20Toronto%2031%20%20%20%20%20%20%20%20West%20Toronto%2032%20%20%20%20%20%20%20%20West%20Toronto%2033%20%20%20%20%20%20%20%20West%20Toronto%2034%20%20%20%20%20%20%20%20West%20Toronto%2035%20%20%20%20%20%20%20%20West%20Toronto%2036%20%20%20%20%20%20%20%20West%20Toronto%2037%20%20%20%20Downtown%20Toronto%2038%20%20%20%20%20%20%20%20East%20Toronto%20Name%3A%20Borough%2C%20dtype%3A%20object%20Cluster%201%3C/div%3E%60%29%5B0%5D%3B%0A%20%20%20%20%20%20%20%20%20%20%20%20popup_0f7fec49d9a347fe8dbfd63d7bfaf656.setContent%28html_8f2b0b0c585c4a1f81743830119ea674%29%3B%0A%20%20%20%20%20%20%20%20%0A%0A%20%20%20%20%20%20%20%20circle_marker_121ae38747874a8c8f788a3895c71ae1.bindPopup%28popup_0f7fec49d9a347fe8dbfd63d7bfaf656%29%0A%20%20%20%20%20%20%20%20%3B%0A%0A%20%20%20%20%20%20%20%20%0A%20%20%20%20%0A%20%20%20%20%0A%20%20%20%20%20%20%20%20%20%20%20%20var%20circle_marker_363567ca428040ce81aef0cfa4eee421%20%3D%20L.circleMarker%28%0A%20%20%20%20%20%20%20%20%20%20%20%20%20%20%20%20%5B43.7116948%2C%20-79.41693559999999%5D%2C%0A%20%20%20%20%20%20%20%20%20%20%20%20%20%20%20%20%7B%22bubblingMouseEvents%22%3A%20true%2C%20%22color%22%3A%20%22%232adddd%22%2C%20%22dashArray%22%3A%20null%2C%20%22dashOffset%22%3A%20null%2C%20%22fill%22%3A%20true%2C%20%22fillColor%22%3A%20%22%232adddd%22%2C%20%22fillOpacity%22%3A%200.7%2C%20%22fillRule%22%3A%20%22evenodd%22%2C%20%22lineCap%22%3A%20%22round%22%2C%20%22lineJoin%22%3A%20%22round%22%2C%20%22opacity%22%3A%201.0%2C%20%22radius%22%3A%205%2C%20%22stroke%22%3A%20true%2C%20%22weight%22%3A%203%7D%0A%20%20%20%20%20%20%20%20%20%20%20%20%29.addTo%28map_a5a5d264a4c548d695ba7c6917d01407%29%3B%0A%20%20%20%20%20%20%20%20%0A%20%20%20%20%0A%20%20%20%20%20%20%20%20var%20popup_d493f98ba230405896b16c425c988456%20%3D%20L.popup%28%7B%22maxWidth%22%3A%20%22100%25%22%7D%29%3B%0A%0A%20%20%20%20%20%20%20%20%0A%20%20%20%20%20%20%20%20%20%20%20%20var%20html_38487795d4a44bb2835386b77b962a26%20%3D%20%24%28%60%3Cdiv%20id%3D%22html_38487795d4a44bb2835386b77b962a26%22%20style%3D%22width%3A%20100.0%25%3B%20height%3A%20100.0%25%3B%22%3E0%20%20%20%20%20%20%20%20%20East%20Toronto%201%20%20%20%20%20%20%20%20%20East%20Toronto%202%20%20%20%20%20%20%20%20%20East%20Toronto%203%20%20%20%20%20%20%20%20%20East%20Toronto%204%20%20%20%20%20%20Central%20Toronto%205%20%20%20%20%20%20Central%20Toronto%206%20%20%20%20%20%20Central%20Toronto%207%20%20%20%20%20%20Central%20Toronto%208%20%20%20%20%20%20Central%20Toronto%209%20%20%20%20%20%20Central%20Toronto%2010%20%20%20%20Downtown%20Toronto%2011%20%20%20%20Downtown%20Toronto%2012%20%20%20%20Downtown%20Toronto%2013%20%20%20%20Downtown%20Toronto%2014%20%20%20%20Downtown%20Toronto%2015%20%20%20%20Downtown%20Toronto%2016%20%20%20%20Downtown%20Toronto%2017%20%20%20%20Downtown%20Toronto%2018%20%20%20%20Downtown%20Toronto%2019%20%20%20%20Downtown%20Toronto%2020%20%20%20%20Downtown%20Toronto%2021%20%20%20%20Downtown%20Toronto%2022%20%20%20%20%20Central%20Toronto%2023%20%20%20%20%20Central%20Toronto%2024%20%20%20%20%20Central%20Toronto%2025%20%20%20%20Downtown%20Toronto%2026%20%20%20%20Downtown%20Toronto%2027%20%20%20%20Downtown%20Toronto%2028%20%20%20%20Downtown%20Toronto%2029%20%20%20%20Downtown%20Toronto%2030%20%20%20%20Downtown%20Toronto%2031%20%20%20%20%20%20%20%20West%20Toronto%2032%20%20%20%20%20%20%20%20West%20Toronto%2033%20%20%20%20%20%20%20%20West%20Toronto%2034%20%20%20%20%20%20%20%20West%20Toronto%2035%20%20%20%20%20%20%20%20West%20Toronto%2036%20%20%20%20%20%20%20%20West%20Toronto%2037%20%20%20%20Downtown%20Toronto%2038%20%20%20%20%20%20%20%20East%20Toronto%20Name%3A%20Borough%2C%20dtype%3A%20object%20Cluster%202%3C/div%3E%60%29%5B0%5D%3B%0A%20%20%20%20%20%20%20%20%20%20%20%20popup_d493f98ba230405896b16c425c988456.setContent%28html_38487795d4a44bb2835386b77b962a26%29%3B%0A%20%20%20%20%20%20%20%20%0A%0A%20%20%20%20%20%20%20%20circle_marker_363567ca428040ce81aef0cfa4eee421.bindPopup%28popup_d493f98ba230405896b16c425c988456%29%0A%20%20%20%20%20%20%20%20%3B%0A%0A%20%20%20%20%20%20%20%20%0A%20%20%20%20%0A%20%20%20%20%0A%20%20%20%20%20%20%20%20%20%20%20%20var%20circle_marker_d8333c13c22e4431ae89c6e7cf56d6b7%20%3D%20L.circleMarker%28%0A%20%20%20%20%20%20%20%20%20%20%20%20%20%20%20%20%5B43.6969476%2C%20-79.41130720000001%5D%2C%0A%20%20%20%20%20%20%20%20%20%20%20%20%20%20%20%20%7B%22bubblingMouseEvents%22%3A%20true%2C%20%22color%22%3A%20%22%232adddd%22%2C%20%22dashArray%22%3A%20null%2C%20%22dashOffset%22%3A%20null%2C%20%22fill%22%3A%20true%2C%20%22fillColor%22%3A%20%22%232adddd%22%2C%20%22fillOpacity%22%3A%200.7%2C%20%22fillRule%22%3A%20%22evenodd%22%2C%20%22lineCap%22%3A%20%22round%22%2C%20%22lineJoin%22%3A%20%22round%22%2C%20%22opacity%22%3A%201.0%2C%20%22radius%22%3A%205%2C%20%22stroke%22%3A%20true%2C%20%22weight%22%3A%203%7D%0A%20%20%20%20%20%20%20%20%20%20%20%20%29.addTo%28map_a5a5d264a4c548d695ba7c6917d01407%29%3B%0A%20%20%20%20%20%20%20%20%0A%20%20%20%20%0A%20%20%20%20%20%20%20%20var%20popup_8f1f0ed874b24724bfba35a32201a8ab%20%3D%20L.popup%28%7B%22maxWidth%22%3A%20%22100%25%22%7D%29%3B%0A%0A%20%20%20%20%20%20%20%20%0A%20%20%20%20%20%20%20%20%20%20%20%20var%20html_def4a7f41d374d6da09269e428189b03%20%3D%20%24%28%60%3Cdiv%20id%3D%22html_def4a7f41d374d6da09269e428189b03%22%20style%3D%22width%3A%20100.0%25%3B%20height%3A%20100.0%25%3B%22%3E0%20%20%20%20%20%20%20%20%20East%20Toronto%201%20%20%20%20%20%20%20%20%20East%20Toronto%202%20%20%20%20%20%20%20%20%20East%20Toronto%203%20%20%20%20%20%20%20%20%20East%20Toronto%204%20%20%20%20%20%20Central%20Toronto%205%20%20%20%20%20%20Central%20Toronto%206%20%20%20%20%20%20Central%20Toronto%207%20%20%20%20%20%20Central%20Toronto%208%20%20%20%20%20%20Central%20Toronto%209%20%20%20%20%20%20Central%20Toronto%2010%20%20%20%20Downtown%20Toronto%2011%20%20%20%20Downtown%20Toronto%2012%20%20%20%20Downtown%20Toronto%2013%20%20%20%20Downtown%20Toronto%2014%20%20%20%20Downtown%20Toronto%2015%20%20%20%20Downtown%20Toronto%2016%20%20%20%20Downtown%20Toronto%2017%20%20%20%20Downtown%20Toronto%2018%20%20%20%20Downtown%20Toronto%2019%20%20%20%20Downtown%20Toronto%2020%20%20%20%20Downtown%20Toronto%2021%20%20%20%20Downtown%20Toronto%2022%20%20%20%20%20Central%20Toronto%2023%20%20%20%20%20Central%20Toronto%2024%20%20%20%20%20Central%20Toronto%2025%20%20%20%20Downtown%20Toronto%2026%20%20%20%20Downtown%20Toronto%2027%20%20%20%20Downtown%20Toronto%2028%20%20%20%20Downtown%20Toronto%2029%20%20%20%20Downtown%20Toronto%2030%20%20%20%20Downtown%20Toronto%2031%20%20%20%20%20%20%20%20West%20Toronto%2032%20%20%20%20%20%20%20%20West%20Toronto%2033%20%20%20%20%20%20%20%20West%20Toronto%2034%20%20%20%20%20%20%20%20West%20Toronto%2035%20%20%20%20%20%20%20%20West%20Toronto%2036%20%20%20%20%20%20%20%20West%20Toronto%2037%20%20%20%20Downtown%20Toronto%2038%20%20%20%20%20%20%20%20East%20Toronto%20Name%3A%20Borough%2C%20dtype%3A%20object%20Cluster%202%3C/div%3E%60%29%5B0%5D%3B%0A%20%20%20%20%20%20%20%20%20%20%20%20popup_8f1f0ed874b24724bfba35a32201a8ab.setContent%28html_def4a7f41d374d6da09269e428189b03%29%3B%0A%20%20%20%20%20%20%20%20%0A%0A%20%20%20%20%20%20%20%20circle_marker_d8333c13c22e4431ae89c6e7cf56d6b7.bindPopup%28popup_8f1f0ed874b24724bfba35a32201a8ab%29%0A%20%20%20%20%20%20%20%20%3B%0A%0A%20%20%20%20%20%20%20%20%0A%20%20%20%20%0A%20%20%20%20%0A%20%20%20%20%20%20%20%20%20%20%20%20var%20circle_marker_5895dc542b1a416a8b80256ce8709923%20%3D%20L.circleMarker%28%0A%20%20%20%20%20%20%20%20%20%20%20%20%20%20%20%20%5B43.6727097%2C%20-79.40567840000001%5D%2C%0A%20%20%20%20%20%20%20%20%20%20%20%20%20%20%20%20%7B%22bubblingMouseEvents%22%3A%20true%2C%20%22color%22%3A%20%22%232adddd%22%2C%20%22dashArray%22%3A%20null%2C%20%22dashOffset%22%3A%20null%2C%20%22fill%22%3A%20true%2C%20%22fillColor%22%3A%20%22%232adddd%22%2C%20%22fillOpacity%22%3A%200.7%2C%20%22fillRule%22%3A%20%22evenodd%22%2C%20%22lineCap%22%3A%20%22round%22%2C%20%22lineJoin%22%3A%20%22round%22%2C%20%22opacity%22%3A%201.0%2C%20%22radius%22%3A%205%2C%20%22stroke%22%3A%20true%2C%20%22weight%22%3A%203%7D%0A%20%20%20%20%20%20%20%20%20%20%20%20%29.addTo%28map_a5a5d264a4c548d695ba7c6917d01407%29%3B%0A%20%20%20%20%20%20%20%20%0A%20%20%20%20%0A%20%20%20%20%20%20%20%20var%20popup_d360d7ca80c7485b8ea4fcb15dc09c3c%20%3D%20L.popup%28%7B%22maxWidth%22%3A%20%22100%25%22%7D%29%3B%0A%0A%20%20%20%20%20%20%20%20%0A%20%20%20%20%20%20%20%20%20%20%20%20var%20html_3d23e1c2dd104dfab1b8f5dd283da055%20%3D%20%24%28%60%3Cdiv%20id%3D%22html_3d23e1c2dd104dfab1b8f5dd283da055%22%20style%3D%22width%3A%20100.0%25%3B%20height%3A%20100.0%25%3B%22%3E0%20%20%20%20%20%20%20%20%20East%20Toronto%201%20%20%20%20%20%20%20%20%20East%20Toronto%202%20%20%20%20%20%20%20%20%20East%20Toronto%203%20%20%20%20%20%20%20%20%20East%20Toronto%204%20%20%20%20%20%20Central%20Toronto%205%20%20%20%20%20%20Central%20Toronto%206%20%20%20%20%20%20Central%20Toronto%207%20%20%20%20%20%20Central%20Toronto%208%20%20%20%20%20%20Central%20Toronto%209%20%20%20%20%20%20Central%20Toronto%2010%20%20%20%20Downtown%20Toronto%2011%20%20%20%20Downtown%20Toronto%2012%20%20%20%20Downtown%20Toronto%2013%20%20%20%20Downtown%20Toronto%2014%20%20%20%20Downtown%20Toronto%2015%20%20%20%20Downtown%20Toronto%2016%20%20%20%20Downtown%20Toronto%2017%20%20%20%20Downtown%20Toronto%2018%20%20%20%20Downtown%20Toronto%2019%20%20%20%20Downtown%20Toronto%2020%20%20%20%20Downtown%20Toronto%2021%20%20%20%20Downtown%20Toronto%2022%20%20%20%20%20Central%20Toronto%2023%20%20%20%20%20Central%20Toronto%2024%20%20%20%20%20Central%20Toronto%2025%20%20%20%20Downtown%20Toronto%2026%20%20%20%20Downtown%20Toronto%2027%20%20%20%20Downtown%20Toronto%2028%20%20%20%20Downtown%20Toronto%2029%20%20%20%20Downtown%20Toronto%2030%20%20%20%20Downtown%20Toronto%2031%20%20%20%20%20%20%20%20West%20Toronto%2032%20%20%20%20%20%20%20%20West%20Toronto%2033%20%20%20%20%20%20%20%20West%20Toronto%2034%20%20%20%20%20%20%20%20West%20Toronto%2035%20%20%20%20%20%20%20%20West%20Toronto%2036%20%20%20%20%20%20%20%20West%20Toronto%2037%20%20%20%20Downtown%20Toronto%2038%20%20%20%20%20%20%20%20East%20Toronto%20Name%3A%20Borough%2C%20dtype%3A%20object%20Cluster%202%3C/div%3E%60%29%5B0%5D%3B%0A%20%20%20%20%20%20%20%20%20%20%20%20popup_d360d7ca80c7485b8ea4fcb15dc09c3c.setContent%28html_3d23e1c2dd104dfab1b8f5dd283da055%29%3B%0A%20%20%20%20%20%20%20%20%0A%0A%20%20%20%20%20%20%20%20circle_marker_5895dc542b1a416a8b80256ce8709923.bindPopup%28popup_d360d7ca80c7485b8ea4fcb15dc09c3c%29%0A%20%20%20%20%20%20%20%20%3B%0A%0A%20%20%20%20%20%20%20%20%0A%20%20%20%20%0A%20%20%20%20%0A%20%20%20%20%20%20%20%20%20%20%20%20var%20circle_marker_1fd9c9e1abf24f84b44e794410628d82%20%3D%20L.circleMarker%28%0A%20%20%20%20%20%20%20%20%20%20%20%20%20%20%20%20%5B43.6626956%2C%20-79.4000493%5D%2C%0A%20%20%20%20%20%20%20%20%20%20%20%20%20%20%20%20%7B%22bubblingMouseEvents%22%3A%20true%2C%20%22color%22%3A%20%22%238000ff%22%2C%20%22dashArray%22%3A%20null%2C%20%22dashOffset%22%3A%20null%2C%20%22fill%22%3A%20true%2C%20%22fillColor%22%3A%20%22%238000ff%22%2C%20%22fillOpacity%22%3A%200.7%2C%20%22fillRule%22%3A%20%22evenodd%22%2C%20%22lineCap%22%3A%20%22round%22%2C%20%22lineJoin%22%3A%20%22round%22%2C%20%22opacity%22%3A%201.0%2C%20%22radius%22%3A%205%2C%20%22stroke%22%3A%20true%2C%20%22weight%22%3A%203%7D%0A%20%20%20%20%20%20%20%20%20%20%20%20%29.addTo%28map_a5a5d264a4c548d695ba7c6917d01407%29%3B%0A%20%20%20%20%20%20%20%20%0A%20%20%20%20%0A%20%20%20%20%20%20%20%20var%20popup_97f69ab880de43e186e1dc74f9490c83%20%3D%20L.popup%28%7B%22maxWidth%22%3A%20%22100%25%22%7D%29%3B%0A%0A%20%20%20%20%20%20%20%20%0A%20%20%20%20%20%20%20%20%20%20%20%20var%20html_43d91f1bd3804218bfb941c25ff3581e%20%3D%20%24%28%60%3Cdiv%20id%3D%22html_43d91f1bd3804218bfb941c25ff3581e%22%20style%3D%22width%3A%20100.0%25%3B%20height%3A%20100.0%25%3B%22%3E0%20%20%20%20%20%20%20%20%20East%20Toronto%201%20%20%20%20%20%20%20%20%20East%20Toronto%202%20%20%20%20%20%20%20%20%20East%20Toronto%203%20%20%20%20%20%20%20%20%20East%20Toronto%204%20%20%20%20%20%20Central%20Toronto%205%20%20%20%20%20%20Central%20Toronto%206%20%20%20%20%20%20Central%20Toronto%207%20%20%20%20%20%20Central%20Toronto%208%20%20%20%20%20%20Central%20Toronto%209%20%20%20%20%20%20Central%20Toronto%2010%20%20%20%20Downtown%20Toronto%2011%20%20%20%20Downtown%20Toronto%2012%20%20%20%20Downtown%20Toronto%2013%20%20%20%20Downtown%20Toronto%2014%20%20%20%20Downtown%20Toronto%2015%20%20%20%20Downtown%20Toronto%2016%20%20%20%20Downtown%20Toronto%2017%20%20%20%20Downtown%20Toronto%2018%20%20%20%20Downtown%20Toronto%2019%20%20%20%20Downtown%20Toronto%2020%20%20%20%20Downtown%20Toronto%2021%20%20%20%20Downtown%20Toronto%2022%20%20%20%20%20Central%20Toronto%2023%20%20%20%20%20Central%20Toronto%2024%20%20%20%20%20Central%20Toronto%2025%20%20%20%20Downtown%20Toronto%2026%20%20%20%20Downtown%20Toronto%2027%20%20%20%20Downtown%20Toronto%2028%20%20%20%20Downtown%20Toronto%2029%20%20%20%20Downtown%20Toronto%2030%20%20%20%20Downtown%20Toronto%2031%20%20%20%20%20%20%20%20West%20Toronto%2032%20%20%20%20%20%20%20%20West%20Toronto%2033%20%20%20%20%20%20%20%20West%20Toronto%2034%20%20%20%20%20%20%20%20West%20Toronto%2035%20%20%20%20%20%20%20%20West%20Toronto%2036%20%20%20%20%20%20%20%20West%20Toronto%2037%20%20%20%20Downtown%20Toronto%2038%20%20%20%20%20%20%20%20East%20Toronto%20Name%3A%20Borough%2C%20dtype%3A%20object%20Cluster%201%3C/div%3E%60%29%5B0%5D%3B%0A%20%20%20%20%20%20%20%20%20%20%20%20popup_97f69ab880de43e186e1dc74f9490c83.setContent%28html_43d91f1bd3804218bfb941c25ff3581e%29%3B%0A%20%20%20%20%20%20%20%20%0A%0A%20%20%20%20%20%20%20%20circle_marker_1fd9c9e1abf24f84b44e794410628d82.bindPopup%28popup_97f69ab880de43e186e1dc74f9490c83%29%0A%20%20%20%20%20%20%20%20%3B%0A%0A%20%20%20%20%20%20%20%20%0A%20%20%20%20%0A%20%20%20%20%0A%20%20%20%20%20%20%20%20%20%20%20%20var%20circle_marker_39410e0aa956437f8c197c2b7a6cba0a%20%3D%20L.circleMarker%28%0A%20%20%20%20%20%20%20%20%20%20%20%20%20%20%20%20%5B43.6532057%2C%20-79.4000493%5D%2C%0A%20%20%20%20%20%20%20%20%20%20%20%20%20%20%20%20%7B%22bubblingMouseEvents%22%3A%20true%2C%20%22color%22%3A%20%22%238000ff%22%2C%20%22dashArray%22%3A%20null%2C%20%22dashOffset%22%3A%20null%2C%20%22fill%22%3A%20true%2C%20%22fillColor%22%3A%20%22%238000ff%22%2C%20%22fillOpacity%22%3A%200.7%2C%20%22fillRule%22%3A%20%22evenodd%22%2C%20%22lineCap%22%3A%20%22round%22%2C%20%22lineJoin%22%3A%20%22round%22%2C%20%22opacity%22%3A%201.0%2C%20%22radius%22%3A%205%2C%20%22stroke%22%3A%20true%2C%20%22weight%22%3A%203%7D%0A%20%20%20%20%20%20%20%20%20%20%20%20%29.addTo%28map_a5a5d264a4c548d695ba7c6917d01407%29%3B%0A%20%20%20%20%20%20%20%20%0A%20%20%20%20%0A%20%20%20%20%20%20%20%20var%20popup_b0f3e8187f4b41279e80b4c556cfcf53%20%3D%20L.popup%28%7B%22maxWidth%22%3A%20%22100%25%22%7D%29%3B%0A%0A%20%20%20%20%20%20%20%20%0A%20%20%20%20%20%20%20%20%20%20%20%20var%20html_520d8b37e4a941d5b827d946d5dd3c70%20%3D%20%24%28%60%3Cdiv%20id%3D%22html_520d8b37e4a941d5b827d946d5dd3c70%22%20style%3D%22width%3A%20100.0%25%3B%20height%3A%20100.0%25%3B%22%3E0%20%20%20%20%20%20%20%20%20East%20Toronto%201%20%20%20%20%20%20%20%20%20East%20Toronto%202%20%20%20%20%20%20%20%20%20East%20Toronto%203%20%20%20%20%20%20%20%20%20East%20Toronto%204%20%20%20%20%20%20Central%20Toronto%205%20%20%20%20%20%20Central%20Toronto%206%20%20%20%20%20%20Central%20Toronto%207%20%20%20%20%20%20Central%20Toronto%208%20%20%20%20%20%20Central%20Toronto%209%20%20%20%20%20%20Central%20Toronto%2010%20%20%20%20Downtown%20Toronto%2011%20%20%20%20Downtown%20Toronto%2012%20%20%20%20Downtown%20Toronto%2013%20%20%20%20Downtown%20Toronto%2014%20%20%20%20Downtown%20Toronto%2015%20%20%20%20Downtown%20Toronto%2016%20%20%20%20Downtown%20Toronto%2017%20%20%20%20Downtown%20Toronto%2018%20%20%20%20Downtown%20Toronto%2019%20%20%20%20Downtown%20Toronto%2020%20%20%20%20Downtown%20Toronto%2021%20%20%20%20Downtown%20Toronto%2022%20%20%20%20%20Central%20Toronto%2023%20%20%20%20%20Central%20Toronto%2024%20%20%20%20%20Central%20Toronto%2025%20%20%20%20Downtown%20Toronto%2026%20%20%20%20Downtown%20Toronto%2027%20%20%20%20Downtown%20Toronto%2028%20%20%20%20Downtown%20Toronto%2029%20%20%20%20Downtown%20Toronto%2030%20%20%20%20Downtown%20Toronto%2031%20%20%20%20%20%20%20%20West%20Toronto%2032%20%20%20%20%20%20%20%20West%20Toronto%2033%20%20%20%20%20%20%20%20West%20Toronto%2034%20%20%20%20%20%20%20%20West%20Toronto%2035%20%20%20%20%20%20%20%20West%20Toronto%2036%20%20%20%20%20%20%20%20West%20Toronto%2037%20%20%20%20Downtown%20Toronto%2038%20%20%20%20%20%20%20%20East%20Toronto%20Name%3A%20Borough%2C%20dtype%3A%20object%20Cluster%201%3C/div%3E%60%29%5B0%5D%3B%0A%20%20%20%20%20%20%20%20%20%20%20%20popup_b0f3e8187f4b41279e80b4c556cfcf53.setContent%28html_520d8b37e4a941d5b827d946d5dd3c70%29%3B%0A%20%20%20%20%20%20%20%20%0A%0A%20%20%20%20%20%20%20%20circle_marker_39410e0aa956437f8c197c2b7a6cba0a.bindPopup%28popup_b0f3e8187f4b41279e80b4c556cfcf53%29%0A%20%20%20%20%20%20%20%20%3B%0A%0A%20%20%20%20%20%20%20%20%0A%20%20%20%20%0A%20%20%20%20%0A%20%20%20%20%20%20%20%20%20%20%20%20var%20circle_marker_5e891e6780804c489bc106995af93f42%20%3D%20L.circleMarker%28%0A%20%20%20%20%20%20%20%20%20%20%20%20%20%20%20%20%5B43.6289467%2C%20-79.3944199%5D%2C%0A%20%20%20%20%20%20%20%20%20%20%20%20%20%20%20%20%7B%22bubblingMouseEvents%22%3A%20true%2C%20%22color%22%3A%20%22%238000ff%22%2C%20%22dashArray%22%3A%20null%2C%20%22dashOffset%22%3A%20null%2C%20%22fill%22%3A%20true%2C%20%22fillColor%22%3A%20%22%238000ff%22%2C%20%22fillOpacity%22%3A%200.7%2C%20%22fillRule%22%3A%20%22evenodd%22%2C%20%22lineCap%22%3A%20%22round%22%2C%20%22lineJoin%22%3A%20%22round%22%2C%20%22opacity%22%3A%201.0%2C%20%22radius%22%3A%205%2C%20%22stroke%22%3A%20true%2C%20%22weight%22%3A%203%7D%0A%20%20%20%20%20%20%20%20%20%20%20%20%29.addTo%28map_a5a5d264a4c548d695ba7c6917d01407%29%3B%0A%20%20%20%20%20%20%20%20%0A%20%20%20%20%0A%20%20%20%20%20%20%20%20var%20popup_23a3c7dc79164046b7887ff9be5a5792%20%3D%20L.popup%28%7B%22maxWidth%22%3A%20%22100%25%22%7D%29%3B%0A%0A%20%20%20%20%20%20%20%20%0A%20%20%20%20%20%20%20%20%20%20%20%20var%20html_76f18416a0a04ae58b365f839d4d8f18%20%3D%20%24%28%60%3Cdiv%20id%3D%22html_76f18416a0a04ae58b365f839d4d8f18%22%20style%3D%22width%3A%20100.0%25%3B%20height%3A%20100.0%25%3B%22%3E0%20%20%20%20%20%20%20%20%20East%20Toronto%201%20%20%20%20%20%20%20%20%20East%20Toronto%202%20%20%20%20%20%20%20%20%20East%20Toronto%203%20%20%20%20%20%20%20%20%20East%20Toronto%204%20%20%20%20%20%20Central%20Toronto%205%20%20%20%20%20%20Central%20Toronto%206%20%20%20%20%20%20Central%20Toronto%207%20%20%20%20%20%20Central%20Toronto%208%20%20%20%20%20%20Central%20Toronto%209%20%20%20%20%20%20Central%20Toronto%2010%20%20%20%20Downtown%20Toronto%2011%20%20%20%20Downtown%20Toronto%2012%20%20%20%20Downtown%20Toronto%2013%20%20%20%20Downtown%20Toronto%2014%20%20%20%20Downtown%20Toronto%2015%20%20%20%20Downtown%20Toronto%2016%20%20%20%20Downtown%20Toronto%2017%20%20%20%20Downtown%20Toronto%2018%20%20%20%20Downtown%20Toronto%2019%20%20%20%20Downtown%20Toronto%2020%20%20%20%20Downtown%20Toronto%2021%20%20%20%20Downtown%20Toronto%2022%20%20%20%20%20Central%20Toronto%2023%20%20%20%20%20Central%20Toronto%2024%20%20%20%20%20Central%20Toronto%2025%20%20%20%20Downtown%20Toronto%2026%20%20%20%20Downtown%20Toronto%2027%20%20%20%20Downtown%20Toronto%2028%20%20%20%20Downtown%20Toronto%2029%20%20%20%20Downtown%20Toronto%2030%20%20%20%20Downtown%20Toronto%2031%20%20%20%20%20%20%20%20West%20Toronto%2032%20%20%20%20%20%20%20%20West%20Toronto%2033%20%20%20%20%20%20%20%20West%20Toronto%2034%20%20%20%20%20%20%20%20West%20Toronto%2035%20%20%20%20%20%20%20%20West%20Toronto%2036%20%20%20%20%20%20%20%20West%20Toronto%2037%20%20%20%20Downtown%20Toronto%2038%20%20%20%20%20%20%20%20East%20Toronto%20Name%3A%20Borough%2C%20dtype%3A%20object%20Cluster%201%3C/div%3E%60%29%5B0%5D%3B%0A%20%20%20%20%20%20%20%20%20%20%20%20popup_23a3c7dc79164046b7887ff9be5a5792.setContent%28html_76f18416a0a04ae58b365f839d4d8f18%29%3B%0A%20%20%20%20%20%20%20%20%0A%0A%20%20%20%20%20%20%20%20circle_marker_5e891e6780804c489bc106995af93f42.bindPopup%28popup_23a3c7dc79164046b7887ff9be5a5792%29%0A%20%20%20%20%20%20%20%20%3B%0A%0A%20%20%20%20%20%20%20%20%0A%20%20%20%20%0A%20%20%20%20%0A%20%20%20%20%20%20%20%20%20%20%20%20var%20circle_marker_d26625f01f344c59a1dcd6b63e856d5b%20%3D%20L.circleMarker%28%0A%20%20%20%20%20%20%20%20%20%20%20%20%20%20%20%20%5B43.6464352%2C%20-79.37484599999999%5D%2C%0A%20%20%20%20%20%20%20%20%20%20%20%20%20%20%20%20%7B%22bubblingMouseEvents%22%3A%20true%2C%20%22color%22%3A%20%22%238000ff%22%2C%20%22dashArray%22%3A%20null%2C%20%22dashOffset%22%3A%20null%2C%20%22fill%22%3A%20true%2C%20%22fillColor%22%3A%20%22%238000ff%22%2C%20%22fillOpacity%22%3A%200.7%2C%20%22fillRule%22%3A%20%22evenodd%22%2C%20%22lineCap%22%3A%20%22round%22%2C%20%22lineJoin%22%3A%20%22round%22%2C%20%22opacity%22%3A%201.0%2C%20%22radius%22%3A%205%2C%20%22stroke%22%3A%20true%2C%20%22weight%22%3A%203%7D%0A%20%20%20%20%20%20%20%20%20%20%20%20%29.addTo%28map_a5a5d264a4c548d695ba7c6917d01407%29%3B%0A%20%20%20%20%20%20%20%20%0A%20%20%20%20%0A%20%20%20%20%20%20%20%20var%20popup_3fc7bb8e868d444aa5032403a6d2e0ea%20%3D%20L.popup%28%7B%22maxWidth%22%3A%20%22100%25%22%7D%29%3B%0A%0A%20%20%20%20%20%20%20%20%0A%20%20%20%20%20%20%20%20%20%20%20%20var%20html_b151b295665941a284c120b655678a08%20%3D%20%24%28%60%3Cdiv%20id%3D%22html_b151b295665941a284c120b655678a08%22%20style%3D%22width%3A%20100.0%25%3B%20height%3A%20100.0%25%3B%22%3E0%20%20%20%20%20%20%20%20%20East%20Toronto%201%20%20%20%20%20%20%20%20%20East%20Toronto%202%20%20%20%20%20%20%20%20%20East%20Toronto%203%20%20%20%20%20%20%20%20%20East%20Toronto%204%20%20%20%20%20%20Central%20Toronto%205%20%20%20%20%20%20Central%20Toronto%206%20%20%20%20%20%20Central%20Toronto%207%20%20%20%20%20%20Central%20Toronto%208%20%20%20%20%20%20Central%20Toronto%209%20%20%20%20%20%20Central%20Toronto%2010%20%20%20%20Downtown%20Toronto%2011%20%20%20%20Downtown%20Toronto%2012%20%20%20%20Downtown%20Toronto%2013%20%20%20%20Downtown%20Toronto%2014%20%20%20%20Downtown%20Toronto%2015%20%20%20%20Downtown%20Toronto%2016%20%20%20%20Downtown%20Toronto%2017%20%20%20%20Downtown%20Toronto%2018%20%20%20%20Downtown%20Toronto%2019%20%20%20%20Downtown%20Toronto%2020%20%20%20%20Downtown%20Toronto%2021%20%20%20%20Downtown%20Toronto%2022%20%20%20%20%20Central%20Toronto%2023%20%20%20%20%20Central%20Toronto%2024%20%20%20%20%20Central%20Toronto%2025%20%20%20%20Downtown%20Toronto%2026%20%20%20%20Downtown%20Toronto%2027%20%20%20%20Downtown%20Toronto%2028%20%20%20%20Downtown%20Toronto%2029%20%20%20%20Downtown%20Toronto%2030%20%20%20%20Downtown%20Toronto%2031%20%20%20%20%20%20%20%20West%20Toronto%2032%20%20%20%20%20%20%20%20West%20Toronto%2033%20%20%20%20%20%20%20%20West%20Toronto%2034%20%20%20%20%20%20%20%20West%20Toronto%2035%20%20%20%20%20%20%20%20West%20Toronto%2036%20%20%20%20%20%20%20%20West%20Toronto%2037%20%20%20%20Downtown%20Toronto%2038%20%20%20%20%20%20%20%20East%20Toronto%20Name%3A%20Borough%2C%20dtype%3A%20object%20Cluster%201%3C/div%3E%60%29%5B0%5D%3B%0A%20%20%20%20%20%20%20%20%20%20%20%20popup_3fc7bb8e868d444aa5032403a6d2e0ea.setContent%28html_b151b295665941a284c120b655678a08%29%3B%0A%20%20%20%20%20%20%20%20%0A%0A%20%20%20%20%20%20%20%20circle_marker_d26625f01f344c59a1dcd6b63e856d5b.bindPopup%28popup_3fc7bb8e868d444aa5032403a6d2e0ea%29%0A%20%20%20%20%20%20%20%20%3B%0A%0A%20%20%20%20%20%20%20%20%0A%20%20%20%20%0A%20%20%20%20%0A%20%20%20%20%20%20%20%20%20%20%20%20var%20circle_marker_0fcdf28d339643d2803394aa36d1bb81%20%3D%20L.circleMarker%28%0A%20%20%20%20%20%20%20%20%20%20%20%20%20%20%20%20%5B43.6484292%2C%20-79.3822802%5D%2C%0A%20%20%20%20%20%20%20%20%20%20%20%20%20%20%20%20%7B%22bubblingMouseEvents%22%3A%20true%2C%20%22color%22%3A%20%22%238000ff%22%2C%20%22dashArray%22%3A%20null%2C%20%22dashOffset%22%3A%20null%2C%20%22fill%22%3A%20true%2C%20%22fillColor%22%3A%20%22%238000ff%22%2C%20%22fillOpacity%22%3A%200.7%2C%20%22fillRule%22%3A%20%22evenodd%22%2C%20%22lineCap%22%3A%20%22round%22%2C%20%22lineJoin%22%3A%20%22round%22%2C%20%22opacity%22%3A%201.0%2C%20%22radius%22%3A%205%2C%20%22stroke%22%3A%20true%2C%20%22weight%22%3A%203%7D%0A%20%20%20%20%20%20%20%20%20%20%20%20%29.addTo%28map_a5a5d264a4c548d695ba7c6917d01407%29%3B%0A%20%20%20%20%20%20%20%20%0A%20%20%20%20%0A%20%20%20%20%20%20%20%20var%20popup_955c67ef7e554620b9ff8185f8f74472%20%3D%20L.popup%28%7B%22maxWidth%22%3A%20%22100%25%22%7D%29%3B%0A%0A%20%20%20%20%20%20%20%20%0A%20%20%20%20%20%20%20%20%20%20%20%20var%20html_391e11f823c2403aa84db33bf265e75a%20%3D%20%24%28%60%3Cdiv%20id%3D%22html_391e11f823c2403aa84db33bf265e75a%22%20style%3D%22width%3A%20100.0%25%3B%20height%3A%20100.0%25%3B%22%3E0%20%20%20%20%20%20%20%20%20East%20Toronto%201%20%20%20%20%20%20%20%20%20East%20Toronto%202%20%20%20%20%20%20%20%20%20East%20Toronto%203%20%20%20%20%20%20%20%20%20East%20Toronto%204%20%20%20%20%20%20Central%20Toronto%205%20%20%20%20%20%20Central%20Toronto%206%20%20%20%20%20%20Central%20Toronto%207%20%20%20%20%20%20Central%20Toronto%208%20%20%20%20%20%20Central%20Toronto%209%20%20%20%20%20%20Central%20Toronto%2010%20%20%20%20Downtown%20Toronto%2011%20%20%20%20Downtown%20Toronto%2012%20%20%20%20Downtown%20Toronto%2013%20%20%20%20Downtown%20Toronto%2014%20%20%20%20Downtown%20Toronto%2015%20%20%20%20Downtown%20Toronto%2016%20%20%20%20Downtown%20Toronto%2017%20%20%20%20Downtown%20Toronto%2018%20%20%20%20Downtown%20Toronto%2019%20%20%20%20Downtown%20Toronto%2020%20%20%20%20Downtown%20Toronto%2021%20%20%20%20Downtown%20Toronto%2022%20%20%20%20%20Central%20Toronto%2023%20%20%20%20%20Central%20Toronto%2024%20%20%20%20%20Central%20Toronto%2025%20%20%20%20Downtown%20Toronto%2026%20%20%20%20Downtown%20Toronto%2027%20%20%20%20Downtown%20Toronto%2028%20%20%20%20Downtown%20Toronto%2029%20%20%20%20Downtown%20Toronto%2030%20%20%20%20Downtown%20Toronto%2031%20%20%20%20%20%20%20%20West%20Toronto%2032%20%20%20%20%20%20%20%20West%20Toronto%2033%20%20%20%20%20%20%20%20West%20Toronto%2034%20%20%20%20%20%20%20%20West%20Toronto%2035%20%20%20%20%20%20%20%20West%20Toronto%2036%20%20%20%20%20%20%20%20West%20Toronto%2037%20%20%20%20Downtown%20Toronto%2038%20%20%20%20%20%20%20%20East%20Toronto%20Name%3A%20Borough%2C%20dtype%3A%20object%20Cluster%201%3C/div%3E%60%29%5B0%5D%3B%0A%20%20%20%20%20%20%20%20%20%20%20%20popup_955c67ef7e554620b9ff8185f8f74472.setContent%28html_391e11f823c2403aa84db33bf265e75a%29%3B%0A%20%20%20%20%20%20%20%20%0A%0A%20%20%20%20%20%20%20%20circle_marker_0fcdf28d339643d2803394aa36d1bb81.bindPopup%28popup_955c67ef7e554620b9ff8185f8f74472%29%0A%20%20%20%20%20%20%20%20%3B%0A%0A%20%20%20%20%20%20%20%20%0A%20%20%20%20%0A%20%20%20%20%0A%20%20%20%20%20%20%20%20%20%20%20%20var%20circle_marker_1f5238784dbd476eb7c6ac769567a3a8%20%3D%20L.circleMarker%28%0A%20%20%20%20%20%20%20%20%20%20%20%20%20%20%20%20%5B43.669542%2C%20-79.4225637%5D%2C%0A%20%20%20%20%20%20%20%20%20%20%20%20%20%20%20%20%7B%22bubblingMouseEvents%22%3A%20true%2C%20%22color%22%3A%20%22%238000ff%22%2C%20%22dashArray%22%3A%20null%2C%20%22dashOffset%22%3A%20null%2C%20%22fill%22%3A%20true%2C%20%22fillColor%22%3A%20%22%238000ff%22%2C%20%22fillOpacity%22%3A%200.7%2C%20%22fillRule%22%3A%20%22evenodd%22%2C%20%22lineCap%22%3A%20%22round%22%2C%20%22lineJoin%22%3A%20%22round%22%2C%20%22opacity%22%3A%201.0%2C%20%22radius%22%3A%205%2C%20%22stroke%22%3A%20true%2C%20%22weight%22%3A%203%7D%0A%20%20%20%20%20%20%20%20%20%20%20%20%29.addTo%28map_a5a5d264a4c548d695ba7c6917d01407%29%3B%0A%20%20%20%20%20%20%20%20%0A%20%20%20%20%0A%20%20%20%20%20%20%20%20var%20popup_e786465ae7214497bd3b830ea3be9887%20%3D%20L.popup%28%7B%22maxWidth%22%3A%20%22100%25%22%7D%29%3B%0A%0A%20%20%20%20%20%20%20%20%0A%20%20%20%20%20%20%20%20%20%20%20%20var%20html_fa6d56c2c6784970a4adb4d78e549704%20%3D%20%24%28%60%3Cdiv%20id%3D%22html_fa6d56c2c6784970a4adb4d78e549704%22%20style%3D%22width%3A%20100.0%25%3B%20height%3A%20100.0%25%3B%22%3E0%20%20%20%20%20%20%20%20%20East%20Toronto%201%20%20%20%20%20%20%20%20%20East%20Toronto%202%20%20%20%20%20%20%20%20%20East%20Toronto%203%20%20%20%20%20%20%20%20%20East%20Toronto%204%20%20%20%20%20%20Central%20Toronto%205%20%20%20%20%20%20Central%20Toronto%206%20%20%20%20%20%20Central%20Toronto%207%20%20%20%20%20%20Central%20Toronto%208%20%20%20%20%20%20Central%20Toronto%209%20%20%20%20%20%20Central%20Toronto%2010%20%20%20%20Downtown%20Toronto%2011%20%20%20%20Downtown%20Toronto%2012%20%20%20%20Downtown%20Toronto%2013%20%20%20%20Downtown%20Toronto%2014%20%20%20%20Downtown%20Toronto%2015%20%20%20%20Downtown%20Toronto%2016%20%20%20%20Downtown%20Toronto%2017%20%20%20%20Downtown%20Toronto%2018%20%20%20%20Downtown%20Toronto%2019%20%20%20%20Downtown%20Toronto%2020%20%20%20%20Downtown%20Toronto%2021%20%20%20%20Downtown%20Toronto%2022%20%20%20%20%20Central%20Toronto%2023%20%20%20%20%20Central%20Toronto%2024%20%20%20%20%20Central%20Toronto%2025%20%20%20%20Downtown%20Toronto%2026%20%20%20%20Downtown%20Toronto%2027%20%20%20%20Downtown%20Toronto%2028%20%20%20%20Downtown%20Toronto%2029%20%20%20%20Downtown%20Toronto%2030%20%20%20%20Downtown%20Toronto%2031%20%20%20%20%20%20%20%20West%20Toronto%2032%20%20%20%20%20%20%20%20West%20Toronto%2033%20%20%20%20%20%20%20%20West%20Toronto%2034%20%20%20%20%20%20%20%20West%20Toronto%2035%20%20%20%20%20%20%20%20West%20Toronto%2036%20%20%20%20%20%20%20%20West%20Toronto%2037%20%20%20%20Downtown%20Toronto%2038%20%20%20%20%20%20%20%20East%20Toronto%20Name%3A%20Borough%2C%20dtype%3A%20object%20Cluster%201%3C/div%3E%60%29%5B0%5D%3B%0A%20%20%20%20%20%20%20%20%20%20%20%20popup_e786465ae7214497bd3b830ea3be9887.setContent%28html_fa6d56c2c6784970a4adb4d78e549704%29%3B%0A%20%20%20%20%20%20%20%20%0A%0A%20%20%20%20%20%20%20%20circle_marker_1f5238784dbd476eb7c6ac769567a3a8.bindPopup%28popup_e786465ae7214497bd3b830ea3be9887%29%0A%20%20%20%20%20%20%20%20%3B%0A%0A%20%20%20%20%20%20%20%20%0A%20%20%20%20%0A%20%20%20%20%0A%20%20%20%20%20%20%20%20%20%20%20%20var%20circle_marker_c4f68d7e83d24cfbb838e85b8d470993%20%3D%20L.circleMarker%28%0A%20%20%20%20%20%20%20%20%20%20%20%20%20%20%20%20%5B43.66900510000001%2C%20-79.4422593%5D%2C%0A%20%20%20%20%20%20%20%20%20%20%20%20%20%20%20%20%7B%22bubblingMouseEvents%22%3A%20true%2C%20%22color%22%3A%20%22%23d4dd80%22%2C%20%22dashArray%22%3A%20null%2C%20%22dashOffset%22%3A%20null%2C%20%22fill%22%3A%20true%2C%20%22fillColor%22%3A%20%22%23d4dd80%22%2C%20%22fillOpacity%22%3A%200.7%2C%20%22fillRule%22%3A%20%22evenodd%22%2C%20%22lineCap%22%3A%20%22round%22%2C%20%22lineJoin%22%3A%20%22round%22%2C%20%22opacity%22%3A%201.0%2C%20%22radius%22%3A%205%2C%20%22stroke%22%3A%20true%2C%20%22weight%22%3A%203%7D%0A%20%20%20%20%20%20%20%20%20%20%20%20%29.addTo%28map_a5a5d264a4c548d695ba7c6917d01407%29%3B%0A%20%20%20%20%20%20%20%20%0A%20%20%20%20%0A%20%20%20%20%20%20%20%20var%20popup_abffbabe5cb34c04b1f6f93841e99286%20%3D%20L.popup%28%7B%22maxWidth%22%3A%20%22100%25%22%7D%29%3B%0A%0A%20%20%20%20%20%20%20%20%0A%20%20%20%20%20%20%20%20%20%20%20%20var%20html_111255f7c5e74df18f274f30baf0835f%20%3D%20%24%28%60%3Cdiv%20id%3D%22html_111255f7c5e74df18f274f30baf0835f%22%20style%3D%22width%3A%20100.0%25%3B%20height%3A%20100.0%25%3B%22%3E0%20%20%20%20%20%20%20%20%20East%20Toronto%201%20%20%20%20%20%20%20%20%20East%20Toronto%202%20%20%20%20%20%20%20%20%20East%20Toronto%203%20%20%20%20%20%20%20%20%20East%20Toronto%204%20%20%20%20%20%20Central%20Toronto%205%20%20%20%20%20%20Central%20Toronto%206%20%20%20%20%20%20Central%20Toronto%207%20%20%20%20%20%20Central%20Toronto%208%20%20%20%20%20%20Central%20Toronto%209%20%20%20%20%20%20Central%20Toronto%2010%20%20%20%20Downtown%20Toronto%2011%20%20%20%20Downtown%20Toronto%2012%20%20%20%20Downtown%20Toronto%2013%20%20%20%20Downtown%20Toronto%2014%20%20%20%20Downtown%20Toronto%2015%20%20%20%20Downtown%20Toronto%2016%20%20%20%20Downtown%20Toronto%2017%20%20%20%20Downtown%20Toronto%2018%20%20%20%20Downtown%20Toronto%2019%20%20%20%20Downtown%20Toronto%2020%20%20%20%20Downtown%20Toronto%2021%20%20%20%20Downtown%20Toronto%2022%20%20%20%20%20Central%20Toronto%2023%20%20%20%20%20Central%20Toronto%2024%20%20%20%20%20Central%20Toronto%2025%20%20%20%20Downtown%20Toronto%2026%20%20%20%20Downtown%20Toronto%2027%20%20%20%20Downtown%20Toronto%2028%20%20%20%20Downtown%20Toronto%2029%20%20%20%20Downtown%20Toronto%2030%20%20%20%20Downtown%20Toronto%2031%20%20%20%20%20%20%20%20West%20Toronto%2032%20%20%20%20%20%20%20%20West%20Toronto%2033%20%20%20%20%20%20%20%20West%20Toronto%2034%20%20%20%20%20%20%20%20West%20Toronto%2035%20%20%20%20%20%20%20%20West%20Toronto%2036%20%20%20%20%20%20%20%20West%20Toronto%2037%20%20%20%20Downtown%20Toronto%2038%20%20%20%20%20%20%20%20East%20Toronto%20Name%3A%20Borough%2C%20dtype%3A%20object%20Cluster%203%3C/div%3E%60%29%5B0%5D%3B%0A%20%20%20%20%20%20%20%20%20%20%20%20popup_abffbabe5cb34c04b1f6f93841e99286.setContent%28html_111255f7c5e74df18f274f30baf0835f%29%3B%0A%20%20%20%20%20%20%20%20%0A%0A%20%20%20%20%20%20%20%20circle_marker_c4f68d7e83d24cfbb838e85b8d470993.bindPopup%28popup_abffbabe5cb34c04b1f6f93841e99286%29%0A%20%20%20%20%20%20%20%20%3B%0A%0A%20%20%20%20%20%20%20%20%0A%20%20%20%20%0A%20%20%20%20%0A%20%20%20%20%20%20%20%20%20%20%20%20var%20circle_marker_bb9b85f33c484c5a83e7c6accec66701%20%3D%20L.circleMarker%28%0A%20%20%20%20%20%20%20%20%20%20%20%20%20%20%20%20%5B43.647926700000006%2C%20-79.4197497%5D%2C%0A%20%20%20%20%20%20%20%20%20%20%20%20%20%20%20%20%7B%22bubblingMouseEvents%22%3A%20true%2C%20%22color%22%3A%20%22%23d4dd80%22%2C%20%22dashArray%22%3A%20null%2C%20%22dashOffset%22%3A%20null%2C%20%22fill%22%3A%20true%2C%20%22fillColor%22%3A%20%22%23d4dd80%22%2C%20%22fillOpacity%22%3A%200.7%2C%20%22fillRule%22%3A%20%22evenodd%22%2C%20%22lineCap%22%3A%20%22round%22%2C%20%22lineJoin%22%3A%20%22round%22%2C%20%22opacity%22%3A%201.0%2C%20%22radius%22%3A%205%2C%20%22stroke%22%3A%20true%2C%20%22weight%22%3A%203%7D%0A%20%20%20%20%20%20%20%20%20%20%20%20%29.addTo%28map_a5a5d264a4c548d695ba7c6917d01407%29%3B%0A%20%20%20%20%20%20%20%20%0A%20%20%20%20%0A%20%20%20%20%20%20%20%20var%20popup_956f8fc557b44d6089daec69840193bc%20%3D%20L.popup%28%7B%22maxWidth%22%3A%20%22100%25%22%7D%29%3B%0A%0A%20%20%20%20%20%20%20%20%0A%20%20%20%20%20%20%20%20%20%20%20%20var%20html_ab74f3ebefea4b1f8e65bf85412d02b8%20%3D%20%24%28%60%3Cdiv%20id%3D%22html_ab74f3ebefea4b1f8e65bf85412d02b8%22%20style%3D%22width%3A%20100.0%25%3B%20height%3A%20100.0%25%3B%22%3E0%20%20%20%20%20%20%20%20%20East%20Toronto%201%20%20%20%20%20%20%20%20%20East%20Toronto%202%20%20%20%20%20%20%20%20%20East%20Toronto%203%20%20%20%20%20%20%20%20%20East%20Toronto%204%20%20%20%20%20%20Central%20Toronto%205%20%20%20%20%20%20Central%20Toronto%206%20%20%20%20%20%20Central%20Toronto%207%20%20%20%20%20%20Central%20Toronto%208%20%20%20%20%20%20Central%20Toronto%209%20%20%20%20%20%20Central%20Toronto%2010%20%20%20%20Downtown%20Toronto%2011%20%20%20%20Downtown%20Toronto%2012%20%20%20%20Downtown%20Toronto%2013%20%20%20%20Downtown%20Toronto%2014%20%20%20%20Downtown%20Toronto%2015%20%20%20%20Downtown%20Toronto%2016%20%20%20%20Downtown%20Toronto%2017%20%20%20%20Downtown%20Toronto%2018%20%20%20%20Downtown%20Toronto%2019%20%20%20%20Downtown%20Toronto%2020%20%20%20%20Downtown%20Toronto%2021%20%20%20%20Downtown%20Toronto%2022%20%20%20%20%20Central%20Toronto%2023%20%20%20%20%20Central%20Toronto%2024%20%20%20%20%20Central%20Toronto%2025%20%20%20%20Downtown%20Toronto%2026%20%20%20%20Downtown%20Toronto%2027%20%20%20%20Downtown%20Toronto%2028%20%20%20%20Downtown%20Toronto%2029%20%20%20%20Downtown%20Toronto%2030%20%20%20%20Downtown%20Toronto%2031%20%20%20%20%20%20%20%20West%20Toronto%2032%20%20%20%20%20%20%20%20West%20Toronto%2033%20%20%20%20%20%20%20%20West%20Toronto%2034%20%20%20%20%20%20%20%20West%20Toronto%2035%20%20%20%20%20%20%20%20West%20Toronto%2036%20%20%20%20%20%20%20%20West%20Toronto%2037%20%20%20%20Downtown%20Toronto%2038%20%20%20%20%20%20%20%20East%20Toronto%20Name%3A%20Borough%2C%20dtype%3A%20object%20Cluster%203%3C/div%3E%60%29%5B0%5D%3B%0A%20%20%20%20%20%20%20%20%20%20%20%20popup_956f8fc557b44d6089daec69840193bc.setContent%28html_ab74f3ebefea4b1f8e65bf85412d02b8%29%3B%0A%20%20%20%20%20%20%20%20%0A%0A%20%20%20%20%20%20%20%20circle_marker_bb9b85f33c484c5a83e7c6accec66701.bindPopup%28popup_956f8fc557b44d6089daec69840193bc%29%0A%20%20%20%20%20%20%20%20%3B%0A%0A%20%20%20%20%20%20%20%20%0A%20%20%20%20%0A%20%20%20%20%0A%20%20%20%20%20%20%20%20%20%20%20%20var%20circle_marker_a5ec650864844bef97c9a13bf6a35ed5%20%3D%20L.circleMarker%28%0A%20%20%20%20%20%20%20%20%20%20%20%20%20%20%20%20%5B43.6368472%2C%20-79.42819140000002%5D%2C%0A%20%20%20%20%20%20%20%20%20%20%20%20%20%20%20%20%7B%22bubblingMouseEvents%22%3A%20true%2C%20%22color%22%3A%20%22%23d4dd80%22%2C%20%22dashArray%22%3A%20null%2C%20%22dashOffset%22%3A%20null%2C%20%22fill%22%3A%20true%2C%20%22fillColor%22%3A%20%22%23d4dd80%22%2C%20%22fillOpacity%22%3A%200.7%2C%20%22fillRule%22%3A%20%22evenodd%22%2C%20%22lineCap%22%3A%20%22round%22%2C%20%22lineJoin%22%3A%20%22round%22%2C%20%22opacity%22%3A%201.0%2C%20%22radius%22%3A%205%2C%20%22stroke%22%3A%20true%2C%20%22weight%22%3A%203%7D%0A%20%20%20%20%20%20%20%20%20%20%20%20%29.addTo%28map_a5a5d264a4c548d695ba7c6917d01407%29%3B%0A%20%20%20%20%20%20%20%20%0A%20%20%20%20%0A%20%20%20%20%20%20%20%20var%20popup_e5c09aa8e6574dda88fd3a2410c8728d%20%3D%20L.popup%28%7B%22maxWidth%22%3A%20%22100%25%22%7D%29%3B%0A%0A%20%20%20%20%20%20%20%20%0A%20%20%20%20%20%20%20%20%20%20%20%20var%20html_4ca249fc84304961aea69e76146bb62b%20%3D%20%24%28%60%3Cdiv%20id%3D%22html_4ca249fc84304961aea69e76146bb62b%22%20style%3D%22width%3A%20100.0%25%3B%20height%3A%20100.0%25%3B%22%3E0%20%20%20%20%20%20%20%20%20East%20Toronto%201%20%20%20%20%20%20%20%20%20East%20Toronto%202%20%20%20%20%20%20%20%20%20East%20Toronto%203%20%20%20%20%20%20%20%20%20East%20Toronto%204%20%20%20%20%20%20Central%20Toronto%205%20%20%20%20%20%20Central%20Toronto%206%20%20%20%20%20%20Central%20Toronto%207%20%20%20%20%20%20Central%20Toronto%208%20%20%20%20%20%20Central%20Toronto%209%20%20%20%20%20%20Central%20Toronto%2010%20%20%20%20Downtown%20Toronto%2011%20%20%20%20Downtown%20Toronto%2012%20%20%20%20Downtown%20Toronto%2013%20%20%20%20Downtown%20Toronto%2014%20%20%20%20Downtown%20Toronto%2015%20%20%20%20Downtown%20Toronto%2016%20%20%20%20Downtown%20Toronto%2017%20%20%20%20Downtown%20Toronto%2018%20%20%20%20Downtown%20Toronto%2019%20%20%20%20Downtown%20Toronto%2020%20%20%20%20Downtown%20Toronto%2021%20%20%20%20Downtown%20Toronto%2022%20%20%20%20%20Central%20Toronto%2023%20%20%20%20%20Central%20Toronto%2024%20%20%20%20%20Central%20Toronto%2025%20%20%20%20Downtown%20Toronto%2026%20%20%20%20Downtown%20Toronto%2027%20%20%20%20Downtown%20Toronto%2028%20%20%20%20Downtown%20Toronto%2029%20%20%20%20Downtown%20Toronto%2030%20%20%20%20Downtown%20Toronto%2031%20%20%20%20%20%20%20%20West%20Toronto%2032%20%20%20%20%20%20%20%20West%20Toronto%2033%20%20%20%20%20%20%20%20West%20Toronto%2034%20%20%20%20%20%20%20%20West%20Toronto%2035%20%20%20%20%20%20%20%20West%20Toronto%2036%20%20%20%20%20%20%20%20West%20Toronto%2037%20%20%20%20Downtown%20Toronto%2038%20%20%20%20%20%20%20%20East%20Toronto%20Name%3A%20Borough%2C%20dtype%3A%20object%20Cluster%203%3C/div%3E%60%29%5B0%5D%3B%0A%20%20%20%20%20%20%20%20%20%20%20%20popup_e5c09aa8e6574dda88fd3a2410c8728d.setContent%28html_4ca249fc84304961aea69e76146bb62b%29%3B%0A%20%20%20%20%20%20%20%20%0A%0A%20%20%20%20%20%20%20%20circle_marker_a5ec650864844bef97c9a13bf6a35ed5.bindPopup%28popup_e5c09aa8e6574dda88fd3a2410c8728d%29%0A%20%20%20%20%20%20%20%20%3B%0A%0A%20%20%20%20%20%20%20%20%0A%20%20%20%20%0A%20%20%20%20%0A%20%20%20%20%20%20%20%20%20%20%20%20var%20circle_marker_8dca0323c0ef47aabcb1f4efbce461bd%20%3D%20L.circleMarker%28%0A%20%20%20%20%20%20%20%20%20%20%20%20%20%20%20%20%5B43.6616083%2C%20-79.46476329999999%5D%2C%0A%20%20%20%20%20%20%20%20%20%20%20%20%20%20%20%20%7B%22bubblingMouseEvents%22%3A%20true%2C%20%22color%22%3A%20%22%23d4dd80%22%2C%20%22dashArray%22%3A%20null%2C%20%22dashOffset%22%3A%20null%2C%20%22fill%22%3A%20true%2C%20%22fillColor%22%3A%20%22%23d4dd80%22%2C%20%22fillOpacity%22%3A%200.7%2C%20%22fillRule%22%3A%20%22evenodd%22%2C%20%22lineCap%22%3A%20%22round%22%2C%20%22lineJoin%22%3A%20%22round%22%2C%20%22opacity%22%3A%201.0%2C%20%22radius%22%3A%205%2C%20%22stroke%22%3A%20true%2C%20%22weight%22%3A%203%7D%0A%20%20%20%20%20%20%20%20%20%20%20%20%29.addTo%28map_a5a5d264a4c548d695ba7c6917d01407%29%3B%0A%20%20%20%20%20%20%20%20%0A%20%20%20%20%0A%20%20%20%20%20%20%20%20var%20popup_4a8f592b10bf4a43927b2f3ffe509317%20%3D%20L.popup%28%7B%22maxWidth%22%3A%20%22100%25%22%7D%29%3B%0A%0A%20%20%20%20%20%20%20%20%0A%20%20%20%20%20%20%20%20%20%20%20%20var%20html_bef338a18d7049a1ae64e0c6fe5ebed3%20%3D%20%24%28%60%3Cdiv%20id%3D%22html_bef338a18d7049a1ae64e0c6fe5ebed3%22%20style%3D%22width%3A%20100.0%25%3B%20height%3A%20100.0%25%3B%22%3E0%20%20%20%20%20%20%20%20%20East%20Toronto%201%20%20%20%20%20%20%20%20%20East%20Toronto%202%20%20%20%20%20%20%20%20%20East%20Toronto%203%20%20%20%20%20%20%20%20%20East%20Toronto%204%20%20%20%20%20%20Central%20Toronto%205%20%20%20%20%20%20Central%20Toronto%206%20%20%20%20%20%20Central%20Toronto%207%20%20%20%20%20%20Central%20Toronto%208%20%20%20%20%20%20Central%20Toronto%209%20%20%20%20%20%20Central%20Toronto%2010%20%20%20%20Downtown%20Toronto%2011%20%20%20%20Downtown%20Toronto%2012%20%20%20%20Downtown%20Toronto%2013%20%20%20%20Downtown%20Toronto%2014%20%20%20%20Downtown%20Toronto%2015%20%20%20%20Downtown%20Toronto%2016%20%20%20%20Downtown%20Toronto%2017%20%20%20%20Downtown%20Toronto%2018%20%20%20%20Downtown%20Toronto%2019%20%20%20%20Downtown%20Toronto%2020%20%20%20%20Downtown%20Toronto%2021%20%20%20%20Downtown%20Toronto%2022%20%20%20%20%20Central%20Toronto%2023%20%20%20%20%20Central%20Toronto%2024%20%20%20%20%20Central%20Toronto%2025%20%20%20%20Downtown%20Toronto%2026%20%20%20%20Downtown%20Toronto%2027%20%20%20%20Downtown%20Toronto%2028%20%20%20%20Downtown%20Toronto%2029%20%20%20%20Downtown%20Toronto%2030%20%20%20%20Downtown%20Toronto%2031%20%20%20%20%20%20%20%20West%20Toronto%2032%20%20%20%20%20%20%20%20West%20Toronto%2033%20%20%20%20%20%20%20%20West%20Toronto%2034%20%20%20%20%20%20%20%20West%20Toronto%2035%20%20%20%20%20%20%20%20West%20Toronto%2036%20%20%20%20%20%20%20%20West%20Toronto%2037%20%20%20%20Downtown%20Toronto%2038%20%20%20%20%20%20%20%20East%20Toronto%20Name%3A%20Borough%2C%20dtype%3A%20object%20Cluster%203%3C/div%3E%60%29%5B0%5D%3B%0A%20%20%20%20%20%20%20%20%20%20%20%20popup_4a8f592b10bf4a43927b2f3ffe509317.setContent%28html_bef338a18d7049a1ae64e0c6fe5ebed3%29%3B%0A%20%20%20%20%20%20%20%20%0A%0A%20%20%20%20%20%20%20%20circle_marker_8dca0323c0ef47aabcb1f4efbce461bd.bindPopup%28popup_4a8f592b10bf4a43927b2f3ffe509317%29%0A%20%20%20%20%20%20%20%20%3B%0A%0A%20%20%20%20%20%20%20%20%0A%20%20%20%20%0A%20%20%20%20%0A%20%20%20%20%20%20%20%20%20%20%20%20var%20circle_marker_73c2063ef1e9495b8d94d9af86c71822%20%3D%20L.circleMarker%28%0A%20%20%20%20%20%20%20%20%20%20%20%20%20%20%20%20%5B43.6489597%2C%20-79.456325%5D%2C%0A%20%20%20%20%20%20%20%20%20%20%20%20%20%20%20%20%7B%22bubblingMouseEvents%22%3A%20true%2C%20%22color%22%3A%20%22%23d4dd80%22%2C%20%22dashArray%22%3A%20null%2C%20%22dashOffset%22%3A%20null%2C%20%22fill%22%3A%20true%2C%20%22fillColor%22%3A%20%22%23d4dd80%22%2C%20%22fillOpacity%22%3A%200.7%2C%20%22fillRule%22%3A%20%22evenodd%22%2C%20%22lineCap%22%3A%20%22round%22%2C%20%22lineJoin%22%3A%20%22round%22%2C%20%22opacity%22%3A%201.0%2C%20%22radius%22%3A%205%2C%20%22stroke%22%3A%20true%2C%20%22weight%22%3A%203%7D%0A%20%20%20%20%20%20%20%20%20%20%20%20%29.addTo%28map_a5a5d264a4c548d695ba7c6917d01407%29%3B%0A%20%20%20%20%20%20%20%20%0A%20%20%20%20%0A%20%20%20%20%20%20%20%20var%20popup_72fb61b528434ea9a6597a964653352e%20%3D%20L.popup%28%7B%22maxWidth%22%3A%20%22100%25%22%7D%29%3B%0A%0A%20%20%20%20%20%20%20%20%0A%20%20%20%20%20%20%20%20%20%20%20%20var%20html_5ecbcb4c6d09452397fa5d4224ae8836%20%3D%20%24%28%60%3Cdiv%20id%3D%22html_5ecbcb4c6d09452397fa5d4224ae8836%22%20style%3D%22width%3A%20100.0%25%3B%20height%3A%20100.0%25%3B%22%3E0%20%20%20%20%20%20%20%20%20East%20Toronto%201%20%20%20%20%20%20%20%20%20East%20Toronto%202%20%20%20%20%20%20%20%20%20East%20Toronto%203%20%20%20%20%20%20%20%20%20East%20Toronto%204%20%20%20%20%20%20Central%20Toronto%205%20%20%20%20%20%20Central%20Toronto%206%20%20%20%20%20%20Central%20Toronto%207%20%20%20%20%20%20Central%20Toronto%208%20%20%20%20%20%20Central%20Toronto%209%20%20%20%20%20%20Central%20Toronto%2010%20%20%20%20Downtown%20Toronto%2011%20%20%20%20Downtown%20Toronto%2012%20%20%20%20Downtown%20Toronto%2013%20%20%20%20Downtown%20Toronto%2014%20%20%20%20Downtown%20Toronto%2015%20%20%20%20Downtown%20Toronto%2016%20%20%20%20Downtown%20Toronto%2017%20%20%20%20Downtown%20Toronto%2018%20%20%20%20Downtown%20Toronto%2019%20%20%20%20Downtown%20Toronto%2020%20%20%20%20Downtown%20Toronto%2021%20%20%20%20Downtown%20Toronto%2022%20%20%20%20%20Central%20Toronto%2023%20%20%20%20%20Central%20Toronto%2024%20%20%20%20%20Central%20Toronto%2025%20%20%20%20Downtown%20Toronto%2026%20%20%20%20Downtown%20Toronto%2027%20%20%20%20Downtown%20Toronto%2028%20%20%20%20Downtown%20Toronto%2029%20%20%20%20Downtown%20Toronto%2030%20%20%20%20Downtown%20Toronto%2031%20%20%20%20%20%20%20%20West%20Toronto%2032%20%20%20%20%20%20%20%20West%20Toronto%2033%20%20%20%20%20%20%20%20West%20Toronto%2034%20%20%20%20%20%20%20%20West%20Toronto%2035%20%20%20%20%20%20%20%20West%20Toronto%2036%20%20%20%20%20%20%20%20West%20Toronto%2037%20%20%20%20Downtown%20Toronto%2038%20%20%20%20%20%20%20%20East%20Toronto%20Name%3A%20Borough%2C%20dtype%3A%20object%20Cluster%203%3C/div%3E%60%29%5B0%5D%3B%0A%20%20%20%20%20%20%20%20%20%20%20%20popup_72fb61b528434ea9a6597a964653352e.setContent%28html_5ecbcb4c6d09452397fa5d4224ae8836%29%3B%0A%20%20%20%20%20%20%20%20%0A%0A%20%20%20%20%20%20%20%20circle_marker_73c2063ef1e9495b8d94d9af86c71822.bindPopup%28popup_72fb61b528434ea9a6597a964653352e%29%0A%20%20%20%20%20%20%20%20%3B%0A%0A%20%20%20%20%20%20%20%20%0A%20%20%20%20%0A%20%20%20%20%0A%20%20%20%20%20%20%20%20%20%20%20%20var%20circle_marker_5185056d99934bd1a658d6b9d2fe5442%20%3D%20L.circleMarker%28%0A%20%20%20%20%20%20%20%20%20%20%20%20%20%20%20%20%5B43.6515706%2C%20-79.4844499%5D%2C%0A%20%20%20%20%20%20%20%20%20%20%20%20%20%20%20%20%7B%22bubblingMouseEvents%22%3A%20true%2C%20%22color%22%3A%20%22%23d4dd80%22%2C%20%22dashArray%22%3A%20null%2C%20%22dashOffset%22%3A%20null%2C%20%22fill%22%3A%20true%2C%20%22fillColor%22%3A%20%22%23d4dd80%22%2C%20%22fillOpacity%22%3A%200.7%2C%20%22fillRule%22%3A%20%22evenodd%22%2C%20%22lineCap%22%3A%20%22round%22%2C%20%22lineJoin%22%3A%20%22round%22%2C%20%22opacity%22%3A%201.0%2C%20%22radius%22%3A%205%2C%20%22stroke%22%3A%20true%2C%20%22weight%22%3A%203%7D%0A%20%20%20%20%20%20%20%20%20%20%20%20%29.addTo%28map_a5a5d264a4c548d695ba7c6917d01407%29%3B%0A%20%20%20%20%20%20%20%20%0A%20%20%20%20%0A%20%20%20%20%20%20%20%20var%20popup_bf80622656574dbc966ccc13df59e228%20%3D%20L.popup%28%7B%22maxWidth%22%3A%20%22100%25%22%7D%29%3B%0A%0A%20%20%20%20%20%20%20%20%0A%20%20%20%20%20%20%20%20%20%20%20%20var%20html_78b3d52b5cba4280bba7ff4f13e0bc8c%20%3D%20%24%28%60%3Cdiv%20id%3D%22html_78b3d52b5cba4280bba7ff4f13e0bc8c%22%20style%3D%22width%3A%20100.0%25%3B%20height%3A%20100.0%25%3B%22%3E0%20%20%20%20%20%20%20%20%20East%20Toronto%201%20%20%20%20%20%20%20%20%20East%20Toronto%202%20%20%20%20%20%20%20%20%20East%20Toronto%203%20%20%20%20%20%20%20%20%20East%20Toronto%204%20%20%20%20%20%20Central%20Toronto%205%20%20%20%20%20%20Central%20Toronto%206%20%20%20%20%20%20Central%20Toronto%207%20%20%20%20%20%20Central%20Toronto%208%20%20%20%20%20%20Central%20Toronto%209%20%20%20%20%20%20Central%20Toronto%2010%20%20%20%20Downtown%20Toronto%2011%20%20%20%20Downtown%20Toronto%2012%20%20%20%20Downtown%20Toronto%2013%20%20%20%20Downtown%20Toronto%2014%20%20%20%20Downtown%20Toronto%2015%20%20%20%20Downtown%20Toronto%2016%20%20%20%20Downtown%20Toronto%2017%20%20%20%20Downtown%20Toronto%2018%20%20%20%20Downtown%20Toronto%2019%20%20%20%20Downtown%20Toronto%2020%20%20%20%20Downtown%20Toronto%2021%20%20%20%20Downtown%20Toronto%2022%20%20%20%20%20Central%20Toronto%2023%20%20%20%20%20Central%20Toronto%2024%20%20%20%20%20Central%20Toronto%2025%20%20%20%20Downtown%20Toronto%2026%20%20%20%20Downtown%20Toronto%2027%20%20%20%20Downtown%20Toronto%2028%20%20%20%20Downtown%20Toronto%2029%20%20%20%20Downtown%20Toronto%2030%20%20%20%20Downtown%20Toronto%2031%20%20%20%20%20%20%20%20West%20Toronto%2032%20%20%20%20%20%20%20%20West%20Toronto%2033%20%20%20%20%20%20%20%20West%20Toronto%2034%20%20%20%20%20%20%20%20West%20Toronto%2035%20%20%20%20%20%20%20%20West%20Toronto%2036%20%20%20%20%20%20%20%20West%20Toronto%2037%20%20%20%20Downtown%20Toronto%2038%20%20%20%20%20%20%20%20East%20Toronto%20Name%3A%20Borough%2C%20dtype%3A%20object%20Cluster%203%3C/div%3E%60%29%5B0%5D%3B%0A%20%20%20%20%20%20%20%20%20%20%20%20popup_bf80622656574dbc966ccc13df59e228.setContent%28html_78b3d52b5cba4280bba7ff4f13e0bc8c%29%3B%0A%20%20%20%20%20%20%20%20%0A%0A%20%20%20%20%20%20%20%20circle_marker_5185056d99934bd1a658d6b9d2fe5442.bindPopup%28popup_bf80622656574dbc966ccc13df59e228%29%0A%20%20%20%20%20%20%20%20%3B%0A%0A%20%20%20%20%20%20%20%20%0A%20%20%20%20%0A%20%20%20%20%0A%20%20%20%20%20%20%20%20%20%20%20%20var%20circle_marker_ceebf66bd9554b6890962a7e92d4a248%20%3D%20L.circleMarker%28%0A%20%20%20%20%20%20%20%20%20%20%20%20%20%20%20%20%5B43.6623015%2C%20-79.3894938%5D%2C%0A%20%20%20%20%20%20%20%20%20%20%20%20%20%20%20%20%7B%22bubblingMouseEvents%22%3A%20true%2C%20%22color%22%3A%20%22%238000ff%22%2C%20%22dashArray%22%3A%20null%2C%20%22dashOffset%22%3A%20null%2C%20%22fill%22%3A%20true%2C%20%22fillColor%22%3A%20%22%238000ff%22%2C%20%22fillOpacity%22%3A%200.7%2C%20%22fillRule%22%3A%20%22evenodd%22%2C%20%22lineCap%22%3A%20%22round%22%2C%20%22lineJoin%22%3A%20%22round%22%2C%20%22opacity%22%3A%201.0%2C%20%22radius%22%3A%205%2C%20%22stroke%22%3A%20true%2C%20%22weight%22%3A%203%7D%0A%20%20%20%20%20%20%20%20%20%20%20%20%29.addTo%28map_a5a5d264a4c548d695ba7c6917d01407%29%3B%0A%20%20%20%20%20%20%20%20%0A%20%20%20%20%0A%20%20%20%20%20%20%20%20var%20popup_4a13c42ee2f542b1acddd0bc1e3f8b4e%20%3D%20L.popup%28%7B%22maxWidth%22%3A%20%22100%25%22%7D%29%3B%0A%0A%20%20%20%20%20%20%20%20%0A%20%20%20%20%20%20%20%20%20%20%20%20var%20html_707c74c37c7049f5b9d8f9df8b37fc0f%20%3D%20%24%28%60%3Cdiv%20id%3D%22html_707c74c37c7049f5b9d8f9df8b37fc0f%22%20style%3D%22width%3A%20100.0%25%3B%20height%3A%20100.0%25%3B%22%3E0%20%20%20%20%20%20%20%20%20East%20Toronto%201%20%20%20%20%20%20%20%20%20East%20Toronto%202%20%20%20%20%20%20%20%20%20East%20Toronto%203%20%20%20%20%20%20%20%20%20East%20Toronto%204%20%20%20%20%20%20Central%20Toronto%205%20%20%20%20%20%20Central%20Toronto%206%20%20%20%20%20%20Central%20Toronto%207%20%20%20%20%20%20Central%20Toronto%208%20%20%20%20%20%20Central%20Toronto%209%20%20%20%20%20%20Central%20Toronto%2010%20%20%20%20Downtown%20Toronto%2011%20%20%20%20Downtown%20Toronto%2012%20%20%20%20Downtown%20Toronto%2013%20%20%20%20Downtown%20Toronto%2014%20%20%20%20Downtown%20Toronto%2015%20%20%20%20Downtown%20Toronto%2016%20%20%20%20Downtown%20Toronto%2017%20%20%20%20Downtown%20Toronto%2018%20%20%20%20Downtown%20Toronto%2019%20%20%20%20Downtown%20Toronto%2020%20%20%20%20Downtown%20Toronto%2021%20%20%20%20Downtown%20Toronto%2022%20%20%20%20%20Central%20Toronto%2023%20%20%20%20%20Central%20Toronto%2024%20%20%20%20%20Central%20Toronto%2025%20%20%20%20Downtown%20Toronto%2026%20%20%20%20Downtown%20Toronto%2027%20%20%20%20Downtown%20Toronto%2028%20%20%20%20Downtown%20Toronto%2029%20%20%20%20Downtown%20Toronto%2030%20%20%20%20Downtown%20Toronto%2031%20%20%20%20%20%20%20%20West%20Toronto%2032%20%20%20%20%20%20%20%20West%20Toronto%2033%20%20%20%20%20%20%20%20West%20Toronto%2034%20%20%20%20%20%20%20%20West%20Toronto%2035%20%20%20%20%20%20%20%20West%20Toronto%2036%20%20%20%20%20%20%20%20West%20Toronto%2037%20%20%20%20Downtown%20Toronto%2038%20%20%20%20%20%20%20%20East%20Toronto%20Name%3A%20Borough%2C%20dtype%3A%20object%20Cluster%201%3C/div%3E%60%29%5B0%5D%3B%0A%20%20%20%20%20%20%20%20%20%20%20%20popup_4a13c42ee2f542b1acddd0bc1e3f8b4e.setContent%28html_707c74c37c7049f5b9d8f9df8b37fc0f%29%3B%0A%20%20%20%20%20%20%20%20%0A%0A%20%20%20%20%20%20%20%20circle_marker_ceebf66bd9554b6890962a7e92d4a248.bindPopup%28popup_4a13c42ee2f542b1acddd0bc1e3f8b4e%29%0A%20%20%20%20%20%20%20%20%3B%0A%0A%20%20%20%20%20%20%20%20%0A%20%20%20%20%0A%20%20%20%20%0A%20%20%20%20%20%20%20%20%20%20%20%20var%20circle_marker_de2f4b635db14520b747300bf3afa610%20%3D%20L.circleMarker%28%0A%20%20%20%20%20%20%20%20%20%20%20%20%20%20%20%20%5B43.6627439%2C%20-79.321558%5D%2C%0A%20%20%20%20%20%20%20%20%20%20%20%20%20%20%20%20%7B%22bubblingMouseEvents%22%3A%20true%2C%20%22color%22%3A%20%22%23ff0000%22%2C%20%22dashArray%22%3A%20null%2C%20%22dashOffset%22%3A%20null%2C%20%22fill%22%3A%20true%2C%20%22fillColor%22%3A%20%22%23ff0000%22%2C%20%22fillOpacity%22%3A%200.7%2C%20%22fillRule%22%3A%20%22evenodd%22%2C%20%22lineCap%22%3A%20%22round%22%2C%20%22lineJoin%22%3A%20%22round%22%2C%20%22opacity%22%3A%201.0%2C%20%22radius%22%3A%205%2C%20%22stroke%22%3A%20true%2C%20%22weight%22%3A%203%7D%0A%20%20%20%20%20%20%20%20%20%20%20%20%29.addTo%28map_a5a5d264a4c548d695ba7c6917d01407%29%3B%0A%20%20%20%20%20%20%20%20%0A%20%20%20%20%0A%20%20%20%20%20%20%20%20var%20popup_5d7294b86cba4ac5bb90b08c697426cb%20%3D%20L.popup%28%7B%22maxWidth%22%3A%20%22100%25%22%7D%29%3B%0A%0A%20%20%20%20%20%20%20%20%0A%20%20%20%20%20%20%20%20%20%20%20%20var%20html_5034bc503593432da4d2de9c20943ba3%20%3D%20%24%28%60%3Cdiv%20id%3D%22html_5034bc503593432da4d2de9c20943ba3%22%20style%3D%22width%3A%20100.0%25%3B%20height%3A%20100.0%25%3B%22%3E0%20%20%20%20%20%20%20%20%20East%20Toronto%201%20%20%20%20%20%20%20%20%20East%20Toronto%202%20%20%20%20%20%20%20%20%20East%20Toronto%203%20%20%20%20%20%20%20%20%20East%20Toronto%204%20%20%20%20%20%20Central%20Toronto%205%20%20%20%20%20%20Central%20Toronto%206%20%20%20%20%20%20Central%20Toronto%207%20%20%20%20%20%20Central%20Toronto%208%20%20%20%20%20%20Central%20Toronto%209%20%20%20%20%20%20Central%20Toronto%2010%20%20%20%20Downtown%20Toronto%2011%20%20%20%20Downtown%20Toronto%2012%20%20%20%20Downtown%20Toronto%2013%20%20%20%20Downtown%20Toronto%2014%20%20%20%20Downtown%20Toronto%2015%20%20%20%20Downtown%20Toronto%2016%20%20%20%20Downtown%20Toronto%2017%20%20%20%20Downtown%20Toronto%2018%20%20%20%20Downtown%20Toronto%2019%20%20%20%20Downtown%20Toronto%2020%20%20%20%20Downtown%20Toronto%2021%20%20%20%20Downtown%20Toronto%2022%20%20%20%20%20Central%20Toronto%2023%20%20%20%20%20Central%20Toronto%2024%20%20%20%20%20Central%20Toronto%2025%20%20%20%20Downtown%20Toronto%2026%20%20%20%20Downtown%20Toronto%2027%20%20%20%20Downtown%20Toronto%2028%20%20%20%20Downtown%20Toronto%2029%20%20%20%20Downtown%20Toronto%2030%20%20%20%20Downtown%20Toronto%2031%20%20%20%20%20%20%20%20West%20Toronto%2032%20%20%20%20%20%20%20%20West%20Toronto%2033%20%20%20%20%20%20%20%20West%20Toronto%2034%20%20%20%20%20%20%20%20West%20Toronto%2035%20%20%20%20%20%20%20%20West%20Toronto%2036%20%20%20%20%20%20%20%20West%20Toronto%2037%20%20%20%20Downtown%20Toronto%2038%20%20%20%20%20%20%20%20East%20Toronto%20Name%3A%20Borough%2C%20dtype%3A%20object%20Cluster%204%3C/div%3E%60%29%5B0%5D%3B%0A%20%20%20%20%20%20%20%20%20%20%20%20popup_5d7294b86cba4ac5bb90b08c697426cb.setContent%28html_5034bc503593432da4d2de9c20943ba3%29%3B%0A%20%20%20%20%20%20%20%20%0A%0A%20%20%20%20%20%20%20%20circle_marker_de2f4b635db14520b747300bf3afa610.bindPopup%28popup_5d7294b86cba4ac5bb90b08c697426cb%29%0A%20%20%20%20%20%20%20%20%3B%0A%0A%20%20%20%20%20%20%20%20%0A%20%20%20%20%0A%3C/script%3E onload=\"this.contentDocument.open();this.contentDocument.write(    decodeURIComponent(this.getAttribute('data-html')));this.contentDocument.close();\" allowfullscreen webkitallowfullscreen mozallowfullscreen></iframe></div></div>"
      ],
      "text/plain": [
       "<folium.folium.Map at 0x1e8df8586a0>"
      ]
     },
     "execution_count": 16,
     "metadata": {},
     "output_type": "execute_result"
    }
   ],
   "source": [
    "map_toronto"
   ]
  },
  {
   "cell_type": "code",
   "execution_count": null,
   "metadata": {},
   "outputs": [],
   "source": []
  }
 ],
 "metadata": {
  "kernelspec": {
   "display_name": "Python 3",
   "language": "python",
   "name": "python3"
  },
  "language_info": {
   "codemirror_mode": {
    "name": "ipython",
    "version": 3
   },
   "file_extension": ".py",
   "mimetype": "text/x-python",
   "name": "python",
   "nbconvert_exporter": "python",
   "pygments_lexer": "ipython3",
   "version": "3.8.3"
  }
 },
 "nbformat": 4,
 "nbformat_minor": 4
}
